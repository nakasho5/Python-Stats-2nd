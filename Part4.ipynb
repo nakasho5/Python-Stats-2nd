{
 "cells": [
  {
   "cell_type": "code",
   "execution_count": 1,
   "id": "e706d3e4",
   "metadata": {},
   "outputs": [],
   "source": [
    "import numpy as np\n",
    "import pandas as pd\n",
    "from scipy import stats\n",
    "\n",
    "import matplotlib.pyplot as plt\n",
    "import seaborn as sns\n",
    "sns.set()"
   ]
  },
  {
   "cell_type": "code",
   "execution_count": 2,
   "id": "0574aac3",
   "metadata": {},
   "outputs": [
    {
     "data": {
      "text/plain": [
       "0.242"
      ]
     },
     "execution_count": 2,
     "metadata": {},
     "output_type": "execute_result"
    }
   ],
   "source": [
    "round(stats.norm.pdf(loc=4, scale=1, x=3), 3)"
   ]
  },
  {
   "cell_type": "code",
   "execution_count": 3,
   "id": "44009bc9",
   "metadata": {},
   "outputs": [
    {
     "data": {
      "text/plain": [
       "0.242"
      ]
     },
     "execution_count": 3,
     "metadata": {},
     "output_type": "execute_result"
    }
   ],
   "source": [
    "norm_dist = stats.norm(loc=4, scale=1)\n",
    "round(norm_dist.pdf(x = 3), 3)"
   ]
  },
  {
   "cell_type": "code",
   "execution_count": 4,
   "id": "f05d306f",
   "metadata": {},
   "outputs": [
    {
     "data": {
      "text/html": [
       "<div>\n",
       "<style scoped>\n",
       "    .dataframe tbody tr th:only-of-type {\n",
       "        vertical-align: middle;\n",
       "    }\n",
       "\n",
       "    .dataframe tbody tr th {\n",
       "        vertical-align: top;\n",
       "    }\n",
       "\n",
       "    .dataframe thead th {\n",
       "        text-align: right;\n",
       "    }\n",
       "</style>\n",
       "<table border=\"1\" class=\"dataframe\">\n",
       "  <thead>\n",
       "    <tr style=\"text-align: right;\">\n",
       "      <th></th>\n",
       "      <th>x</th>\n",
       "      <th>density</th>\n",
       "    </tr>\n",
       "  </thead>\n",
       "  <tbody>\n",
       "    <tr>\n",
       "      <th>0</th>\n",
       "      <td>0.0</td>\n",
       "      <td>0.000134</td>\n",
       "    </tr>\n",
       "    <tr>\n",
       "      <th>1</th>\n",
       "      <td>0.1</td>\n",
       "      <td>0.000199</td>\n",
       "    </tr>\n",
       "    <tr>\n",
       "      <th>2</th>\n",
       "      <td>0.2</td>\n",
       "      <td>0.000292</td>\n",
       "    </tr>\n",
       "  </tbody>\n",
       "</table>\n",
       "</div>"
      ],
      "text/plain": [
       "     x   density\n",
       "0  0.0  0.000134\n",
       "1  0.1  0.000199\n",
       "2  0.2  0.000292"
      ]
     },
     "execution_count": 4,
     "metadata": {},
     "output_type": "execute_result"
    }
   ],
   "source": [
    "x = np.arange(0, 8, 0.1)\n",
    "\n",
    "density = stats.norm.pdf(x=x, loc=4, scale=1)\n",
    "\n",
    "density_df = pd.DataFrame({\n",
    "    'x': x,\n",
    "    'density': density\n",
    "})\n",
    "\n",
    "density_df.head(3)"
   ]
  },
  {
   "cell_type": "code",
   "execution_count": 5,
   "id": "9eb7d2dc",
   "metadata": {},
   "outputs": [
    {
     "data": {
      "text/plain": [
       "<AxesSubplot:>"
      ]
     },
     "execution_count": 5,
     "metadata": {},
     "output_type": "execute_result"
    },
    {
     "data": {
      "image/png": "[encoded data removed]",
      "text/plain": [
       "<Figure size 432x288 with 1 Axes>"
      ]
     },
     "metadata": {},
     "output_type": "display_data"
    }
   ],
   "source": [
    "sns.lineplot(x=x, y=density, data=density_df, color='black')"
   ]
  },
  {
   "cell_type": "code",
   "execution_count": 6,
   "id": "57deea41",
   "metadata": {},
   "outputs": [],
   "source": [
    "n_noise = 10000\n",
    "location = 4\n",
    "noise = np.array([-0.01, 0.01])"
   ]
  },
  {
   "cell_type": "code",
   "execution_count": 7,
   "id": "bc84f465",
   "metadata": {},
   "outputs": [
    {
     "data": {
      "text/plain": [
       "3.52"
      ]
     },
     "execution_count": 7,
     "metadata": {},
     "output_type": "execute_result"
    }
   ],
   "source": [
    "np.random.seed(5)\n",
    "location + np.sum(np.random.choice(noise, size=n_noise, replace=True))"
   ]
  },
  {
   "cell_type": "code",
   "execution_count": 8,
   "id": "3a974070",
   "metadata": {},
   "outputs": [
    {
     "data": {
      "text/plain": [
       "2.62"
      ]
     },
     "execution_count": 8,
     "metadata": {},
     "output_type": "execute_result"
    }
   ],
   "source": [
    "location + np.sum(np.random.choice(noise, size=n_noise, replace=True))"
   ]
  },
  {
   "cell_type": "code",
   "execution_count": 9,
   "id": "79a31947",
   "metadata": {},
   "outputs": [],
   "source": [
    "n_trial = 50000\n",
    "\n",
    "observation_result = np.zeros(n_trial)\n",
    "\n",
    "np.random.seed(1)\n",
    "for i in range(0, n_trial):\n",
    "    observation_result[i] = location + np.sum(np.random.choice(noise, size=n_noise, replace=True))"
   ]
  },
  {
   "cell_type": "code",
   "execution_count": 10,
   "id": "54f496d5",
   "metadata": {},
   "outputs": [
    {
     "name": "stdout",
     "output_type": "stream",
     "text": [
      "平均: 4.0\n",
      "分散: 1.0\n"
     ]
    }
   ],
   "source": [
    "x_bar = np.mean(observation_result)\n",
    "u2 = np.var(observation_result, ddof=1)\n",
    "print('平均:', round(x_bar, 1))\n",
    "print('分散:', round(u2, 1))"
   ]
  },
  {
   "cell_type": "code",
   "execution_count": 11,
   "id": "f80cfe62",
   "metadata": {},
   "outputs": [
    {
     "data": {
      "text/plain": [
       "<AxesSubplot:ylabel='Density'>"
      ]
     },
     "execution_count": 11,
     "metadata": {},
     "output_type": "execute_result"
    },
    {
     "data": {
      "image/png": "[encoded data removed]",
      "text/plain": [
       "<Figure size 432x288 with 1 Axes>"
      ]
     },
     "metadata": {},
     "output_type": "display_data"
    }
   ],
   "source": [
    "sns.histplot(observation_result, bins=20, stat='density', color='gray')\n",
    "\n",
    "sns.lineplot(x=x, y=density, data=density_df, color='black')"
   ]
  },
  {
   "cell_type": "code",
   "execution_count": 13,
   "id": "d7092afc",
   "metadata": {},
   "outputs": [
    {
     "data": {
      "text/plain": [
       "array([5.62434536, 3.38824359, 3.47182825, 2.92703138, 4.86540763,\n",
       "       1.6984613 , 5.74481176, 3.2387931 ])"
      ]
     },
     "execution_count": 13,
     "metadata": {},
     "output_type": "execute_result"
    }
   ],
   "source": [
    "np.random.seed(1)\n",
    "simulated_sample = stats.norm.rvs(loc=4, scale=1, size=8)\n",
    "simulated_sample"
   ]
  },
  {
   "cell_type": "code",
   "execution_count": 14,
   "id": "c93fe131",
   "metadata": {},
   "outputs": [
    {
     "data": {
      "text/plain": [
       "0.159"
      ]
     },
     "execution_count": 14,
     "metadata": {},
     "output_type": "execute_result"
    }
   ],
   "source": [
    "round(stats.norm.cdf(loc=4, scale=1, x=3), 3)"
   ]
  },
  {
   "cell_type": "code",
   "execution_count": 15,
   "id": "232abff4",
   "metadata": {},
   "outputs": [
    {
     "data": {
      "text/plain": [
       "0.5"
      ]
     },
     "execution_count": 15,
     "metadata": {},
     "output_type": "execute_result"
    }
   ],
   "source": [
    "round(stats.norm.cdf(loc=4, scale=1, x=4), 3)"
   ]
  },
  {
   "cell_type": "code",
   "execution_count": 16,
   "id": "d75820da",
   "metadata": {},
   "outputs": [
    {
     "data": {
      "text/plain": [
       "2.04"
      ]
     },
     "execution_count": 16,
     "metadata": {},
     "output_type": "execute_result"
    }
   ],
   "source": [
    "round(stats.norm.ppf(loc=4, scale=1, q=0.025), 3)"
   ]
  },
  {
   "cell_type": "code",
   "execution_count": 17,
   "id": "6d69270a",
   "metadata": {},
   "outputs": [
    {
     "data": {
      "text/plain": [
       "4.0"
      ]
     },
     "execution_count": 17,
     "metadata": {},
     "output_type": "execute_result"
    }
   ],
   "source": [
    "round(stats.norm.ppf(loc=4, scale=1, q=0.5), 3)"
   ]
  },
  {
   "cell_type": "code",
   "execution_count": 18,
   "id": "19192f82",
   "metadata": {},
   "outputs": [
    {
     "data": {
      "text/plain": [
       "0.841"
      ]
     },
     "execution_count": 18,
     "metadata": {},
     "output_type": "execute_result"
    }
   ],
   "source": [
    "round(stats.norm.sf(loc=4, scale=1, x=3), 3)"
   ]
  },
  {
   "cell_type": "code",
   "execution_count": null,
   "id": "5fa91d8a",
   "metadata": {},
   "outputs": [],
   "source": []
  }
 ],
 "metadata": {
  "kernelspec": {
   "display_name": "Python 3 (ipykernel)",
   "language": "python",
   "name": "python3"
  },
  "language_info": {
   "codemirror_mode": {
    "name": "ipython",
    "version": 3
   },
   "file_extension": ".py",
   "mimetype": "text/x-python",
   "name": "python",
   "nbconvert_exporter": "python",
   "pygments_lexer": "ipython3",
   "version": "3.9.7"
  }
 },
 "nbformat": 4,
 "nbformat_minor": 5
}

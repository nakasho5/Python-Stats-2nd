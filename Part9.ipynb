{
 "cells": [
  {
   "cell_type": "code",
   "execution_count": 1,
   "id": "f529efee",
   "metadata": {},
   "outputs": [
    {
     "name": "stderr",
     "output_type": "stream",
     "text": [
      "/Users/shonakamura/opt/anaconda3/lib/python3.9/site-packages/statsmodels/tsa/base/tsa_model.py:7: FutureWarning: pandas.Int64Index is deprecated and will be removed from pandas in a future version. Use pandas.Index with the appropriate dtype instead.\n",
      "  from pandas import (to_datetime, Int64Index, DatetimeIndex, Period,\n",
      "/Users/shonakamura/opt/anaconda3/lib/python3.9/site-packages/statsmodels/tsa/base/tsa_model.py:7: FutureWarning: pandas.Float64Index is deprecated and will be removed from pandas in a future version. Use pandas.Index with the appropriate dtype instead.\n",
      "  from pandas import (to_datetime, Int64Index, DatetimeIndex, Period,\n"
     ]
    }
   ],
   "source": [
    "import numpy as np\n",
    "import pandas as pd\n",
    "from scipy import stats\n",
    "\n",
    "pd.set_option('display.precision', 3)\n",
    "np.set_printoptions(precision=3)\n",
    "\n",
    "import matplotlib.pyplot as plt\n",
    "import seaborn as sns\n",
    "sns.set()\n",
    "\n",
    "import statsmodels.formula.api as smf\n",
    "import statsmodels.api as sm"
   ]
  },
  {
   "cell_type": "code",
   "execution_count": 2,
   "id": "875f56bc",
   "metadata": {},
   "outputs": [
    {
     "data": {
      "text/html": [
       "<div>\n",
       "<style scoped>\n",
       "    .dataframe tbody tr th:only-of-type {\n",
       "        vertical-align: middle;\n",
       "    }\n",
       "\n",
       "    .dataframe tbody tr th {\n",
       "        vertical-align: top;\n",
       "    }\n",
       "\n",
       "    .dataframe thead th {\n",
       "        text-align: right;\n",
       "    }\n",
       "</style>\n",
       "<table border=\"1\" class=\"dataframe\">\n",
       "  <thead>\n",
       "    <tr style=\"text-align: right;\">\n",
       "      <th></th>\n",
       "      <th>hours</th>\n",
       "      <th>result</th>\n",
       "    </tr>\n",
       "  </thead>\n",
       "  <tbody>\n",
       "    <tr>\n",
       "      <th>0</th>\n",
       "      <td>0</td>\n",
       "      <td>0</td>\n",
       "    </tr>\n",
       "    <tr>\n",
       "      <th>1</th>\n",
       "      <td>0</td>\n",
       "      <td>0</td>\n",
       "    </tr>\n",
       "    <tr>\n",
       "      <th>2</th>\n",
       "      <td>0</td>\n",
       "      <td>0</td>\n",
       "    </tr>\n",
       "    <tr>\n",
       "      <th>3</th>\n",
       "      <td>0</td>\n",
       "      <td>0</td>\n",
       "    </tr>\n",
       "    <tr>\n",
       "      <th>4</th>\n",
       "      <td>0</td>\n",
       "      <td>0</td>\n",
       "    </tr>\n",
       "  </tbody>\n",
       "</table>\n",
       "</div>"
      ],
      "text/plain": [
       "   hours  result\n",
       "0      0       0\n",
       "1      0       0\n",
       "2      0       0\n",
       "3      0       0\n",
       "4      0       0"
      ]
     },
     "execution_count": 2,
     "metadata": {},
     "output_type": "execute_result"
    }
   ],
   "source": [
    "test_result = pd.read_csv('9-2-1-logistic-regression.csv')\n",
    "test_result.head()"
   ]
  },
  {
   "cell_type": "code",
   "execution_count": 3,
   "id": "2aa160a7",
   "metadata": {},
   "outputs": [
    {
     "data": {
      "text/plain": [
       "<AxesSubplot:xlabel='hours', ylabel='result'>"
      ]
     },
     "execution_count": 3,
     "metadata": {},
     "output_type": "execute_result"
    },
    {
     "data": {
      "image/png": "[encoded data removed]",
      "text/plain": [
       "<Figure size 432x288 with 1 Axes>"
      ]
     },
     "metadata": {},
     "output_type": "display_data"
    }
   ],
   "source": [
    "sns.barplot(x='hours', y='result', data=test_result, palette='gray_r')"
   ]
  },
  {
   "cell_type": "code",
   "execution_count": 4,
   "id": "7017d48c",
   "metadata": {},
   "outputs": [
    {
     "data": {
      "text/html": [
       "<div>\n",
       "<style scoped>\n",
       "    .dataframe tbody tr th:only-of-type {\n",
       "        vertical-align: middle;\n",
       "    }\n",
       "\n",
       "    .dataframe tbody tr th {\n",
       "        vertical-align: top;\n",
       "    }\n",
       "\n",
       "    .dataframe thead th {\n",
       "        text-align: right;\n",
       "    }\n",
       "</style>\n",
       "<table border=\"1\" class=\"dataframe\">\n",
       "  <thead>\n",
       "    <tr style=\"text-align: right;\">\n",
       "      <th></th>\n",
       "      <th>result</th>\n",
       "    </tr>\n",
       "    <tr>\n",
       "      <th>hours</th>\n",
       "      <th></th>\n",
       "    </tr>\n",
       "  </thead>\n",
       "  <tbody>\n",
       "    <tr>\n",
       "      <th>0</th>\n",
       "      <td>0.0</td>\n",
       "    </tr>\n",
       "    <tr>\n",
       "      <th>1</th>\n",
       "      <td>0.0</td>\n",
       "    </tr>\n",
       "    <tr>\n",
       "      <th>2</th>\n",
       "      <td>0.1</td>\n",
       "    </tr>\n",
       "    <tr>\n",
       "      <th>3</th>\n",
       "      <td>0.1</td>\n",
       "    </tr>\n",
       "    <tr>\n",
       "      <th>4</th>\n",
       "      <td>0.4</td>\n",
       "    </tr>\n",
       "    <tr>\n",
       "      <th>5</th>\n",
       "      <td>0.4</td>\n",
       "    </tr>\n",
       "    <tr>\n",
       "      <th>6</th>\n",
       "      <td>0.9</td>\n",
       "    </tr>\n",
       "    <tr>\n",
       "      <th>7</th>\n",
       "      <td>0.8</td>\n",
       "    </tr>\n",
       "    <tr>\n",
       "      <th>8</th>\n",
       "      <td>0.9</td>\n",
       "    </tr>\n",
       "    <tr>\n",
       "      <th>9</th>\n",
       "      <td>1.0</td>\n",
       "    </tr>\n",
       "  </tbody>\n",
       "</table>\n",
       "</div>"
      ],
      "text/plain": [
       "       result\n",
       "hours        \n",
       "0         0.0\n",
       "1         0.0\n",
       "2         0.1\n",
       "3         0.1\n",
       "4         0.4\n",
       "5         0.4\n",
       "6         0.9\n",
       "7         0.8\n",
       "8         0.9\n",
       "9         1.0"
      ]
     },
     "execution_count": 4,
     "metadata": {},
     "output_type": "execute_result"
    }
   ],
   "source": [
    "test_result.groupby('hours').mean()"
   ]
  },
  {
   "cell_type": "code",
   "execution_count": 5,
   "id": "a2c70855",
   "metadata": {},
   "outputs": [],
   "source": [
    "mod_glm = smf.glm(formula='result ~ hours', data=test_result, family=sm.families.Binomial()).fit()"
   ]
  },
  {
   "cell_type": "code",
   "execution_count": 6,
   "id": "9261883f",
   "metadata": {},
   "outputs": [
    {
     "data": {
      "text/html": [
       "<table class=\"simpletable\">\n",
       "<caption>Generalized Linear Model Regression Results</caption>\n",
       "<tr>\n",
       "  <th>Dep. Variable:</th>        <td>result</td>      <th>  No. Observations:  </th>  <td>   100</td> \n",
       "</tr>\n",
       "<tr>\n",
       "  <th>Model:</th>                  <td>GLM</td>       <th>  Df Residuals:      </th>  <td>    98</td> \n",
       "</tr>\n",
       "<tr>\n",
       "  <th>Model Family:</th>        <td>Binomial</td>     <th>  Df Model:          </th>  <td>     1</td> \n",
       "</tr>\n",
       "<tr>\n",
       "  <th>Link Function:</th>         <td>logit</td>      <th>  Scale:             </th> <td>  1.0000</td>\n",
       "</tr>\n",
       "<tr>\n",
       "  <th>Method:</th>                <td>IRLS</td>       <th>  Log-Likelihood:    </th> <td> -34.014</td>\n",
       "</tr>\n",
       "<tr>\n",
       "  <th>Date:</th>            <td>Mon, 22 May 2023</td> <th>  Deviance:          </th> <td>  68.028</td>\n",
       "</tr>\n",
       "<tr>\n",
       "  <th>Time:</th>                <td>19:56:47</td>     <th>  Pearson chi2:      </th>  <td>  84.9</td> \n",
       "</tr>\n",
       "<tr>\n",
       "  <th>No. Iterations:</th>          <td>6</td>        <th>                     </th>     <td> </td>   \n",
       "</tr>\n",
       "<tr>\n",
       "  <th>Covariance Type:</th>     <td>nonrobust</td>    <th>                     </th>     <td> </td>   \n",
       "</tr>\n",
       "</table>\n",
       "<table class=\"simpletable\">\n",
       "<tr>\n",
       "      <td></td>         <th>coef</th>     <th>std err</th>      <th>z</th>      <th>P>|z|</th>  <th>[0.025</th>    <th>0.975]</th>  \n",
       "</tr>\n",
       "<tr>\n",
       "  <th>Intercept</th> <td>   -4.5587</td> <td>    0.901</td> <td>   -5.061</td> <td> 0.000</td> <td>   -6.324</td> <td>   -2.793</td>\n",
       "</tr>\n",
       "<tr>\n",
       "  <th>hours</th>     <td>    0.9289</td> <td>    0.174</td> <td>    5.345</td> <td> 0.000</td> <td>    0.588</td> <td>    1.270</td>\n",
       "</tr>\n",
       "</table>"
      ],
      "text/plain": [
       "<class 'statsmodels.iolib.summary.Summary'>\n",
       "\"\"\"\n",
       "                 Generalized Linear Model Regression Results                  \n",
       "==============================================================================\n",
       "Dep. Variable:                 result   No. Observations:                  100\n",
       "Model:                            GLM   Df Residuals:                       98\n",
       "Model Family:                Binomial   Df Model:                            1\n",
       "Link Function:                  logit   Scale:                          1.0000\n",
       "Method:                          IRLS   Log-Likelihood:                -34.014\n",
       "Date:                Mon, 22 May 2023   Deviance:                       68.028\n",
       "Time:                        19:56:47   Pearson chi2:                     84.9\n",
       "No. Iterations:                     6                                         \n",
       "Covariance Type:            nonrobust                                         \n",
       "==============================================================================\n",
       "                 coef    std err          z      P>|z|      [0.025      0.975]\n",
       "------------------------------------------------------------------------------\n",
       "Intercept     -4.5587      0.901     -5.061      0.000      -6.324      -2.793\n",
       "hours          0.9289      0.174      5.345      0.000       0.588       1.270\n",
       "==============================================================================\n",
       "\"\"\""
      ]
     },
     "execution_count": 6,
     "metadata": {},
     "output_type": "execute_result"
    }
   ],
   "source": [
    "mod_glm.summary()"
   ]
  },
  {
   "cell_type": "code",
   "execution_count": 7,
   "id": "daf75809",
   "metadata": {},
   "outputs": [],
   "source": [
    "mod_glm_null = smf.glm('result ~ 1', data=test_result, family=sm.families.Binomial()).fit()"
   ]
  },
  {
   "cell_type": "code",
   "execution_count": 8,
   "id": "9a133f78",
   "metadata": {},
   "outputs": [
    {
     "name": "stdout",
     "output_type": "stream",
     "text": [
      "Nullモデル： 139.989\n",
      "変数入りモデル： 72.028\n"
     ]
    }
   ],
   "source": [
    "print('Nullモデル：', round(mod_glm_null.aic, 3))\n",
    "print('変数入りモデル：', round(mod_glm.aic, 3))"
   ]
  },
  {
   "cell_type": "code",
   "execution_count": 9,
   "id": "36cb09d5",
   "metadata": {},
   "outputs": [
    {
     "data": {
      "text/plain": [
       "0    0.010\n",
       "1    0.026\n",
       "2    0.063\n",
       "3    0.145\n",
       "4    0.301\n",
       "5    0.521\n",
       "6    0.734\n",
       "7    0.875\n",
       "8    0.946\n",
       "9    0.978\n",
       "dtype: float64"
      ]
     },
     "execution_count": 9,
     "metadata": {},
     "output_type": "execute_result"
    }
   ],
   "source": [
    "exp_val = pd.DataFrame({'hours': np.arange(0, 10, 1)})\n",
    "\n",
    "pred = mod_glm.predict(exp_val)\n",
    "pred"
   ]
  },
  {
   "cell_type": "code",
   "execution_count": 10,
   "id": "3e345be2",
   "metadata": {},
   "outputs": [
    {
     "data": {
      "text/plain": [
       "0.978"
      ]
     },
     "execution_count": 10,
     "metadata": {},
     "output_type": "execute_result"
    }
   ],
   "source": [
    "beta0 = mod_glm.params[0]\n",
    "beta1 = mod_glm.params[1]\n",
    "hour = 9\n",
    "\n",
    "round(1 / (1 + np.exp(-(beta0 + beta1 * hour))), 3)"
   ]
  },
  {
   "cell_type": "code",
   "execution_count": 11,
   "id": "a3345c98",
   "metadata": {},
   "outputs": [
    {
     "data": {
      "text/plain": [
       "<seaborn.axisgrid.FacetGrid at 0x7f86194df6a0>"
      ]
     },
     "execution_count": 11,
     "metadata": {},
     "output_type": "execute_result"
    },
    {
     "data": {
      "image/png": "[encoded data removed]",
      "text/plain": [
       "<Figure size 576x288 with 1 Axes>"
      ]
     },
     "metadata": {},
     "output_type": "display_data"
    }
   ],
   "source": [
    "sns.lmplot(x='hours', y='result', data=test_result, logistic=True, scatter_kws={'color': 'black'},\n",
    "           line_kws={'color': 'black'}, x_jitter=0.1, y_jitter=0.2, ci=None, height=4, aspect=2)"
   ]
  },
  {
   "cell_type": "code",
   "execution_count": 12,
   "id": "e1a935ba",
   "metadata": {},
   "outputs": [],
   "source": [
    "exp_val_1 = pd.DataFrame({'hours': [1]})\n",
    "pred_1 = mod_glm.predict(exp_val_1)\n",
    "\n",
    "exp_val_2 = pd.DataFrame({'hours': [2]})\n",
    "pred_2 = mod_glm.predict(exp_val_2)"
   ]
  },
  {
   "cell_type": "code",
   "execution_count": 13,
   "id": "1875f7b1",
   "metadata": {},
   "outputs": [
    {
     "data": {
      "text/plain": [
       "0    0.929\n",
       "dtype: float64"
      ]
     },
     "execution_count": 13,
     "metadata": {},
     "output_type": "execute_result"
    }
   ],
   "source": [
    "odds_1 = pred_1 / (1 - pred_1)\n",
    "odds_2 = pred_2 / (1 - pred_2)\n",
    "\n",
    "log_odds_ratio = np.log(odds_2 / odds_1)\n",
    "log_odds_ratio"
   ]
  },
  {
   "cell_type": "code",
   "execution_count": 14,
   "id": "50673833",
   "metadata": {},
   "outputs": [
    {
     "data": {
      "text/plain": [
       "0.929"
      ]
     },
     "execution_count": 14,
     "metadata": {},
     "output_type": "execute_result"
    }
   ],
   "source": [
    "round(mod_glm.params['hours'], 3)"
   ]
  },
  {
   "cell_type": "code",
   "execution_count": 15,
   "id": "ad57a805",
   "metadata": {},
   "outputs": [
    {
     "data": {
      "text/plain": [
       "2.532"
      ]
     },
     "execution_count": 15,
     "metadata": {},
     "output_type": "execute_result"
    }
   ],
   "source": [
    "round(np.exp(mod_glm.params['hours']), 3)"
   ]
  },
  {
   "cell_type": "code",
   "execution_count": 16,
   "id": "0609e563",
   "metadata": {},
   "outputs": [],
   "source": [
    "import numpy as np\n",
    "import pandas as pd\n",
    "from scipy import stats\n",
    "\n",
    "pd.set_option('display.precision', 3)\n",
    "np.set_printoptions(precision=3)\n",
    "\n",
    "import statsmodels.formula.api as smf\n",
    "import statsmodels.api as sm"
   ]
  },
  {
   "cell_type": "code",
   "execution_count": 17,
   "id": "1531b3c4",
   "metadata": {},
   "outputs": [],
   "source": [
    "test_result = pd.read_csv('9-2-1-logistic-regression.csv')\n",
    "\n",
    "mod_glm = smf.glm(formula='result ~ hours', data=test_result, family=sm.families.Binomial()).fit()"
   ]
  },
  {
   "cell_type": "code",
   "execution_count": 18,
   "id": "2f08d75c",
   "metadata": {},
   "outputs": [
    {
     "data": {
      "text/plain": [
       "0   -0.102\n",
       "1   -0.102\n",
       "2   -0.102\n",
       "3   -0.102\n",
       "4   -0.102\n",
       "Name: result, dtype: float64"
      ]
     },
     "execution_count": 18,
     "metadata": {},
     "output_type": "execute_result"
    }
   ],
   "source": [
    "pred = mod_glm.predict()\n",
    "\n",
    "y = test_result.result\n",
    "\n",
    "peason_resid = (y - pred) / np.sqrt(pred * (1 - pred))\n",
    "peason_resid.head()"
   ]
  },
  {
   "cell_type": "code",
   "execution_count": 19,
   "id": "11b56a55",
   "metadata": {},
   "outputs": [
    {
     "data": {
      "text/plain": [
       "0   -0.102\n",
       "1   -0.102\n",
       "2   -0.102\n",
       "3   -0.102\n",
       "4   -0.102\n",
       "dtype: float64"
      ]
     },
     "execution_count": 19,
     "metadata": {},
     "output_type": "execute_result"
    }
   ],
   "source": [
    "mod_glm.resid_pearson.head()"
   ]
  },
  {
   "cell_type": "code",
   "execution_count": 20,
   "id": "ee90ff47",
   "metadata": {},
   "outputs": [
    {
     "data": {
      "text/plain": [
       "84.911"
      ]
     },
     "execution_count": 20,
     "metadata": {},
     "output_type": "execute_result"
    }
   ],
   "source": [
    "round(np.sum(mod_glm.resid_pearson**2), 3)"
   ]
  },
  {
   "cell_type": "code",
   "execution_count": 21,
   "id": "720c95b5",
   "metadata": {},
   "outputs": [
    {
     "data": {
      "text/plain": [
       "84.911"
      ]
     },
     "execution_count": 21,
     "metadata": {},
     "output_type": "execute_result"
    }
   ],
   "source": [
    "round(mod_glm.pearson_chi2, 3)"
   ]
  },
  {
   "cell_type": "code",
   "execution_count": 22,
   "id": "02abcacf",
   "metadata": {},
   "outputs": [
    {
     "data": {
      "text/plain": [
       "0   -0.144\n",
       "1   -0.144\n",
       "2   -0.144\n",
       "3   -0.144\n",
       "4   -0.144\n",
       "Name: result, dtype: float64"
      ]
     },
     "execution_count": 22,
     "metadata": {},
     "output_type": "execute_result"
    }
   ],
   "source": [
    "pred = mod_glm.predict()\n",
    "\n",
    "y = test_result.result\n",
    "\n",
    "resid_tmp = 0 - np.log(stats.binom.pmf(k = y, n = 1, p = pred))\n",
    "\n",
    "deviance_resid = np.sqrt(2 * resid_tmp) * np.sign(y - pred)\n",
    "\n",
    "deviance_resid.head()"
   ]
  },
  {
   "cell_type": "code",
   "execution_count": 23,
   "id": "46038e6f",
   "metadata": {},
   "outputs": [
    {
     "data": {
      "text/plain": [
       "0   -0.144\n",
       "1   -0.144\n",
       "2   -0.144\n",
       "3   -0.144\n",
       "4   -0.144\n",
       "dtype: float64"
      ]
     },
     "execution_count": 23,
     "metadata": {},
     "output_type": "execute_result"
    }
   ],
   "source": [
    "mod_glm.resid_deviance.head()"
   ]
  },
  {
   "cell_type": "code",
   "execution_count": 24,
   "id": "a26f4f61",
   "metadata": {},
   "outputs": [
    {
     "data": {
      "text/plain": [
       "68.028"
      ]
     },
     "execution_count": 24,
     "metadata": {},
     "output_type": "execute_result"
    }
   ],
   "source": [
    "deviance = np.sum(mod_glm.resid_deviance ** 2)\n",
    "round(deviance, 3)"
   ]
  },
  {
   "cell_type": "code",
   "execution_count": 25,
   "id": "0b3e8c13",
   "metadata": {},
   "outputs": [
    {
     "data": {
      "text/plain": [
       "-34.014"
      ]
     },
     "execution_count": 25,
     "metadata": {},
     "output_type": "execute_result"
    }
   ],
   "source": [
    "loglik = sum(np.log(stats.binom.pmf(k=y, n=1, p=pred)))\n",
    "round(loglik, 3)"
   ]
  },
  {
   "cell_type": "code",
   "execution_count": 26,
   "id": "bb65ff37",
   "metadata": {},
   "outputs": [
    {
     "data": {
      "text/plain": [
       "-34.014"
      ]
     },
     "execution_count": 26,
     "metadata": {},
     "output_type": "execute_result"
    }
   ],
   "source": [
    "round(mod_glm.llf, 3)"
   ]
  },
  {
   "cell_type": "code",
   "execution_count": 27,
   "id": "864228fb",
   "metadata": {},
   "outputs": [
    {
     "data": {
      "text/plain": [
       "68.028"
      ]
     },
     "execution_count": 27,
     "metadata": {},
     "output_type": "execute_result"
    }
   ],
   "source": [
    "round(2 * (0 - mod_glm.llf), 3)"
   ]
  },
  {
   "cell_type": "code",
   "execution_count": 28,
   "id": "85d9c21e",
   "metadata": {},
   "outputs": [
    {
     "data": {
      "text/plain": [
       "68.028"
      ]
     },
     "execution_count": 28,
     "metadata": {},
     "output_type": "execute_result"
    }
   ],
   "source": [
    "round(mod_glm.deviance, 3)"
   ]
  },
  {
   "cell_type": "code",
   "execution_count": 29,
   "id": "a34afde9",
   "metadata": {},
   "outputs": [],
   "source": [
    "import numpy as np\n",
    "import pandas as pd\n",
    "from scipy import stats\n",
    "\n",
    "pd.set_option('display.precision', 3)\n",
    "np.set_printoptions(precision=3)\n",
    "\n",
    "import matplotlib.pyplot as plt\n",
    "import seaborn as sns\n",
    "sns.set()\n",
    "\n",
    "import statsmodels.formula.api as smf\n",
    "import statsmodels.api as sm"
   ]
  },
  {
   "cell_type": "code",
   "execution_count": 30,
   "id": "72b10ac9",
   "metadata": {},
   "outputs": [
    {
     "data": {
      "text/plain": [
       "0.271"
      ]
     },
     "execution_count": 30,
     "metadata": {},
     "output_type": "execute_result"
    }
   ],
   "source": [
    "round(stats.poisson.pmf(k=1, mu=2), 3)"
   ]
  },
  {
   "cell_type": "code",
   "execution_count": 31,
   "id": "737194e4",
   "metadata": {},
   "outputs": [
    {
     "data": {
      "text/plain": [
       "array([2, 1, 0, 1, 2])"
      ]
     },
     "execution_count": 31,
     "metadata": {},
     "output_type": "execute_result"
    }
   ],
   "source": [
    "np.random.seed(1)\n",
    "stats.poisson.rvs(mu=2, size=5)"
   ]
  },
  {
   "cell_type": "code",
   "execution_count": 33,
   "id": "5d656e5c",
   "metadata": {},
   "outputs": [
    {
     "data": {
      "text/plain": [
       "<AxesSubplot:>"
      ]
     },
     "execution_count": 33,
     "metadata": {},
     "output_type": "execute_result"
    },
    {
     "data": {
      "image/png": "[encoded data removed]",
      "text/plain": [
       "<Figure size 432x288 with 1 Axes>"
      ]
     },
     "metadata": {},
     "output_type": "display_data"
    }
   ],
   "source": [
    "x = np.arange(0, 15, 1)\n",
    "poisson_lambda1 = stats.poisson.pmf(mu=1, k=x)\n",
    "poisson_lambda2 = stats.poisson.pmf(mu=2, k=x)\n",
    "poisson_lambda5 = stats.poisson.pmf(mu=5, k=x)\n",
    "\n",
    "sns.lineplot(x=x, y=poisson_lambda1, color='black', linestyle='dashed', label='$\\lambda=1$')\n",
    "sns.lineplot(x=x, y=poisson_lambda2, color='black', linestyle='dotted', label='$\\lambda=2$')\n",
    "sns.lineplot(x=x, y=poisson_lambda5, color='black', linestyle='solid', label='$\\lambda=5$')"
   ]
  },
  {
   "cell_type": "code",
   "execution_count": 35,
   "id": "c31f96b8",
   "metadata": {},
   "outputs": [
    {
     "data": {
      "text/plain": [
       "<AxesSubplot:>"
      ]
     },
     "execution_count": 35,
     "metadata": {},
     "output_type": "execute_result"
    },
    {
     "data": {
      "image/png": "[encoded data removed]",
      "text/plain": [
       "<Figure size 432x288 with 1 Axes>"
      ]
     },
     "metadata": {},
     "output_type": "display_data"
    }
   ],
   "source": [
    "p = 0.0000002\n",
    "n = 10000000\n",
    "binomial = stats.binom.pmf(n=n, p=p, k=x)\n",
    "\n",
    "sns.lineplot(x=x, y=binomial, color='black', linestyle='dotted', label='$np=2$')\n",
    "sns.lineplot(x=x, y=poisson_lambda2, color='gray', linestyle='solid', label='$\\lambda=2$')"
   ]
  },
  {
   "cell_type": "code",
   "execution_count": 36,
   "id": "7a43cebb",
   "metadata": {},
   "outputs": [
    {
     "data": {
      "text/html": [
       "<div>\n",
       "<style scoped>\n",
       "    .dataframe tbody tr th:only-of-type {\n",
       "        vertical-align: middle;\n",
       "    }\n",
       "\n",
       "    .dataframe tbody tr th {\n",
       "        vertical-align: top;\n",
       "    }\n",
       "\n",
       "    .dataframe thead th {\n",
       "        text-align: right;\n",
       "    }\n",
       "</style>\n",
       "<table border=\"1\" class=\"dataframe\">\n",
       "  <thead>\n",
       "    <tr style=\"text-align: right;\">\n",
       "      <th></th>\n",
       "      <th>beer_number</th>\n",
       "      <th>temperature</th>\n",
       "    </tr>\n",
       "  </thead>\n",
       "  <tbody>\n",
       "    <tr>\n",
       "      <th>0</th>\n",
       "      <td>6</td>\n",
       "      <td>17.5</td>\n",
       "    </tr>\n",
       "    <tr>\n",
       "      <th>1</th>\n",
       "      <td>11</td>\n",
       "      <td>26.6</td>\n",
       "    </tr>\n",
       "    <tr>\n",
       "      <th>2</th>\n",
       "      <td>2</td>\n",
       "      <td>5.0</td>\n",
       "    </tr>\n",
       "    <tr>\n",
       "      <th>3</th>\n",
       "      <td>4</td>\n",
       "      <td>14.1</td>\n",
       "    </tr>\n",
       "    <tr>\n",
       "      <th>4</th>\n",
       "      <td>2</td>\n",
       "      <td>9.4</td>\n",
       "    </tr>\n",
       "  </tbody>\n",
       "</table>\n",
       "</div>"
      ],
      "text/plain": [
       "   beer_number  temperature\n",
       "0            6         17.5\n",
       "1           11         26.6\n",
       "2            2          5.0\n",
       "3            4         14.1\n",
       "4            2          9.4"
      ]
     },
     "execution_count": 36,
     "metadata": {},
     "output_type": "execute_result"
    }
   ],
   "source": [
    "beer = pd.read_csv('9-4-1-poisson-regression.csv')\n",
    "beer.head()"
   ]
  },
  {
   "cell_type": "code",
   "execution_count": 38,
   "id": "8ec6ff4c",
   "metadata": {},
   "outputs": [
    {
     "data": {
      "text/html": [
       "<table class=\"simpletable\">\n",
       "<caption>Generalized Linear Model Regression Results</caption>\n",
       "<tr>\n",
       "  <th>Dep. Variable:</th>      <td>beer_number</td>   <th>  No. Observations:  </th>  <td>    30</td> \n",
       "</tr>\n",
       "<tr>\n",
       "  <th>Model:</th>                  <td>GLM</td>       <th>  Df Residuals:      </th>  <td>    28</td> \n",
       "</tr>\n",
       "<tr>\n",
       "  <th>Model Family:</th>         <td>Poisson</td>     <th>  Df Model:          </th>  <td>     1</td> \n",
       "</tr>\n",
       "<tr>\n",
       "  <th>Link Function:</th>          <td>log</td>       <th>  Scale:             </th> <td>  1.0000</td>\n",
       "</tr>\n",
       "<tr>\n",
       "  <th>Method:</th>                <td>IRLS</td>       <th>  Log-Likelihood:    </th> <td> -57.672</td>\n",
       "</tr>\n",
       "<tr>\n",
       "  <th>Date:</th>            <td>Mon, 22 May 2023</td> <th>  Deviance:          </th> <td>  5.1373</td>\n",
       "</tr>\n",
       "<tr>\n",
       "  <th>Time:</th>                <td>20:16:59</td>     <th>  Pearson chi2:      </th>  <td>  5.40</td> \n",
       "</tr>\n",
       "<tr>\n",
       "  <th>No. Iterations:</th>          <td>4</td>        <th>                     </th>     <td> </td>   \n",
       "</tr>\n",
       "<tr>\n",
       "  <th>Covariance Type:</th>     <td>nonrobust</td>    <th>                     </th>     <td> </td>   \n",
       "</tr>\n",
       "</table>\n",
       "<table class=\"simpletable\">\n",
       "<tr>\n",
       "       <td></td>          <th>coef</th>     <th>std err</th>      <th>z</th>      <th>P>|z|</th>  <th>[0.025</th>    <th>0.975]</th>  \n",
       "</tr>\n",
       "<tr>\n",
       "  <th>Intercept</th>   <td>    0.4476</td> <td>    0.199</td> <td>    2.253</td> <td> 0.024</td> <td>    0.058</td> <td>    0.837</td>\n",
       "</tr>\n",
       "<tr>\n",
       "  <th>temperature</th> <td>    0.0761</td> <td>    0.008</td> <td>    9.784</td> <td> 0.000</td> <td>    0.061</td> <td>    0.091</td>\n",
       "</tr>\n",
       "</table>"
      ],
      "text/plain": [
       "<class 'statsmodels.iolib.summary.Summary'>\n",
       "\"\"\"\n",
       "                 Generalized Linear Model Regression Results                  \n",
       "==============================================================================\n",
       "Dep. Variable:            beer_number   No. Observations:                   30\n",
       "Model:                            GLM   Df Residuals:                       28\n",
       "Model Family:                 Poisson   Df Model:                            1\n",
       "Link Function:                    log   Scale:                          1.0000\n",
       "Method:                          IRLS   Log-Likelihood:                -57.672\n",
       "Date:                Mon, 22 May 2023   Deviance:                       5.1373\n",
       "Time:                        20:16:59   Pearson chi2:                     5.40\n",
       "No. Iterations:                     4                                         \n",
       "Covariance Type:            nonrobust                                         \n",
       "===============================================================================\n",
       "                  coef    std err          z      P>|z|      [0.025      0.975]\n",
       "-------------------------------------------------------------------------------\n",
       "Intercept       0.4476      0.199      2.253      0.024       0.058       0.837\n",
       "temperature     0.0761      0.008      9.784      0.000       0.061       0.091\n",
       "===============================================================================\n",
       "\"\"\""
      ]
     },
     "execution_count": 38,
     "metadata": {},
     "output_type": "execute_result"
    }
   ],
   "source": [
    "mod_pois = smf.glm('beer_number ~ temperature', beer, family=sm.families.Poisson()).fit()\n",
    "mod_pois.summary()"
   ]
  },
  {
   "cell_type": "code",
   "execution_count": 39,
   "id": "dd48bd1e",
   "metadata": {},
   "outputs": [],
   "source": [
    "mod_pois_null = smf.glm('beer_number ~ 1', data=beer, family=sm.families.Poisson()).fit()"
   ]
  },
  {
   "cell_type": "code",
   "execution_count": 40,
   "id": "d3399b4c",
   "metadata": {},
   "outputs": [
    {
     "name": "stdout",
     "output_type": "stream",
     "text": [
      "Nullモデル： 223.363\n",
      "変数入りモデル： 119.343\n"
     ]
    }
   ],
   "source": [
    "print('Nullモデル：', round(mod_pois_null.aic, 3))\n",
    "print('変数入りモデル：', round(mod_pois.aic, 3))"
   ]
  },
  {
   "cell_type": "code",
   "execution_count": 41,
   "id": "627c6ce8",
   "metadata": {},
   "outputs": [
    {
     "data": {
      "text/plain": [
       "0    7.164\n",
       "dtype: float64"
      ]
     },
     "execution_count": 41,
     "metadata": {},
     "output_type": "execute_result"
    }
   ],
   "source": [
    "exp_val_20 = pd.DataFrame({'temperature': [20]})\n",
    "mod_pois.predict(exp_val_20)"
   ]
  },
  {
   "cell_type": "code",
   "execution_count": 42,
   "id": "2b2cb816",
   "metadata": {},
   "outputs": [
    {
     "data": {
      "text/plain": [
       "7.164"
      ]
     },
     "execution_count": 42,
     "metadata": {},
     "output_type": "execute_result"
    }
   ],
   "source": [
    "beta0 = mod_pois.params[0]\n",
    "beta1 = mod_pois.params[1]\n",
    "temperature = 20\n",
    "\n",
    "round(np.exp(beta0 + beta1 * temperature), 3)"
   ]
  },
  {
   "cell_type": "code",
   "execution_count": 43,
   "id": "1bdd6a22",
   "metadata": {},
   "outputs": [
    {
     "data": {
      "text/plain": [
       "<AxesSubplot:xlabel='temperature', ylabel='beer_number'>"
      ]
     },
     "execution_count": 43,
     "metadata": {},
     "output_type": "execute_result"
    },
    {
     "data": {
      "image/png": "[encoded data removed]",
      "text/plain": [
       "<Figure size 432x288 with 1 Axes>"
      ]
     },
     "metadata": {},
     "output_type": "display_data"
    }
   ],
   "source": [
    "x_plot = np.arange(0, 37)\n",
    "pred = mod_pois.predict(pd.DataFrame({'temperature': x_plot}))\n",
    "\n",
    "sns.scatterplot(x='temperature', y='beer_number', data=beer, color='black')\n",
    "\n",
    "sns.lineplot(x=x_plot, y=pred, color='black')"
   ]
  },
  {
   "cell_type": "code",
   "execution_count": 44,
   "id": "0ff36c10",
   "metadata": {},
   "outputs": [
    {
     "data": {
      "text/plain": [
       "0    1.079\n",
       "dtype: float64"
      ]
     },
     "execution_count": 44,
     "metadata": {},
     "output_type": "execute_result"
    }
   ],
   "source": [
    "exp_val_1 = pd.DataFrame({'temperature': [1]})\n",
    "pred_1 = mod_pois.predict(exp_val_1)\n",
    "\n",
    "exp_val_2 = pd.DataFrame({'temperature': [2]})\n",
    "pred_2 = mod_pois.predict(exp_val_2)\n",
    "\n",
    "round(pred_2 / pred_1, 3)"
   ]
  },
  {
   "cell_type": "code",
   "execution_count": 45,
   "id": "1a7b850a",
   "metadata": {},
   "outputs": [
    {
     "data": {
      "text/plain": [
       "1.079"
      ]
     },
     "execution_count": 45,
     "metadata": {},
     "output_type": "execute_result"
    }
   ],
   "source": [
    "round(np.exp(mod_pois.params['temperature']), 3)"
   ]
  },
  {
   "cell_type": "code",
   "execution_count": null,
   "id": "854b5860",
   "metadata": {},
   "outputs": [],
   "source": []
  }
 ],
 "metadata": {
  "kernelspec": {
   "display_name": "Python 3 (ipykernel)",
   "language": "python",
   "name": "python3"
  },
  "language_info": {
   "codemirror_mode": {
    "name": "ipython",
    "version": 3
   },
   "file_extension": ".py",
   "mimetype": "text/x-python",
   "name": "python",
   "nbconvert_exporter": "python",
   "pygments_lexer": "ipython3",
   "version": "3.9.7"
  }
 },
 "nbformat": 4,
 "nbformat_minor": 5
}

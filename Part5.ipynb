{
 "cells": [
  {
   "cell_type": "code",
   "execution_count": 1,
   "id": "8647400a",
   "metadata": {},
   "outputs": [],
   "source": [
    "import numpy as np\n",
    "import pandas as pd\n",
    "from scipy import stats\n",
    "\n",
    "import matplotlib.pyplot as plt\n",
    "import seaborn as sns\n",
    "sns.set()"
   ]
  },
  {
   "cell_type": "code",
   "execution_count": 2,
   "id": "7ce673d7",
   "metadata": {},
   "outputs": [
    {
     "data": {
      "text/plain": [
       "array([2, 3, 4, 5, 6])"
      ]
     },
     "execution_count": 2,
     "metadata": {},
     "output_type": "execute_result"
    }
   ],
   "source": [
    "fish_5 = np.array([2,3,4,5,6])\n",
    "fish_5"
   ]
  },
  {
   "cell_type": "code",
   "execution_count": 3,
   "id": "fbe717bc",
   "metadata": {},
   "outputs": [
    {
     "data": {
      "text/plain": [
       "array([4, 3, 6])"
      ]
     },
     "execution_count": 3,
     "metadata": {},
     "output_type": "execute_result"
    }
   ],
   "source": [
    "np.random.seed(1)\n",
    "sample_1 = np.random.choice(fish_5, size=3, replace=False)\n",
    "\n",
    "sample_1"
   ]
  },
  {
   "cell_type": "code",
   "execution_count": 4,
   "id": "20c62a5f",
   "metadata": {},
   "outputs": [
    {
     "data": {
      "text/plain": [
       "4.333"
      ]
     },
     "execution_count": 4,
     "metadata": {},
     "output_type": "execute_result"
    }
   ],
   "source": [
    "round(np.mean(sample_1), 3)"
   ]
  },
  {
   "cell_type": "code",
   "execution_count": 5,
   "id": "b8e4f986",
   "metadata": {},
   "outputs": [
    {
     "data": {
      "text/plain": [
       "0    5.297442\n",
       "1    3.505566\n",
       "2    3.572546\n",
       "Name: length, dtype: float64"
      ]
     },
     "execution_count": 5,
     "metadata": {},
     "output_type": "execute_result"
    }
   ],
   "source": [
    "fish_100000 = pd.read_csv('5-2-1-fish_length_100000.csv')['length']\n",
    "fish_100000.head(3)"
   ]
  },
  {
   "cell_type": "code",
   "execution_count": 6,
   "id": "5d1da372",
   "metadata": {},
   "outputs": [
    {
     "data": {
      "text/plain": [
       "100000"
      ]
     },
     "execution_count": 6,
     "metadata": {},
     "output_type": "execute_result"
    }
   ],
   "source": [
    "len(fish_100000)"
   ]
  },
  {
   "cell_type": "code",
   "execution_count": 7,
   "id": "61a1e5fe",
   "metadata": {},
   "outputs": [],
   "source": [
    "np.random.seed(2)\n",
    "\n",
    "sample_2 = np.random.choice(fish_100000, size=500, replace=False)"
   ]
  },
  {
   "cell_type": "code",
   "execution_count": 8,
   "id": "fb6a89f3",
   "metadata": {},
   "outputs": [
    {
     "data": {
      "text/plain": [
       "3.962"
      ]
     },
     "execution_count": 8,
     "metadata": {},
     "output_type": "execute_result"
    }
   ],
   "source": [
    "round(np.mean(sample_2), 3)"
   ]
  },
  {
   "cell_type": "code",
   "execution_count": 9,
   "id": "482c1766",
   "metadata": {},
   "outputs": [
    {
     "data": {
      "text/plain": [
       "<AxesSubplot:ylabel='Count'>"
      ]
     },
     "execution_count": 9,
     "metadata": {},
     "output_type": "execute_result"
    },
    {
     "data": {
      "image/png": "[encoded data removed]",
      "text/plain": [
       "<Figure size 432x288 with 1 Axes>"
      ]
     },
     "metadata": {},
     "output_type": "display_data"
    }
   ],
   "source": [
    "sns.histplot(sample_2, color='gray', bins=10)"
   ]
  },
  {
   "cell_type": "code",
   "execution_count": 10,
   "id": "3593e510",
   "metadata": {},
   "outputs": [
    {
     "name": "stdout",
     "output_type": "stream",
     "text": [
      "平均: 4.0\n",
      "分散: 0.64\n",
      "標準偏差: 0.8\n"
     ]
    }
   ],
   "source": [
    "print('平均:', round(np.mean(fish_100000), 3))\n",
    "print('分散:', round(np.var(fish_100000, ddof=0), 3))\n",
    "print('標準偏差:', round(np.std(fish_100000, ddof=0), 3))"
   ]
  },
  {
   "cell_type": "code",
   "execution_count": 11,
   "id": "a00e4d69",
   "metadata": {},
   "outputs": [
    {
     "data": {
      "text/plain": [
       "<AxesSubplot:xlabel='length', ylabel='Count'>"
      ]
     },
     "execution_count": 11,
     "metadata": {},
     "output_type": "execute_result"
    },
    {
     "data": {
      "image/png": "[encoded data removed]",
      "text/plain": [
       "<Figure size 432x288 with 1 Axes>"
      ]
     },
     "metadata": {},
     "output_type": "display_data"
    }
   ],
   "source": [
    "sns.histplot(fish_100000, color='gray')"
   ]
  },
  {
   "cell_type": "code",
   "execution_count": 12,
   "id": "199dcc63",
   "metadata": {},
   "outputs": [
    {
     "data": {
      "text/html": [
       "<div>\n",
       "<style scoped>\n",
       "    .dataframe tbody tr th:only-of-type {\n",
       "        vertical-align: middle;\n",
       "    }\n",
       "\n",
       "    .dataframe tbody tr th {\n",
       "        vertical-align: top;\n",
       "    }\n",
       "\n",
       "    .dataframe thead th {\n",
       "        text-align: right;\n",
       "    }\n",
       "</style>\n",
       "<table border=\"1\" class=\"dataframe\">\n",
       "  <thead>\n",
       "    <tr style=\"text-align: right;\">\n",
       "      <th></th>\n",
       "      <th>x</th>\n",
       "      <th>density</th>\n",
       "    </tr>\n",
       "  </thead>\n",
       "  <tbody>\n",
       "    <tr>\n",
       "      <th>0</th>\n",
       "      <td>0.0</td>\n",
       "      <td>0.000002</td>\n",
       "    </tr>\n",
       "    <tr>\n",
       "      <th>1</th>\n",
       "      <td>0.1</td>\n",
       "      <td>0.000003</td>\n",
       "    </tr>\n",
       "    <tr>\n",
       "      <th>2</th>\n",
       "      <td>0.2</td>\n",
       "      <td>0.000006</td>\n",
       "    </tr>\n",
       "  </tbody>\n",
       "</table>\n",
       "</div>"
      ],
      "text/plain": [
       "     x   density\n",
       "0  0.0  0.000002\n",
       "1  0.1  0.000003\n",
       "2  0.2  0.000006"
      ]
     },
     "execution_count": 12,
     "metadata": {},
     "output_type": "execute_result"
    }
   ],
   "source": [
    "x = np.arange(0, 8.1, 0.1)\n",
    "\n",
    "density = stats.norm.pdf(x=x, loc=4, scale=0.8)\n",
    "\n",
    "density_df = pd.DataFrame({\n",
    "    'x': x,\n",
    "    'density': density\n",
    "})\n",
    "\n",
    "density_df.head(3)"
   ]
  },
  {
   "cell_type": "code",
   "execution_count": 13,
   "id": "3f3d5a87",
   "metadata": {},
   "outputs": [
    {
     "data": {
      "text/plain": [
       "<AxesSubplot:xlabel='length', ylabel='Density'>"
      ]
     },
     "execution_count": 13,
     "metadata": {},
     "output_type": "execute_result"
    },
    {
     "data": {
      "image/png": "[encoded data removed]",
      "text/plain": [
       "<Figure size 432x288 with 1 Axes>"
      ]
     },
     "metadata": {},
     "output_type": "display_data"
    }
   ],
   "source": [
    "sns.histplot(fish_100000, stat='density', color='gray')\n",
    "\n",
    "sns.lineplot(x=x, y=density, data=density_df, color='black', linewidth=2.0)"
   ]
  },
  {
   "cell_type": "code",
   "execution_count": 14,
   "id": "162aae0b",
   "metadata": {},
   "outputs": [
    {
     "data": {
      "text/plain": [
       "array([5.29947629, 3.51059487, 3.5774626 , 3.1416251 , 4.6923261 ,\n",
       "       2.15876904, 5.39584941, 3.39103448, 4.25523128, 3.8005037 ])"
      ]
     },
     "execution_count": 14,
     "metadata": {},
     "output_type": "execute_result"
    }
   ],
   "source": [
    "np.random.seed(1)\n",
    "\n",
    "sampling_norm = stats.norm.rvs(loc=4, scale=0.8, size=10)\n",
    "sampling_norm"
   ]
  },
  {
   "cell_type": "code",
   "execution_count": 15,
   "id": "7acb9871",
   "metadata": {},
   "outputs": [
    {
     "data": {
      "text/plain": [
       "3.922"
      ]
     },
     "execution_count": 15,
     "metadata": {},
     "output_type": "execute_result"
    }
   ],
   "source": [
    "round(np.mean(sampling_norm), 3)"
   ]
  },
  {
   "cell_type": "code",
   "execution_count": 16,
   "id": "a5a9ef5f",
   "metadata": {},
   "outputs": [],
   "source": [
    "import numpy as np\n",
    "import pandas as pd\n",
    "from scipy import stats\n",
    "\n",
    "import matplotlib.pyplot as plt\n",
    "import seaborn as sns\n",
    "sns.set()"
   ]
  },
  {
   "cell_type": "code",
   "execution_count": 17,
   "id": "c3db7988",
   "metadata": {},
   "outputs": [],
   "source": [
    "population = stats.norm(loc=4, scale=0.8)"
   ]
  },
  {
   "cell_type": "code",
   "execution_count": 18,
   "id": "b4e992f1",
   "metadata": {},
   "outputs": [
    {
     "data": {
      "text/plain": [
       "array([3.66659372, 3.95498654, 2.29104312, 5.31221665, 2.56525153,\n",
       "       3.32660211, 4.40230513, 3.00376953, 3.15363822, 3.27279391])"
      ]
     },
     "execution_count": 18,
     "metadata": {},
     "output_type": "execute_result"
    }
   ],
   "source": [
    "np.random.seed(2)\n",
    "sample = population.rvs(size=10)\n",
    "sample"
   ]
  },
  {
   "cell_type": "code",
   "execution_count": 19,
   "id": "01972da0",
   "metadata": {},
   "outputs": [
    {
     "data": {
      "text/plain": [
       "3.495"
      ]
     },
     "execution_count": 19,
     "metadata": {},
     "output_type": "execute_result"
    }
   ],
   "source": [
    "round(np.mean(sample), 3)"
   ]
  },
  {
   "cell_type": "code",
   "execution_count": 20,
   "id": "e7765025",
   "metadata": {},
   "outputs": [],
   "source": [
    "sample_mean_array = np.zeros(10000)"
   ]
  },
  {
   "cell_type": "code",
   "execution_count": 21,
   "id": "67653ee8",
   "metadata": {},
   "outputs": [],
   "source": [
    "np.random.seed(1)\n",
    "for i in range(0, 10000):\n",
    "    sample_loop = population.rvs(size=10)\n",
    "    sample_mean_array[i] = np.mean(sample_loop)"
   ]
  },
  {
   "cell_type": "code",
   "execution_count": 22,
   "id": "21dad63d",
   "metadata": {},
   "outputs": [
    {
     "data": {
      "text/plain": [
       "array([3.92228729, 3.86432929, 4.06953003, ..., 4.13616562, 4.57489661,\n",
       "       4.09896685])"
      ]
     },
     "execution_count": 22,
     "metadata": {},
     "output_type": "execute_result"
    }
   ],
   "source": [
    "sample_mean_array"
   ]
  },
  {
   "cell_type": "code",
   "execution_count": 23,
   "id": "4dec97a3",
   "metadata": {},
   "outputs": [
    {
     "data": {
      "text/plain": [
       "4.004"
      ]
     },
     "execution_count": 23,
     "metadata": {},
     "output_type": "execute_result"
    }
   ],
   "source": [
    "round(np.mean(sample_mean_array), 3)"
   ]
  },
  {
   "cell_type": "code",
   "execution_count": 24,
   "id": "1118a427",
   "metadata": {},
   "outputs": [],
   "source": [
    "def calc_sample_mean(size, n_trial):\n",
    "    sample_mean_array = np.zeros(n_trial)\n",
    "    for i in range(0, n_trial):\n",
    "        sample_loop = population.rvs(size=size)\n",
    "        sample_mean_array[i] = np.mean(sample_loop)\n",
    "    return sample_mean_array"
   ]
  },
  {
   "cell_type": "code",
   "execution_count": 25,
   "id": "ce42a106",
   "metadata": {},
   "outputs": [
    {
     "data": {
      "text/plain": [
       "4.004"
      ]
     },
     "execution_count": 25,
     "metadata": {},
     "output_type": "execute_result"
    }
   ],
   "source": [
    "np.random.seed(1)\n",
    "round(np.mean(calc_sample_mean(size=10, n_trial=10000)), 3)"
   ]
  },
  {
   "cell_type": "code",
   "execution_count": 26,
   "id": "c534f2c9",
   "metadata": {},
   "outputs": [
    {
     "data": {
      "text/html": [
       "<div>\n",
       "<style scoped>\n",
       "    .dataframe tbody tr th:only-of-type {\n",
       "        vertical-align: middle;\n",
       "    }\n",
       "\n",
       "    .dataframe tbody tr th {\n",
       "        vertical-align: top;\n",
       "    }\n",
       "\n",
       "    .dataframe thead th {\n",
       "        text-align: right;\n",
       "    }\n",
       "</style>\n",
       "<table border=\"1\" class=\"dataframe\">\n",
       "  <thead>\n",
       "    <tr style=\"text-align: right;\">\n",
       "      <th></th>\n",
       "      <th>sample_mean</th>\n",
       "      <th>sample_size</th>\n",
       "    </tr>\n",
       "  </thead>\n",
       "  <tbody>\n",
       "    <tr>\n",
       "      <th>0</th>\n",
       "      <td>3.922287</td>\n",
       "      <td>size 10</td>\n",
       "    </tr>\n",
       "    <tr>\n",
       "      <th>1</th>\n",
       "      <td>3.864329</td>\n",
       "      <td>size 10</td>\n",
       "    </tr>\n",
       "    <tr>\n",
       "      <th>2</th>\n",
       "      <td>4.069530</td>\n",
       "      <td>size 10</td>\n",
       "    </tr>\n",
       "  </tbody>\n",
       "</table>\n",
       "</div>"
      ],
      "text/plain": [
       "   sample_mean sample_size\n",
       "0     3.922287     size 10\n",
       "1     3.864329     size 10\n",
       "2     4.069530     size 10"
      ]
     },
     "execution_count": 26,
     "metadata": {},
     "output_type": "execute_result"
    }
   ],
   "source": [
    "np.random.seed(1)\n",
    "size_10 = calc_sample_mean(size=10, n_trial=10000)\n",
    "size_10_df = pd.DataFrame({\n",
    "    'sample_mean': size_10,\n",
    "    'sample_size': np.tile('size 10', 10000)\n",
    "})\n",
    "\n",
    "size_20 = calc_sample_mean(size=20, n_trial=10000)\n",
    "size_20_df = pd.DataFrame({\n",
    "    'sample_mean': size_20,\n",
    "    'sample_size': np.tile('size 20', 10000)\n",
    "})\n",
    "\n",
    "size_30 = calc_sample_mean(size=30, n_trial=10000)\n",
    "size_30_df = pd.DataFrame({\n",
    "    'sample_mean': size_30,\n",
    "    'sample_size': np.tile('size 30', 10000)\n",
    "})\n",
    "\n",
    "sim_result = pd.concat([size_10_df, size_20_df, size_30_df])\n",
    "\n",
    "sim_result.head(3)"
   ]
  },
  {
   "cell_type": "code",
   "execution_count": 27,
   "id": "051c67cb",
   "metadata": {},
   "outputs": [
    {
     "data": {
      "text/plain": [
       "30000"
      ]
     },
     "execution_count": 27,
     "metadata": {},
     "output_type": "execute_result"
    }
   ],
   "source": [
    "len(sim_result)"
   ]
  },
  {
   "cell_type": "code",
   "execution_count": 28,
   "id": "b0d7b48f",
   "metadata": {},
   "outputs": [
    {
     "data": {
      "text/plain": [
       "<AxesSubplot:xlabel='sample_size', ylabel='sample_mean'>"
      ]
     },
     "execution_count": 28,
     "metadata": {},
     "output_type": "execute_result"
    },
    {
     "data": {
      "image/png": "[encoded data removed]",
      "text/plain": [
       "<Figure size 432x288 with 1 Axes>"
      ]
     },
     "metadata": {},
     "output_type": "display_data"
    }
   ],
   "source": [
    "sns.violinplot(x='sample_size', y='sample_mean', data=sim_result, color='gray')"
   ]
  },
  {
   "cell_type": "code",
   "execution_count": 29,
   "id": "4a316e9c",
   "metadata": {},
   "outputs": [
    {
     "name": "stdout",
     "output_type": "stream",
     "text": [
      "            sample_mean       \n",
      "                    std   mean\n",
      "sample_size                   \n",
      "size 10           0.251  4.004\n",
      "size 20           0.180  4.001\n",
      "size 30           0.146  4.001\n"
     ]
    }
   ],
   "source": [
    "group = sim_result.groupby('sample_size')\n",
    "print(group.agg([np.std, np.mean], ddof=1).round(3))"
   ]
  },
  {
   "cell_type": "code",
   "execution_count": 30,
   "id": "65c2efd7",
   "metadata": {},
   "outputs": [
    {
     "name": "stdout",
     "output_type": "stream",
     "text": [
      "size 10: 0.253\n",
      "size 20: 0.179\n",
      "size 30: 0.146\n"
     ]
    }
   ],
   "source": [
    "print('size 10:', round(0.8 / np.sqrt(10), 3))\n",
    "print('size 20:', round(0.8 / np.sqrt(20), 3))\n",
    "print('size 30:', round(0.8 / np.sqrt(30), 3))"
   ]
  },
  {
   "cell_type": "code",
   "execution_count": 31,
   "id": "af7b5ba8",
   "metadata": {},
   "outputs": [
    {
     "data": {
      "text/plain": [
       "array([    10,    110,    210, ...,  99810,  99910, 100010])"
      ]
     },
     "execution_count": 31,
     "metadata": {},
     "output_type": "execute_result"
    }
   ],
   "source": [
    "size_array = np.arange(10, 100100, 100)\n",
    "size_array"
   ]
  },
  {
   "cell_type": "code",
   "execution_count": 32,
   "id": "6c89466c",
   "metadata": {},
   "outputs": [],
   "source": [
    "sample_mean_array_size = np.zeros(len(size_array))"
   ]
  },
  {
   "cell_type": "code",
   "execution_count": 33,
   "id": "0dbcd899",
   "metadata": {},
   "outputs": [],
   "source": [
    "np.random.seed(1)\n",
    "for i in range(0, len(size_array)):\n",
    "    sample_loop = population.rvs(size=size_array[i])\n",
    "    sample_mean_array_size[i] = np.mean(sample_loop)"
   ]
  },
  {
   "cell_type": "code",
   "execution_count": 34,
   "id": "b1a0043d",
   "metadata": {},
   "outputs": [
    {
     "data": {
      "text/html": [
       "<div>\n",
       "<style scoped>\n",
       "    .dataframe tbody tr th:only-of-type {\n",
       "        vertical-align: middle;\n",
       "    }\n",
       "\n",
       "    .dataframe tbody tr th {\n",
       "        vertical-align: top;\n",
       "    }\n",
       "\n",
       "    .dataframe thead th {\n",
       "        text-align: right;\n",
       "    }\n",
       "</style>\n",
       "<table border=\"1\" class=\"dataframe\">\n",
       "  <thead>\n",
       "    <tr style=\"text-align: right;\">\n",
       "      <th></th>\n",
       "      <th>sample_size</th>\n",
       "      <th>sample_mean</th>\n",
       "    </tr>\n",
       "  </thead>\n",
       "  <tbody>\n",
       "    <tr>\n",
       "      <th>0</th>\n",
       "      <td>10</td>\n",
       "      <td>3.922287</td>\n",
       "    </tr>\n",
       "    <tr>\n",
       "      <th>1</th>\n",
       "      <td>110</td>\n",
       "      <td>4.038361</td>\n",
       "    </tr>\n",
       "    <tr>\n",
       "      <th>2</th>\n",
       "      <td>210</td>\n",
       "      <td>4.091853</td>\n",
       "    </tr>\n",
       "  </tbody>\n",
       "</table>\n",
       "</div>"
      ],
      "text/plain": [
       "   sample_size  sample_mean\n",
       "0           10     3.922287\n",
       "1          110     4.038361\n",
       "2          210     4.091853"
      ]
     },
     "execution_count": 34,
     "metadata": {},
     "output_type": "execute_result"
    }
   ],
   "source": [
    "size_mean_df = pd.DataFrame({\n",
    "    'sample_size': size_array,\n",
    "    'sample_mean': sample_mean_array_size\n",
    "})\n",
    "\n",
    "size_mean_df.head(3)"
   ]
  },
  {
   "cell_type": "code",
   "execution_count": 35,
   "id": "24cb18e0",
   "metadata": {},
   "outputs": [
    {
     "data": {
      "text/plain": [
       "<AxesSubplot:xlabel='sample_size', ylabel='sample_mean'>"
      ]
     },
     "execution_count": 35,
     "metadata": {},
     "output_type": "execute_result"
    },
    {
     "data": {
      "image/png": "[encoded data removed]",
      "text/plain": [
       "<Figure size 432x288 with 1 Axes>"
      ]
     },
     "metadata": {},
     "output_type": "display_data"
    }
   ],
   "source": [
    "sns.lineplot(x='sample_size', y='sample_mean', data=size_mean_df, color='black')"
   ]
  },
  {
   "cell_type": "code",
   "execution_count": 36,
   "id": "1cc9ff3a",
   "metadata": {},
   "outputs": [],
   "source": [
    "import numpy as np\n",
    "import pandas as pd\n",
    "from scipy import stats\n",
    "\n",
    "import matplotlib.pyplot as plt\n",
    "import seaborn as sns\n",
    "sns.set()"
   ]
  },
  {
   "cell_type": "code",
   "execution_count": 37,
   "id": "b5a1209e",
   "metadata": {},
   "outputs": [],
   "source": [
    "population = stats.norm(loc=4, scale=0.8)"
   ]
  },
  {
   "cell_type": "code",
   "execution_count": 38,
   "id": "79f2e83c",
   "metadata": {},
   "outputs": [
    {
     "data": {
      "text/plain": [
       "array([3.66659372, 3.95498654, 2.29104312, 5.31221665, 2.56525153,\n",
       "       3.32660211, 4.40230513, 3.00376953, 3.15363822, 3.27279391])"
      ]
     },
     "execution_count": 38,
     "metadata": {},
     "output_type": "execute_result"
    }
   ],
   "source": [
    "np.random.seed(2)\n",
    "sample = population.rvs(size=10)\n",
    "sample"
   ]
  },
  {
   "cell_type": "code",
   "execution_count": 39,
   "id": "93bc935a",
   "metadata": {},
   "outputs": [
    {
     "name": "stdout",
     "output_type": "stream",
     "text": [
      "標本分散 0.712\n",
      "不偏分散 0.791\n"
     ]
    }
   ],
   "source": [
    "print('標本分散', round(np.var(sample, ddof=0), 3))\n",
    "print('不偏分散', round(np.var(sample, ddof=1), 3))"
   ]
  },
  {
   "cell_type": "code",
   "execution_count": 40,
   "id": "49fd4ae8",
   "metadata": {},
   "outputs": [],
   "source": [
    "sample_var_array = np.zeros(10000)"
   ]
  },
  {
   "cell_type": "code",
   "execution_count": 41,
   "id": "f8590746",
   "metadata": {},
   "outputs": [],
   "source": [
    "np.random.seed(1)\n",
    "for i in range(0, 10000):\n",
    "    sample_loop = population.rvs(size=10)\n",
    "    sample_var_array[i] = np.var(sample_loop, ddof=0)"
   ]
  },
  {
   "cell_type": "code",
   "execution_count": 42,
   "id": "ed201d3f",
   "metadata": {},
   "outputs": [
    {
     "data": {
      "text/plain": [
       "0.575"
      ]
     },
     "execution_count": 42,
     "metadata": {},
     "output_type": "execute_result"
    }
   ],
   "source": [
    "round(np.mean(sample_var_array), 3)"
   ]
  },
  {
   "cell_type": "code",
   "execution_count": 43,
   "id": "a59b7203",
   "metadata": {},
   "outputs": [
    {
     "data": {
      "text/plain": [
       "0.639"
      ]
     },
     "execution_count": 43,
     "metadata": {},
     "output_type": "execute_result"
    }
   ],
   "source": [
    "unbias_var_array = np.zeros(10000)\n",
    "\n",
    "np.random.seed(1)\n",
    "for i in range(0, 10000):\n",
    "    sample_loop = population.rvs(size=10)\n",
    "    unbias_var_array[i] = np.var(sample_loop, ddof=1)\n",
    "    \n",
    "round(np.mean(unbias_var_array), 3)"
   ]
  },
  {
   "cell_type": "code",
   "execution_count": 44,
   "id": "4568401d",
   "metadata": {},
   "outputs": [
    {
     "data": {
      "text/plain": [
       "array([    10,    110,    210, ...,  99810,  99910, 100010])"
      ]
     },
     "execution_count": 44,
     "metadata": {},
     "output_type": "execute_result"
    }
   ],
   "source": [
    "size_array = np.arange(10, 100100, 100)\n",
    "size_array"
   ]
  },
  {
   "cell_type": "code",
   "execution_count": 45,
   "id": "3d02a240",
   "metadata": {},
   "outputs": [],
   "source": [
    "unbias_var_array_size = np.zeros(len(size_array))"
   ]
  },
  {
   "cell_type": "code",
   "execution_count": 46,
   "id": "d7c28a60",
   "metadata": {},
   "outputs": [],
   "source": [
    "np.random.seed(1)\n",
    "for i in range(0, len(size_array)):\n",
    "    sample_loop = population.rvs(size=size_array[i])\n",
    "    unbias_var_array_size[i] = np.var(sample_loop, ddof=1)"
   ]
  },
  {
   "cell_type": "code",
   "execution_count": 47,
   "id": "98a122fa",
   "metadata": {},
   "outputs": [
    {
     "data": {
      "text/html": [
       "<div>\n",
       "<style scoped>\n",
       "    .dataframe tbody tr th:only-of-type {\n",
       "        vertical-align: middle;\n",
       "    }\n",
       "\n",
       "    .dataframe tbody tr th {\n",
       "        vertical-align: top;\n",
       "    }\n",
       "\n",
       "    .dataframe thead th {\n",
       "        text-align: right;\n",
       "    }\n",
       "</style>\n",
       "<table border=\"1\" class=\"dataframe\">\n",
       "  <thead>\n",
       "    <tr style=\"text-align: right;\">\n",
       "      <th></th>\n",
       "      <th>sample_size</th>\n",
       "      <th>unbias_var</th>\n",
       "    </tr>\n",
       "  </thead>\n",
       "  <tbody>\n",
       "    <tr>\n",
       "      <th>0</th>\n",
       "      <td>10</td>\n",
       "      <td>1.008526</td>\n",
       "    </tr>\n",
       "    <tr>\n",
       "      <th>1</th>\n",
       "      <td>110</td>\n",
       "      <td>0.460805</td>\n",
       "    </tr>\n",
       "    <tr>\n",
       "      <th>2</th>\n",
       "      <td>210</td>\n",
       "      <td>0.631723</td>\n",
       "    </tr>\n",
       "  </tbody>\n",
       "</table>\n",
       "</div>"
      ],
      "text/plain": [
       "   sample_size  unbias_var\n",
       "0           10    1.008526\n",
       "1          110    0.460805\n",
       "2          210    0.631723"
      ]
     },
     "execution_count": 47,
     "metadata": {},
     "output_type": "execute_result"
    }
   ],
   "source": [
    "size_var_df = pd.DataFrame({\n",
    "    'sample_size': size_array,\n",
    "    'unbias_var': unbias_var_array_size\n",
    "})\n",
    "\n",
    "size_var_df.head(3)"
   ]
  },
  {
   "cell_type": "code",
   "execution_count": 48,
   "id": "317a91a1",
   "metadata": {},
   "outputs": [
    {
     "data": {
      "text/plain": [
       "<AxesSubplot:xlabel='sample_size', ylabel='unbias_var'>"
      ]
     },
     "execution_count": 48,
     "metadata": {},
     "output_type": "execute_result"
    },
    {
     "data": {
      "image/png": "[encoded data removed]",
      "text/plain": [
       "<Figure size 432x288 with 1 Axes>"
      ]
     },
     "metadata": {},
     "output_type": "display_data"
    }
   ],
   "source": [
    "sns.lineplot(x='sample_size', y='unbias_var', data=size_var_df, color='black')"
   ]
  },
  {
   "cell_type": "code",
   "execution_count": 49,
   "id": "8bf15f69",
   "metadata": {},
   "outputs": [],
   "source": [
    "import numpy as np\n",
    "import pandas as pd\n",
    "from scipy import stats\n",
    "\n",
    "import matplotlib.pyplot as plt\n",
    "import seaborn as sns\n",
    "sns.set()"
   ]
  },
  {
   "cell_type": "code",
   "execution_count": 50,
   "id": "1baec920",
   "metadata": {},
   "outputs": [],
   "source": [
    "mu = 4\n",
    "sigma = 0.8\n",
    "population = stats.norm(loc=mu, scale=sigma)"
   ]
  },
  {
   "cell_type": "code",
   "execution_count": 51,
   "id": "ebcf8b8f",
   "metadata": {},
   "outputs": [
    {
     "data": {
      "text/plain": [
       "array([5.29947629, 3.51059487, 3.5774626 , 3.1416251 , 4.6923261 ])"
      ]
     },
     "execution_count": 51,
     "metadata": {},
     "output_type": "execute_result"
    }
   ],
   "source": [
    "n = 5\n",
    "\n",
    "np.random.seed(1)\n",
    "sample = population.rvs(size=n)\n",
    "sample"
   ]
  },
  {
   "cell_type": "code",
   "execution_count": 52,
   "id": "c7b1350f",
   "metadata": {},
   "outputs": [
    {
     "data": {
      "text/plain": [
       "0.184"
      ]
     },
     "execution_count": 52,
     "metadata": {},
     "output_type": "execute_result"
    }
   ],
   "source": [
    "round(stats.chi2.pdf(x=2, df=n - 1), 3)"
   ]
  },
  {
   "cell_type": "code",
   "execution_count": 53,
   "id": "68f15a48",
   "metadata": {},
   "outputs": [
    {
     "data": {
      "text/plain": [
       "0.264"
      ]
     },
     "execution_count": 53,
     "metadata": {},
     "output_type": "execute_result"
    }
   ],
   "source": [
    "round(stats.chi2.cdf(x=2, df=n - 1), 3)"
   ]
  },
  {
   "cell_type": "code",
   "execution_count": 54,
   "id": "df1880a8",
   "metadata": {},
   "outputs": [
    {
     "data": {
      "text/plain": [
       "3.357"
      ]
     },
     "execution_count": 54,
     "metadata": {},
     "output_type": "execute_result"
    }
   ],
   "source": [
    "round(stats.chi2.ppf(q=0.5, df=n - 1), 3)"
   ]
  },
  {
   "cell_type": "code",
   "execution_count": 55,
   "id": "f85b81cd",
   "metadata": {},
   "outputs": [],
   "source": [
    "n = 5\n",
    "\n",
    "np.random.seed(1)\n",
    "\n",
    "chi2_value_array = np.zeros(10000)\n",
    "for i in range(0, 10000):\n",
    "    sample = population.rvs(size=n)\n",
    "    u2 = np.var(sample, ddof=1)\n",
    "    chi2 = (n - 1) * u2 / sigma**2\n",
    "    chi2_value_array[i] = chi2"
   ]
  },
  {
   "cell_type": "code",
   "execution_count": 56,
   "id": "b96a1812",
   "metadata": {},
   "outputs": [
    {
     "data": {
      "text/html": [
       "<div>\n",
       "<style scoped>\n",
       "    .dataframe tbody tr th:only-of-type {\n",
       "        vertical-align: middle;\n",
       "    }\n",
       "\n",
       "    .dataframe tbody tr th {\n",
       "        vertical-align: top;\n",
       "    }\n",
       "\n",
       "    .dataframe thead th {\n",
       "        text-align: right;\n",
       "    }\n",
       "</style>\n",
       "<table border=\"1\" class=\"dataframe\">\n",
       "  <thead>\n",
       "    <tr style=\"text-align: right;\">\n",
       "      <th></th>\n",
       "      <th>x</th>\n",
       "      <th>chi2_distribution</th>\n",
       "    </tr>\n",
       "  </thead>\n",
       "  <tbody>\n",
       "    <tr>\n",
       "      <th>0</th>\n",
       "      <td>0.0</td>\n",
       "      <td>0.000000</td>\n",
       "    </tr>\n",
       "    <tr>\n",
       "      <th>1</th>\n",
       "      <td>0.1</td>\n",
       "      <td>0.023781</td>\n",
       "    </tr>\n",
       "    <tr>\n",
       "      <th>2</th>\n",
       "      <td>0.2</td>\n",
       "      <td>0.045242</td>\n",
       "    </tr>\n",
       "    <tr>\n",
       "      <th>3</th>\n",
       "      <td>0.3</td>\n",
       "      <td>0.064553</td>\n",
       "    </tr>\n",
       "    <tr>\n",
       "      <th>4</th>\n",
       "      <td>0.4</td>\n",
       "      <td>0.081873</td>\n",
       "    </tr>\n",
       "  </tbody>\n",
       "</table>\n",
       "</div>"
      ],
      "text/plain": [
       "     x  chi2_distribution\n",
       "0  0.0           0.000000\n",
       "1  0.1           0.023781\n",
       "2  0.2           0.045242\n",
       "3  0.3           0.064553\n",
       "4  0.4           0.081873"
      ]
     },
     "execution_count": 56,
     "metadata": {},
     "output_type": "execute_result"
    }
   ],
   "source": [
    "x = np.arange(0, 20.1, 0.1)\n",
    "\n",
    "chi2_distribution = stats.chi2.pdf(x=x, df=n - 1)\n",
    "chi2_df = pd.DataFrame({\n",
    "    'x': x,\n",
    "    'chi2_distribution': chi2_distribution\n",
    "})\n",
    "\n",
    "chi2_df.head()"
   ]
  },
  {
   "cell_type": "code",
   "execution_count": 57,
   "id": "a262c51e",
   "metadata": {},
   "outputs": [
    {
     "data": {
      "text/plain": [
       "<AxesSubplot:xlabel='x', ylabel='Density'>"
      ]
     },
     "execution_count": 57,
     "metadata": {},
     "output_type": "execute_result"
    },
    {
     "data": {
      "image/png": "[encoded data removed]",
      "text/plain": [
       "<Figure size 432x288 with 1 Axes>"
      ]
     },
     "metadata": {},
     "output_type": "display_data"
    }
   ],
   "source": [
    "sns.histplot(chi2_value_array, color='gray', stat='density')\n",
    "\n",
    "sns.lineplot(x='x', y='chi2_distribution', data=chi2_df, color='black', label='x2')"
   ]
  },
  {
   "cell_type": "code",
   "execution_count": 58,
   "id": "50929cf5",
   "metadata": {},
   "outputs": [],
   "source": [
    "n = 3\n",
    "\n",
    "np.random.seed(1)\n",
    "\n",
    "z_value_array = np.zeros(10000)\n",
    "for i in range(0, 10000):\n",
    "    sample = population.rvs(size=n)\n",
    "    x_bar = np.mean(sample)\n",
    "    bar_sigma = sigma / np.sqrt(n)\n",
    "    z_value_array[i] = (x_bar - mu) / bar_sigma"
   ]
  },
  {
   "cell_type": "code",
   "execution_count": 59,
   "id": "798f25f1",
   "metadata": {},
   "outputs": [
    {
     "data": {
      "text/html": [
       "<div>\n",
       "<style scoped>\n",
       "    .dataframe tbody tr th:only-of-type {\n",
       "        vertical-align: middle;\n",
       "    }\n",
       "\n",
       "    .dataframe tbody tr th {\n",
       "        vertical-align: top;\n",
       "    }\n",
       "\n",
       "    .dataframe thead th {\n",
       "        text-align: right;\n",
       "    }\n",
       "</style>\n",
       "<table border=\"1\" class=\"dataframe\">\n",
       "  <thead>\n",
       "    <tr style=\"text-align: right;\">\n",
       "      <th></th>\n",
       "      <th>x</th>\n",
       "      <th>z_distribution</th>\n",
       "    </tr>\n",
       "  </thead>\n",
       "  <tbody>\n",
       "    <tr>\n",
       "      <th>0</th>\n",
       "      <td>-6.0</td>\n",
       "      <td>6.075883e-09</td>\n",
       "    </tr>\n",
       "    <tr>\n",
       "      <th>1</th>\n",
       "      <td>-5.9</td>\n",
       "      <td>1.101576e-08</td>\n",
       "    </tr>\n",
       "    <tr>\n",
       "      <th>2</th>\n",
       "      <td>-5.8</td>\n",
       "      <td>1.977320e-08</td>\n",
       "    </tr>\n",
       "    <tr>\n",
       "      <th>3</th>\n",
       "      <td>-5.7</td>\n",
       "      <td>3.513955e-08</td>\n",
       "    </tr>\n",
       "    <tr>\n",
       "      <th>4</th>\n",
       "      <td>-5.6</td>\n",
       "      <td>6.182621e-08</td>\n",
       "    </tr>\n",
       "  </tbody>\n",
       "</table>\n",
       "</div>"
      ],
      "text/plain": [
       "     x  z_distribution\n",
       "0 -6.0    6.075883e-09\n",
       "1 -5.9    1.101576e-08\n",
       "2 -5.8    1.977320e-08\n",
       "3 -5.7    3.513955e-08\n",
       "4 -5.6    6.182621e-08"
      ]
     },
     "execution_count": 59,
     "metadata": {},
     "output_type": "execute_result"
    }
   ],
   "source": [
    "x = np.arange(-6, 6.1, 0.1)\n",
    "\n",
    "z_distribution = stats.norm.pdf(x=x, loc=0, scale=1)\n",
    "\n",
    "z_df = pd.DataFrame({\n",
    "    'x': x,\n",
    "    'z_distribution': z_distribution\n",
    "})\n",
    "\n",
    "z_df.head()"
   ]
  },
  {
   "cell_type": "code",
   "execution_count": 60,
   "id": "b7a4dfec",
   "metadata": {},
   "outputs": [
    {
     "data": {
      "text/plain": [
       "(-6.0, 6.0)"
      ]
     },
     "execution_count": 60,
     "metadata": {},
     "output_type": "execute_result"
    },
    {
     "data": {
      "image/png": "[encoded data removed]",
      "text/plain": [
       "<Figure size 432x288 with 1 Axes>"
      ]
     },
     "metadata": {},
     "output_type": "display_data"
    }
   ],
   "source": [
    "sns.histplot(z_value_array, color='gray', stat='density')\n",
    "\n",
    "sns.lineplot(x='x', y='z_distribution', data=z_df, color='black', linestyle='dashed', label='hyoujunnseikibunnpu')\n",
    "\n",
    "plt.xlim(-6, 6)"
   ]
  },
  {
   "cell_type": "code",
   "execution_count": 61,
   "id": "4cd51019",
   "metadata": {},
   "outputs": [],
   "source": [
    "np.random.seed(1)\n",
    "\n",
    "t_value_array = np.zeros(10000)\n",
    "for i in range(0, 10000):\n",
    "    sample = population.rvs(size=n)\n",
    "    x_bar = np.mean(sample)\n",
    "    u = np.std(sample, ddof=1)\n",
    "    se = u / np.sqrt(n)\n",
    "    t_value_array[i] = (x_bar - mu) / se"
   ]
  },
  {
   "cell_type": "code",
   "execution_count": 62,
   "id": "ed71a546",
   "metadata": {},
   "outputs": [
    {
     "data": {
      "text/html": [
       "<div>\n",
       "<style scoped>\n",
       "    .dataframe tbody tr th:only-of-type {\n",
       "        vertical-align: middle;\n",
       "    }\n",
       "\n",
       "    .dataframe tbody tr th {\n",
       "        vertical-align: top;\n",
       "    }\n",
       "\n",
       "    .dataframe thead th {\n",
       "        text-align: right;\n",
       "    }\n",
       "</style>\n",
       "<table border=\"1\" class=\"dataframe\">\n",
       "  <thead>\n",
       "    <tr style=\"text-align: right;\">\n",
       "      <th></th>\n",
       "      <th>x</th>\n",
       "      <th>t_distribution</th>\n",
       "    </tr>\n",
       "  </thead>\n",
       "  <tbody>\n",
       "    <tr>\n",
       "      <th>0</th>\n",
       "      <td>-6.0</td>\n",
       "      <td>0.004269</td>\n",
       "    </tr>\n",
       "    <tr>\n",
       "      <th>1</th>\n",
       "      <td>-5.9</td>\n",
       "      <td>0.004478</td>\n",
       "    </tr>\n",
       "    <tr>\n",
       "      <th>2</th>\n",
       "      <td>-5.8</td>\n",
       "      <td>0.004700</td>\n",
       "    </tr>\n",
       "    <tr>\n",
       "      <th>3</th>\n",
       "      <td>-5.7</td>\n",
       "      <td>0.004937</td>\n",
       "    </tr>\n",
       "    <tr>\n",
       "      <th>4</th>\n",
       "      <td>-5.6</td>\n",
       "      <td>0.005190</td>\n",
       "    </tr>\n",
       "  </tbody>\n",
       "</table>\n",
       "</div>"
      ],
      "text/plain": [
       "     x  t_distribution\n",
       "0 -6.0        0.004269\n",
       "1 -5.9        0.004478\n",
       "2 -5.8        0.004700\n",
       "3 -5.7        0.004937\n",
       "4 -5.6        0.005190"
      ]
     },
     "execution_count": 62,
     "metadata": {},
     "output_type": "execute_result"
    }
   ],
   "source": [
    "t_distribution = stats.t.pdf(x=x, df=n - 1)\n",
    "\n",
    "t_df = pd.DataFrame({\n",
    "    'x': x,\n",
    "    't_distribution': t_distribution\n",
    "})\n",
    "\n",
    "t_df.head()"
   ]
  },
  {
   "cell_type": "code",
   "execution_count": 63,
   "id": "5705cff7",
   "metadata": {},
   "outputs": [
    {
     "data": {
      "text/plain": [
       "(-6.0, 6.0)"
      ]
     },
     "execution_count": 63,
     "metadata": {},
     "output_type": "execute_result"
    },
    {
     "data": {
      "image/png": "[encoded data removed]",
      "text/plain": [
       "<Figure size 432x288 with 1 Axes>"
      ]
     },
     "metadata": {},
     "output_type": "display_data"
    }
   ],
   "source": [
    "sns.histplot(t_value_array, color='gray', stat='density')\n",
    "\n",
    "sns.lineplot(x='x', y='t_distribution', data=t_df, color='black', label='tbunnpu')\n",
    "\n",
    "sns.lineplot(x='x', y='z_distribution', data=z_df, color='black', linestyle='dashed', label='hyoujunnseikibunnpu')\n",
    "\n",
    "plt.xlim(-6, 6)"
   ]
  },
  {
   "cell_type": "code",
   "execution_count": 64,
   "id": "130a2f9b",
   "metadata": {},
   "outputs": [],
   "source": [
    "m = 5\n",
    "n = 10\n",
    "\n",
    "np.random.seed(1)\n",
    "\n",
    "f_value_array = np.zeros(10000)\n",
    "for i in range(0, 10000):\n",
    "    sample_x = population.rvs(size=m)\n",
    "    sample_y = population.rvs(size=n)\n",
    "    u2_x = np.var(sample_x, ddof=1)\n",
    "    u2_y = np.var(sample_y, ddof=1)\n",
    "    f_value_array[i] = u2_x / u2_y"
   ]
  },
  {
   "cell_type": "code",
   "execution_count": 65,
   "id": "5114410e",
   "metadata": {},
   "outputs": [
    {
     "data": {
      "text/html": [
       "<div>\n",
       "<style scoped>\n",
       "    .dataframe tbody tr th:only-of-type {\n",
       "        vertical-align: middle;\n",
       "    }\n",
       "\n",
       "    .dataframe tbody tr th {\n",
       "        vertical-align: top;\n",
       "    }\n",
       "\n",
       "    .dataframe thead th {\n",
       "        text-align: right;\n",
       "    }\n",
       "</style>\n",
       "<table border=\"1\" class=\"dataframe\">\n",
       "  <thead>\n",
       "    <tr style=\"text-align: right;\">\n",
       "      <th></th>\n",
       "      <th>x</th>\n",
       "      <th>f_distribution</th>\n",
       "    </tr>\n",
       "  </thead>\n",
       "  <tbody>\n",
       "    <tr>\n",
       "      <th>0</th>\n",
       "      <td>0.0</td>\n",
       "      <td>0.000000</td>\n",
       "    </tr>\n",
       "    <tr>\n",
       "      <th>1</th>\n",
       "      <td>0.1</td>\n",
       "      <td>0.368515</td>\n",
       "    </tr>\n",
       "    <tr>\n",
       "      <th>2</th>\n",
       "      <td>0.2</td>\n",
       "      <td>0.562143</td>\n",
       "    </tr>\n",
       "    <tr>\n",
       "      <th>3</th>\n",
       "      <td>0.3</td>\n",
       "      <td>0.650140</td>\n",
       "    </tr>\n",
       "    <tr>\n",
       "      <th>4</th>\n",
       "      <td>0.4</td>\n",
       "      <td>0.675085</td>\n",
       "    </tr>\n",
       "  </tbody>\n",
       "</table>\n",
       "</div>"
      ],
      "text/plain": [
       "     x  f_distribution\n",
       "0  0.0        0.000000\n",
       "1  0.1        0.368515\n",
       "2  0.2        0.562143\n",
       "3  0.3        0.650140\n",
       "4  0.4        0.675085"
      ]
     },
     "execution_count": 65,
     "metadata": {},
     "output_type": "execute_result"
    }
   ],
   "source": [
    "x = np.arange(0, 6.1, 0.1)\n",
    "\n",
    "f_distribution = stats.f.pdf(x=x, dfn=m - 1, dfd=n - 1)\n",
    "\n",
    "f_df = pd.DataFrame({\n",
    "    'x': x,\n",
    "    'f_distribution': f_distribution\n",
    "})\n",
    "\n",
    "f_df.head()"
   ]
  },
  {
   "cell_type": "code",
   "execution_count": 66,
   "id": "88a9eb84",
   "metadata": {},
   "outputs": [
    {
     "data": {
      "text/plain": [
       "(0.0, 6.0)"
      ]
     },
     "execution_count": 66,
     "metadata": {},
     "output_type": "execute_result"
    },
    {
     "data": {
      "image/png": "[encoded data removed]",
      "text/plain": [
       "<Figure size 432x288 with 1 Axes>"
      ]
     },
     "metadata": {},
     "output_type": "display_data"
    }
   ],
   "source": [
    "sns.histplot(f_value_array, color='gray', stat='density')\n",
    "\n",
    "sns.lineplot(x='x', y='f_distribution', data=f_df, color='black', label='Fbunnpu')\n",
    "\n",
    "plt.xlim(0, 6)"
   ]
  },
  {
   "cell_type": "code",
   "execution_count": 67,
   "id": "2073684c",
   "metadata": {},
   "outputs": [],
   "source": [
    "import numpy as np\n",
    "import pandas as pd\n",
    "from scipy import stats\n",
    "\n",
    "import matplotlib.pyplot as plt\n",
    "import seaborn as sns\n",
    "sns.set()"
   ]
  },
  {
   "cell_type": "code",
   "execution_count": 68,
   "id": "126a223d",
   "metadata": {},
   "outputs": [
    {
     "data": {
      "text/plain": [
       "0    4.352982\n",
       "1    3.735304\n",
       "2    5.944617\n",
       "3    3.798326\n",
       "4    4.087688\n",
       "5    5.265985\n",
       "6    3.272614\n",
       "7    3.526691\n",
       "8    4.150083\n",
       "9    3.736104\n",
       "Name: length, dtype: float64"
      ]
     },
     "execution_count": 68,
     "metadata": {},
     "output_type": "execute_result"
    }
   ],
   "source": [
    "fish = pd.read_csv('5-6-1-fish_length.csv')['length']\n",
    "fish"
   ]
  },
  {
   "cell_type": "code",
   "execution_count": 69,
   "id": "7e387466",
   "metadata": {},
   "outputs": [
    {
     "name": "stdout",
     "output_type": "stream",
     "text": [
      "標本平均: 4.187\n",
      "不偏分散: 0.68\n"
     ]
    }
   ],
   "source": [
    "x_bar = np.mean(fish)\n",
    "u2 = np.var(fish, ddof=1)\n",
    "\n",
    "print('標本平均:', round(x_bar, 3))\n",
    "print('不偏分散:', round(u2, 3))"
   ]
  },
  {
   "cell_type": "code",
   "execution_count": 70,
   "id": "3b66dfaa",
   "metadata": {},
   "outputs": [
    {
     "name": "stdout",
     "output_type": "stream",
     "text": [
      "サンプルサイズ: 10\n",
      "自由度: 9\n",
      "標準偏差: 0.825\n",
      "標準誤差: 0.261\n",
      "標本平均: 4.187\n"
     ]
    }
   ],
   "source": [
    "n = len(fish)\n",
    "df = n - 1\n",
    "u = np.std(fish, ddof=1)\n",
    "se = u / np.sqrt(n)\n",
    "\n",
    "print('サンプルサイズ:', n)\n",
    "print('自由度:', df)\n",
    "print('標準偏差:', round(u, 3))\n",
    "print('標準誤差:', round(se, 3))\n",
    "print('標本平均:', round(x_bar, 3))"
   ]
  },
  {
   "cell_type": "code",
   "execution_count": 71,
   "id": "389637bd",
   "metadata": {},
   "outputs": [
    {
     "name": "stdout",
     "output_type": "stream",
     "text": [
      "t分布の2.5％点： -2.262\n",
      "t分布の97.5％点： 2.262\n"
     ]
    }
   ],
   "source": [
    "t_025 = stats.t.ppf(q=0.025, df=df)\n",
    "t_975 = stats.t.ppf(q=0.975, df=df)\n",
    "\n",
    "print('t分布の2.5％点：', round(t_025, 3))\n",
    "print('t分布の97.5％点：', round(t_975, 3))"
   ]
  },
  {
   "cell_type": "code",
   "execution_count": 72,
   "id": "6a5d07e0",
   "metadata": {},
   "outputs": [
    {
     "name": "stdout",
     "output_type": "stream",
     "text": [
      "下側信頼限界: 3.597\n",
      "上側信頼限界： 4.777\n"
     ]
    }
   ],
   "source": [
    "lower_mu = x_bar - t_975 * se\n",
    "upper_mu = x_bar - t_025 * se\n",
    "\n",
    "print('下側信頼限界:', round(lower_mu, 3))\n",
    "print('上側信頼限界：', round(upper_mu, 3))"
   ]
  },
  {
   "cell_type": "code",
   "execution_count": 73,
   "id": "8b13cb57",
   "metadata": {},
   "outputs": [
    {
     "data": {
      "text/plain": [
       "array([3.597, 4.777])"
      ]
     },
     "execution_count": 73,
     "metadata": {},
     "output_type": "execute_result"
    }
   ],
   "source": [
    "res_1 = stats.t.interval(alpha=0.95, df=df, loc=x_bar, scale=se)\n",
    "np.round(res_1, 3)"
   ]
  },
  {
   "cell_type": "code",
   "execution_count": 74,
   "id": "46f2ad40",
   "metadata": {},
   "outputs": [
    {
     "data": {
      "text/plain": [
       "array([-1.713, 10.087])"
      ]
     },
     "execution_count": 74,
     "metadata": {},
     "output_type": "execute_result"
    }
   ],
   "source": [
    "se_2 = (u * 10) / np.sqrt(n)\n",
    "res_2 = stats.t.interval(alpha=0.95, df=df, loc=x_bar, scale=se_2)\n",
    "np.round(res_2, 3)"
   ]
  },
  {
   "cell_type": "code",
   "execution_count": 75,
   "id": "4a2a6269",
   "metadata": {},
   "outputs": [
    {
     "data": {
      "text/plain": [
       "array([4.023, 4.351])"
      ]
     },
     "execution_count": 75,
     "metadata": {},
     "output_type": "execute_result"
    }
   ],
   "source": [
    "n_2 = n * 10\n",
    "df_2 = n_2 - 1\n",
    "se_3 = u / np.sqrt(n_2)\n",
    "res_3 = stats.t.interval(alpha=0.95, df=df_2, loc=x_bar, scale=se_3)\n",
    "np.round(res_3, 3)"
   ]
  },
  {
   "cell_type": "code",
   "execution_count": 76,
   "id": "79804bda",
   "metadata": {},
   "outputs": [
    {
     "data": {
      "text/plain": [
       "array([3.339, 5.035])"
      ]
     },
     "execution_count": 76,
     "metadata": {},
     "output_type": "execute_result"
    }
   ],
   "source": [
    "res_4 = stats.t.interval(alpha=0.99, df=df, loc=x_bar, scale=se)\n",
    "np.round(res_4, 3)"
   ]
  },
  {
   "cell_type": "code",
   "execution_count": 77,
   "id": "2ded37a9",
   "metadata": {},
   "outputs": [],
   "source": [
    "norm_dist = stats.norm(loc=4, scale=0.8)"
   ]
  },
  {
   "cell_type": "code",
   "execution_count": 78,
   "id": "8313a368",
   "metadata": {},
   "outputs": [],
   "source": [
    "num_trials = 20000\n",
    "include_num = 0"
   ]
  },
  {
   "cell_type": "code",
   "execution_count": 79,
   "id": "a132557f",
   "metadata": {},
   "outputs": [],
   "source": [
    "np.random.seed(1)\n",
    "for i in range(0, num_trials):\n",
    "    sample = norm_dist.rvs(size=n)\n",
    "    df = n - 1\n",
    "    x_bar = np.mean(sample)\n",
    "    u = np.std(sample, ddof=1)\n",
    "    se = u / np.sqrt(n)\n",
    "    interval = stats.t.interval(0.95, df, x_bar, se)\n",
    "    if (interval[0] <= 4 <= interval[1]):\n",
    "        include_num = include_num + 1"
   ]
  },
  {
   "cell_type": "code",
   "execution_count": 80,
   "id": "032d144a",
   "metadata": {},
   "outputs": [
    {
     "data": {
      "text/plain": [
       "0.948"
      ]
     },
     "execution_count": 80,
     "metadata": {},
     "output_type": "execute_result"
    }
   ],
   "source": [
    "include_num / num_trials"
   ]
  },
  {
   "cell_type": "code",
   "execution_count": 82,
   "id": "c86f372c",
   "metadata": {},
   "outputs": [
    {
     "name": "stdout",
     "output_type": "stream",
     "text": [
      "x2分布の2.5%点： 2.7\n",
      "x2分布の97.5%点： 19.023\n"
     ]
    }
   ],
   "source": [
    "chi2_025 = stats.chi2.ppf(q=0.025, df=df)\n",
    "chi2_975 = stats.chi2.ppf(q=0.975, df=df)\n",
    "\n",
    "print('x2分布の2.5%点：', round(chi2_025, 3))\n",
    "print('x2分布の97.5%点：', round(chi2_975, 3))"
   ]
  },
  {
   "cell_type": "code",
   "execution_count": 83,
   "id": "21f1f97b",
   "metadata": {},
   "outputs": [
    {
     "name": "stdout",
     "output_type": "stream",
     "text": [
      "0.322\n",
      "2.267\n"
     ]
    }
   ],
   "source": [
    "upper_sigma = (n - 1) * u2 / chi2_025\n",
    "lower_sigma = (n - 1) * u2 / chi2_975\n",
    "\n",
    "print(round(lower_sigma, 3))\n",
    "print(round(upper_sigma, 3))"
   ]
  },
  {
   "cell_type": "code",
   "execution_count": null,
   "id": "ff5fa883",
   "metadata": {},
   "outputs": [],
   "source": []
  }
 ],
 "metadata": {
  "kernelspec": {
   "display_name": "Python 3 (ipykernel)",
   "language": "python",
   "name": "python3"
  },
  "language_info": {
   "codemirror_mode": {
    "name": "ipython",
    "version": 3
   },
   "file_extension": ".py",
   "mimetype": "text/x-python",
   "name": "python",
   "nbconvert_exporter": "python",
   "pygments_lexer": "ipython3",
   "version": "3.9.7"
  }
 },
 "nbformat": 4,
 "nbformat_minor": 5
}

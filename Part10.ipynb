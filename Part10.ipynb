{
 "cells": [
  {
   "cell_type": "code",
   "execution_count": 1,
   "id": "02794ec2",
   "metadata": {},
   "outputs": [
    {
     "name": "stderr",
     "output_type": "stream",
     "text": [
      "/Users/shonakamura/opt/anaconda3/lib/python3.9/site-packages/statsmodels/tsa/base/tsa_model.py:7: FutureWarning: pandas.Int64Index is deprecated and will be removed from pandas in a future version. Use pandas.Index with the appropriate dtype instead.\n",
      "  from pandas import (to_datetime, Int64Index, DatetimeIndex, Period,\n",
      "/Users/shonakamura/opt/anaconda3/lib/python3.9/site-packages/statsmodels/tsa/base/tsa_model.py:7: FutureWarning: pandas.Float64Index is deprecated and will be removed from pandas in a future version. Use pandas.Index with the appropriate dtype instead.\n",
      "  from pandas import (to_datetime, Int64Index, DatetimeIndex, Period,\n"
     ]
    }
   ],
   "source": [
    "import numpy as np\n",
    "import pandas as pd\n",
    "from scipy import stats\n",
    "\n",
    "pd.set_option('display.precision', 3)\n",
    "np.set_printoptions(precision=3)\n",
    "\n",
    "import matplotlib.pyplot as plt\n",
    "import seaborn as sns\n",
    "sns.set()\n",
    "\n",
    "import statsmodels.formula.api as smf\n",
    "import statsmodels.api as sm\n",
    "\n",
    "from sklearn import linear_model"
   ]
  },
  {
   "cell_type": "code",
   "execution_count": 2,
   "id": "17425a0a",
   "metadata": {},
   "outputs": [
    {
     "data": {
      "text/html": [
       "<div>\n",
       "<style scoped>\n",
       "    .dataframe tbody tr th:only-of-type {\n",
       "        vertical-align: middle;\n",
       "    }\n",
       "\n",
       "    .dataframe tbody tr th {\n",
       "        vertical-align: top;\n",
       "    }\n",
       "\n",
       "    .dataframe thead th {\n",
       "        text-align: right;\n",
       "    }\n",
       "</style>\n",
       "<table border=\"1\" class=\"dataframe\">\n",
       "  <thead>\n",
       "    <tr style=\"text-align: right;\">\n",
       "      <th></th>\n",
       "      <th>X_1</th>\n",
       "      <th>X_2</th>\n",
       "      <th>X_3</th>\n",
       "      <th>X_4</th>\n",
       "      <th>X_5</th>\n",
       "      <th>X_6</th>\n",
       "      <th>X_7</th>\n",
       "      <th>X_8</th>\n",
       "      <th>X_9</th>\n",
       "      <th>X_10</th>\n",
       "      <th>...</th>\n",
       "      <th>X_91</th>\n",
       "      <th>X_92</th>\n",
       "      <th>X_93</th>\n",
       "      <th>X_94</th>\n",
       "      <th>X_95</th>\n",
       "      <th>X_96</th>\n",
       "      <th>X_97</th>\n",
       "      <th>X_98</th>\n",
       "      <th>X_99</th>\n",
       "      <th>X_100</th>\n",
       "    </tr>\n",
       "  </thead>\n",
       "  <tbody>\n",
       "    <tr>\n",
       "      <th>0</th>\n",
       "      <td>1.000</td>\n",
       "      <td>0.500</td>\n",
       "      <td>0.333</td>\n",
       "      <td>0.250</td>\n",
       "      <td>0.200</td>\n",
       "      <td>0.167</td>\n",
       "      <td>0.143</td>\n",
       "      <td>0.125</td>\n",
       "      <td>0.111</td>\n",
       "      <td>0.100</td>\n",
       "      <td>...</td>\n",
       "      <td>0.011</td>\n",
       "      <td>0.011</td>\n",
       "      <td>0.011</td>\n",
       "      <td>0.011</td>\n",
       "      <td>0.011</td>\n",
       "      <td>0.01</td>\n",
       "      <td>0.01</td>\n",
       "      <td>0.01</td>\n",
       "      <td>0.01</td>\n",
       "      <td>0.01</td>\n",
       "    </tr>\n",
       "    <tr>\n",
       "      <th>1</th>\n",
       "      <td>0.500</td>\n",
       "      <td>0.333</td>\n",
       "      <td>0.250</td>\n",
       "      <td>0.200</td>\n",
       "      <td>0.167</td>\n",
       "      <td>0.143</td>\n",
       "      <td>0.125</td>\n",
       "      <td>0.111</td>\n",
       "      <td>0.100</td>\n",
       "      <td>0.091</td>\n",
       "      <td>...</td>\n",
       "      <td>0.011</td>\n",
       "      <td>0.011</td>\n",
       "      <td>0.011</td>\n",
       "      <td>0.011</td>\n",
       "      <td>0.010</td>\n",
       "      <td>0.01</td>\n",
       "      <td>0.01</td>\n",
       "      <td>0.01</td>\n",
       "      <td>0.01</td>\n",
       "      <td>0.01</td>\n",
       "    </tr>\n",
       "    <tr>\n",
       "      <th>2</th>\n",
       "      <td>0.333</td>\n",
       "      <td>0.250</td>\n",
       "      <td>0.200</td>\n",
       "      <td>0.167</td>\n",
       "      <td>0.143</td>\n",
       "      <td>0.125</td>\n",
       "      <td>0.111</td>\n",
       "      <td>0.100</td>\n",
       "      <td>0.091</td>\n",
       "      <td>0.083</td>\n",
       "      <td>...</td>\n",
       "      <td>0.011</td>\n",
       "      <td>0.011</td>\n",
       "      <td>0.011</td>\n",
       "      <td>0.010</td>\n",
       "      <td>0.010</td>\n",
       "      <td>0.01</td>\n",
       "      <td>0.01</td>\n",
       "      <td>0.01</td>\n",
       "      <td>0.01</td>\n",
       "      <td>0.01</td>\n",
       "    </tr>\n",
       "    <tr>\n",
       "      <th>3</th>\n",
       "      <td>0.250</td>\n",
       "      <td>0.200</td>\n",
       "      <td>0.167</td>\n",
       "      <td>0.143</td>\n",
       "      <td>0.125</td>\n",
       "      <td>0.111</td>\n",
       "      <td>0.100</td>\n",
       "      <td>0.091</td>\n",
       "      <td>0.083</td>\n",
       "      <td>0.077</td>\n",
       "      <td>...</td>\n",
       "      <td>0.011</td>\n",
       "      <td>0.011</td>\n",
       "      <td>0.010</td>\n",
       "      <td>0.010</td>\n",
       "      <td>0.010</td>\n",
       "      <td>0.01</td>\n",
       "      <td>0.01</td>\n",
       "      <td>0.01</td>\n",
       "      <td>0.01</td>\n",
       "      <td>0.01</td>\n",
       "    </tr>\n",
       "    <tr>\n",
       "      <th>4</th>\n",
       "      <td>0.200</td>\n",
       "      <td>0.167</td>\n",
       "      <td>0.143</td>\n",
       "      <td>0.125</td>\n",
       "      <td>0.111</td>\n",
       "      <td>0.100</td>\n",
       "      <td>0.091</td>\n",
       "      <td>0.083</td>\n",
       "      <td>0.077</td>\n",
       "      <td>0.071</td>\n",
       "      <td>...</td>\n",
       "      <td>0.011</td>\n",
       "      <td>0.010</td>\n",
       "      <td>0.010</td>\n",
       "      <td>0.010</td>\n",
       "      <td>0.010</td>\n",
       "      <td>0.01</td>\n",
       "      <td>0.01</td>\n",
       "      <td>0.01</td>\n",
       "      <td>0.01</td>\n",
       "      <td>0.01</td>\n",
       "    </tr>\n",
       "  </tbody>\n",
       "</table>\n",
       "<p>5 rows × 100 columns</p>\n",
       "</div>"
      ],
      "text/plain": [
       "     X_1    X_2    X_3    X_4    X_5    X_6    X_7    X_8    X_9   X_10  ...  \\\n",
       "0  1.000  0.500  0.333  0.250  0.200  0.167  0.143  0.125  0.111  0.100  ...   \n",
       "1  0.500  0.333  0.250  0.200  0.167  0.143  0.125  0.111  0.100  0.091  ...   \n",
       "2  0.333  0.250  0.200  0.167  0.143  0.125  0.111  0.100  0.091  0.083  ...   \n",
       "3  0.250  0.200  0.167  0.143  0.125  0.111  0.100  0.091  0.083  0.077  ...   \n",
       "4  0.200  0.167  0.143  0.125  0.111  0.100  0.091  0.083  0.077  0.071  ...   \n",
       "\n",
       "    X_91   X_92   X_93   X_94   X_95  X_96  X_97  X_98  X_99  X_100  \n",
       "0  0.011  0.011  0.011  0.011  0.011  0.01  0.01  0.01  0.01   0.01  \n",
       "1  0.011  0.011  0.011  0.011  0.010  0.01  0.01  0.01  0.01   0.01  \n",
       "2  0.011  0.011  0.011  0.010  0.010  0.01  0.01  0.01  0.01   0.01  \n",
       "3  0.011  0.011  0.010  0.010  0.010  0.01  0.01  0.01  0.01   0.01  \n",
       "4  0.011  0.010  0.010  0.010  0.010  0.01  0.01  0.01  0.01   0.01  \n",
       "\n",
       "[5 rows x 100 columns]"
      ]
     },
     "execution_count": 2,
     "metadata": {},
     "output_type": "execute_result"
    }
   ],
   "source": [
    "X = pd.read_csv('10-3-1-large-data.csv')\n",
    "X.head()"
   ]
  },
  {
   "cell_type": "code",
   "execution_count": 3,
   "id": "01c130be",
   "metadata": {},
   "outputs": [
    {
     "data": {
      "text/plain": [
       "0.037"
      ]
     },
     "execution_count": 3,
     "metadata": {},
     "output_type": "execute_result"
    }
   ],
   "source": [
    "round(np.mean(X.X_1), 3)"
   ]
  },
  {
   "cell_type": "code",
   "execution_count": 4,
   "id": "ec40d4d8",
   "metadata": {},
   "outputs": [
    {
     "data": {
      "text/plain": [
       "X_1    0.037\n",
       "X_2    0.031\n",
       "X_3    0.027\n",
       "X_4    0.025\n",
       "X_5    0.024\n",
       "dtype: float64"
      ]
     },
     "execution_count": 4,
     "metadata": {},
     "output_type": "execute_result"
    }
   ],
   "source": [
    "np.mean(X, axis=0).head()"
   ]
  },
  {
   "cell_type": "code",
   "execution_count": 5,
   "id": "dcca6a8f",
   "metadata": {},
   "outputs": [],
   "source": [
    "X -= np.mean(X, axis=0)\n",
    "X /= np.std(X, ddof=1, axis=0)"
   ]
  },
  {
   "cell_type": "code",
   "execution_count": 6,
   "id": "bf5afd7a",
   "metadata": {},
   "outputs": [
    {
     "data": {
      "text/plain": [
       "X_1    0.0\n",
       "X_2   -0.0\n",
       "X_3    0.0\n",
       "X_4   -0.0\n",
       "X_5    0.0\n",
       "dtype: float64"
      ]
     },
     "execution_count": 6,
     "metadata": {},
     "output_type": "execute_result"
    }
   ],
   "source": [
    "np.mean(X, axis=0).head().round(3)"
   ]
  },
  {
   "cell_type": "code",
   "execution_count": 7,
   "id": "62636209",
   "metadata": {},
   "outputs": [
    {
     "data": {
      "text/plain": [
       "X_1    1.0\n",
       "X_2    1.0\n",
       "X_3    1.0\n",
       "X_4    1.0\n",
       "X_5    1.0\n",
       "dtype: float64"
      ]
     },
     "execution_count": 7,
     "metadata": {},
     "output_type": "execute_result"
    }
   ],
   "source": [
    "np.std(X, ddof=1, axis=0).head().round(3)"
   ]
  },
  {
   "cell_type": "code",
   "execution_count": 8,
   "id": "4779b9eb",
   "metadata": {},
   "outputs": [],
   "source": [
    "np.random.seed(1)\n",
    "noise = stats.norm.rvs(loc=0, scale=1, size=X.shape[0])\n",
    "\n",
    "y = X.X_1 * 5 + noise"
   ]
  },
  {
   "cell_type": "code",
   "execution_count": 9,
   "id": "61cbdcec",
   "metadata": {},
   "outputs": [
    {
     "data": {
      "text/plain": [
       "<seaborn.axisgrid.JointGrid at 0x7f84b076fa60>"
      ]
     },
     "execution_count": 9,
     "metadata": {},
     "output_type": "execute_result"
    },
    {
     "data": {
      "image/png": "[encoded data removed]",
      "text/plain": [
       "<Figure size 432x432 with 3 Axes>"
      ]
     },
     "metadata": {},
     "output_type": "display_data"
    }
   ],
   "source": [
    "large_data = pd.concat([pd.DataFrame({'y':y}), X], axis=1)\n",
    "sns.jointplot(y='y', x='X_1', data=large_data, color='black')"
   ]
  },
  {
   "cell_type": "code",
   "execution_count": 10,
   "id": "9f61a99d",
   "metadata": {},
   "outputs": [
    {
     "data": {
      "text/plain": [
       "X_1     14.755\n",
       "X_2    -87.463\n",
       "X_3    211.743\n",
       "X_4    -94.153\n",
       "X_5    -68.175\n",
       "dtype: float64"
      ]
     },
     "execution_count": 10,
     "metadata": {},
     "output_type": "execute_result"
    }
   ],
   "source": [
    "lm_statsmodels = sm.OLS(endog=y, exog=X).fit()\n",
    "lm_statsmodels.params.head()"
   ]
  },
  {
   "cell_type": "code",
   "execution_count": 11,
   "id": "9f0a24c4",
   "metadata": {},
   "outputs": [
    {
     "data": {
      "text/plain": [
       "array([ 1.476e+01, -8.746e+01,  2.117e+02, -9.415e+01, -6.817e+01,\n",
       "       -9.284e+01,  1.761e+00,  8.170e+01,  6.680e+01,  2.788e+01,\n",
       "       -3.288e+01,  6.818e+01, -1.699e+01,  2.208e+01, -4.855e+01,\n",
       "       -3.390e+01, -4.536e+01,  9.728e+00,  2.481e+01,  1.858e+00,\n",
       "        1.599e+00, -2.838e+01,  6.477e+00, -5.980e+01,  3.532e+01,\n",
       "       -1.302e+01,  4.108e+01, -4.303e+01,  5.247e+01,  1.920e+00,\n",
       "        3.342e+01,  8.490e+00,  8.329e+00, -2.293e+01, -3.577e+01,\n",
       "       -1.337e+01,  3.178e+01, -2.018e+01, -2.654e+01, -3.523e+01,\n",
       "        1.927e+01,  4.823e+01, -1.655e+00,  5.749e-01, -1.893e+01,\n",
       "        7.370e-01,  1.047e+01, -7.732e+00, -1.854e+00, -2.559e-01,\n",
       "       -5.045e+00, -4.227e+00,  2.523e+01,  1.616e+01, -1.310e+01,\n",
       "        6.455e+00, -1.332e+01, -2.291e+01, -1.202e+01,  7.745e+00,\n",
       "        1.755e+01,  5.997e+00,  4.648e+00,  4.120e+00, -1.825e+00,\n",
       "        5.366e+00,  4.546e+00, -2.598e+00, -4.091e+00,  7.496e+00,\n",
       "        3.100e+01,  1.530e+01, -5.323e+00, -1.509e+01, -3.801e+00,\n",
       "       -6.584e+00, -7.203e-02, -4.237e+00,  3.355e+00,  3.176e+00,\n",
       "        6.025e+00, -2.422e-01,  2.628e+00, -2.131e-02, -8.349e+00,\n",
       "       -5.091e+00, -5.060e+00, -4.779e+00,  7.645e+00,  1.797e+00,\n",
       "        4.276e+00,  1.418e-01,  2.800e+00,  3.146e+00, -5.188e+00,\n",
       "       -2.479e+00, -1.306e+01, -5.545e+00, -2.923e+00,  2.945e+00])"
      ]
     },
     "execution_count": 11,
     "metadata": {},
     "output_type": "execute_result"
    }
   ],
   "source": [
    "lm_sklearn = linear_model.LinearRegression()\n",
    "lm_sklearn.fit(X, y)\n",
    "lm_sklearn.coef_"
   ]
  },
  {
   "cell_type": "code",
   "execution_count": 12,
   "id": "dbb2e3ba",
   "metadata": {},
   "outputs": [],
   "source": [
    "n_alphas = 50\n",
    "ridge_alphas = np.logspace(-2, 0.7, n_alphas)"
   ]
  },
  {
   "cell_type": "code",
   "execution_count": 13,
   "id": "13aa8c69",
   "metadata": {},
   "outputs": [
    {
     "data": {
      "text/plain": [
       "array([-2.   , -1.945, -1.89 , -1.835, -1.78 , -1.724, -1.669, -1.614,\n",
       "       -1.559, -1.504, -1.449, -1.394, -1.339, -1.284, -1.229, -1.173,\n",
       "       -1.118, -1.063, -1.008, -0.953, -0.898, -0.843, -0.788, -0.733,\n",
       "       -0.678, -0.622, -0.567, -0.512, -0.457, -0.402, -0.347, -0.292,\n",
       "       -0.237, -0.182, -0.127, -0.071, -0.016,  0.039,  0.094,  0.149,\n",
       "        0.204,  0.259,  0.314,  0.369,  0.424,  0.48 ,  0.535,  0.59 ,\n",
       "        0.645,  0.7  ])"
      ]
     },
     "execution_count": 13,
     "metadata": {},
     "output_type": "execute_result"
    }
   ],
   "source": [
    "np.log10(ridge_alphas)"
   ]
  },
  {
   "cell_type": "code",
   "execution_count": 14,
   "id": "34db0602",
   "metadata": {},
   "outputs": [],
   "source": [
    "ridge_coefs = []\n",
    "\n",
    "for a in ridge_alphas:\n",
    "    ridge = linear_model.Ridge(alpha=a, fit_intercept=False)\n",
    "    ridge.fit(X, y)\n",
    "    ridge_coefs.append(ridge.coef_)"
   ]
  },
  {
   "cell_type": "code",
   "execution_count": 15,
   "id": "8fae11db",
   "metadata": {},
   "outputs": [
    {
     "data": {
      "text/plain": [
       "(50, 100)"
      ]
     },
     "execution_count": 15,
     "metadata": {},
     "output_type": "execute_result"
    }
   ],
   "source": [
    "ridge_coefs = np.array(ridge_coefs)\n",
    "ridge_coefs.shape"
   ]
  },
  {
   "cell_type": "code",
   "execution_count": 16,
   "id": "c8493c8a",
   "metadata": {},
   "outputs": [
    {
     "data": {
      "text/plain": [
       "Text(0, 0.5, 'Coefficients')"
      ]
     },
     "execution_count": 16,
     "metadata": {},
     "output_type": "execute_result"
    },
    {
     "data": {
      "image/png": "[encoded data removed]",
      "text/plain": [
       "<Figure size 432x288 with 1 Axes>"
      ]
     },
     "metadata": {},
     "output_type": "display_data"
    }
   ],
   "source": [
    "log_alphas = -np.log10(ridge_alphas)\n",
    "\n",
    "plt.plot(log_alphas, ridge_coefs, color='black')\n",
    "\n",
    "plt.text(max(log_alphas) + 0.1, ridge_coefs[0, 0], 'X_1')\n",
    "\n",
    "plt.xlim([min(log_alphas) - 0.1, max(log_alphas) + 0.3])\n",
    "\n",
    "plt.title('Ridge')\n",
    "plt.xlabel('- log10(alpha)')\n",
    "plt.ylabel('Coefficients')"
   ]
  },
  {
   "cell_type": "code",
   "execution_count": 17,
   "id": "e9482d46",
   "metadata": {},
   "outputs": [
    {
     "data": {
      "text/plain": [
       "0.237"
      ]
     },
     "execution_count": 17,
     "metadata": {},
     "output_type": "execute_result"
    }
   ],
   "source": [
    "ridge_best = linear_model.RidgeCV(cv=10, alphas=ridge_alphas, fit_intercept=False)\n",
    "ridge_best.fit(X, y)\n",
    "\n",
    "round(-np.log10(ridge_best.alpha_), 3)"
   ]
  },
  {
   "cell_type": "code",
   "execution_count": 18,
   "id": "db9b2ce8",
   "metadata": {},
   "outputs": [
    {
     "data": {
      "text/plain": [
       "0.58"
      ]
     },
     "execution_count": 18,
     "metadata": {},
     "output_type": "execute_result"
    }
   ],
   "source": [
    "round(ridge_best.alpha_, 3)"
   ]
  },
  {
   "cell_type": "code",
   "execution_count": 19,
   "id": "21bde57e",
   "metadata": {},
   "outputs": [
    {
     "data": {
      "text/plain": [
       "array([ 4.46,  1.29,  0.29, -0.09, -0.2 , -0.23, -0.22, -0.21, -0.14,\n",
       "       -0.14, -0.15, -0.05, -0.1 , -0.02, -0.11, -0.01, -0.09,  0.01,\n",
       "       -0.02, -0.03,  0.02, -0.03,  0.04, -0.09,  0.13,  0.02,  0.06,\n",
       "       -0.08,  0.14, -0.01,  0.1 ,  0.12, -0.04,  0.04, -0.03,  0.02,\n",
       "        0.12, -0.17, -0.01, -0.18,  0.09,  0.22,  0.04, -0.03, -0.01,\n",
       "        0.03,  0.34, -0.19, -0.11,  0.21, -0.13, -0.25,  0.25,  0.13,\n",
       "       -0.16,  0.27,  0.03, -0.17, -0.18,  0.16, -0.01,  0.01,  0.19,\n",
       "        0.13, -0.16, -0.02,  0.26,  0.22, -0.18,  0.01,  0.53,  0.18,\n",
       "       -0.35, -0.12,  0.23, -0.04, -0.12, -0.05,  0.21,  0.19, -0.04,\n",
       "       -0.2 , -0.1 ,  0.06, -0.22,  0.15, -0.04, -0.11,  0.21,  0.01,\n",
       "        0.13, -0.03, -0.02, -0.23, -0.2 ,  0.24, -0.31, -0.4 , -0.16,\n",
       "        0.16])"
      ]
     },
     "execution_count": 19,
     "metadata": {},
     "output_type": "execute_result"
    }
   ],
   "source": [
    "ridge_best.coef_.round(2)"
   ]
  },
  {
   "cell_type": "code",
   "execution_count": 21,
   "id": "46109b98",
   "metadata": {},
   "outputs": [
    {
     "ename": "ValueError",
     "evalue": "('Unexpected parameters in params', dict_keys(['fit_intercept']))",
     "output_type": "error",
     "traceback": [
      "\u001b[0;31m---------------------------------------------------------------------------\u001b[0m",
      "\u001b[0;31mValueError\u001b[0m                                Traceback (most recent call last)",
      "\u001b[0;32m/var/folders/h8/6j9fnlsn7bq6gh649_gcjkc80000gn/T/ipykernel_64463/534583321.py\u001b[0m in \u001b[0;36m<module>\u001b[0;34m\u001b[0m\n\u001b[0;32m----> 1\u001b[0;31m \u001b[0mlasso_alphas\u001b[0m\u001b[0;34m,\u001b[0m \u001b[0mlasso_coefs\u001b[0m\u001b[0;34m,\u001b[0m \u001b[0m_\u001b[0m \u001b[0;34m=\u001b[0m \u001b[0mlinear_model\u001b[0m\u001b[0;34m.\u001b[0m\u001b[0mlasso_path\u001b[0m\u001b[0;34m(\u001b[0m\u001b[0mX\u001b[0m\u001b[0;34m,\u001b[0m \u001b[0my\u001b[0m\u001b[0;34m,\u001b[0m \u001b[0mfit_intercept\u001b[0m\u001b[0;34m=\u001b[0m\u001b[0;32mFalse\u001b[0m\u001b[0;34m)\u001b[0m\u001b[0;34m\u001b[0m\u001b[0;34m\u001b[0m\u001b[0m\n\u001b[0m",
      "\u001b[0;32m~/opt/anaconda3/lib/python3.9/site-packages/sklearn/linear_model/_coordinate_descent.py\u001b[0m in \u001b[0;36mlasso_path\u001b[0;34m(X, y, eps, n_alphas, alphas, precompute, Xy, copy_X, coef_init, verbose, return_n_iter, positive, **params)\u001b[0m\n\u001b[1;32m    330\u001b[0m      [0.2159048  0.4425765  0.23668876]]\n\u001b[1;32m    331\u001b[0m     \"\"\"\n\u001b[0;32m--> 332\u001b[0;31m     return enet_path(\n\u001b[0m\u001b[1;32m    333\u001b[0m         \u001b[0mX\u001b[0m\u001b[0;34m,\u001b[0m\u001b[0;34m\u001b[0m\u001b[0;34m\u001b[0m\u001b[0m\n\u001b[1;32m    334\u001b[0m         \u001b[0my\u001b[0m\u001b[0;34m,\u001b[0m\u001b[0;34m\u001b[0m\u001b[0;34m\u001b[0m\u001b[0m\n",
      "\u001b[0;32m~/opt/anaconda3/lib/python3.9/site-packages/sklearn/linear_model/_coordinate_descent.py\u001b[0m in \u001b[0;36menet_path\u001b[0;34m(X, y, l1_ratio, eps, n_alphas, alphas, precompute, Xy, copy_X, coef_init, verbose, return_n_iter, positive, check_input, **params)\u001b[0m\n\u001b[1;32m    491\u001b[0m \u001b[0;34m\u001b[0m\u001b[0m\n\u001b[1;32m    492\u001b[0m     \u001b[0;32mif\u001b[0m \u001b[0mlen\u001b[0m\u001b[0;34m(\u001b[0m\u001b[0mparams\u001b[0m\u001b[0;34m)\u001b[0m \u001b[0;34m>\u001b[0m \u001b[0;36m0\u001b[0m\u001b[0;34m:\u001b[0m\u001b[0;34m\u001b[0m\u001b[0;34m\u001b[0m\u001b[0m\n\u001b[0;32m--> 493\u001b[0;31m         \u001b[0;32mraise\u001b[0m \u001b[0mValueError\u001b[0m\u001b[0;34m(\u001b[0m\u001b[0;34m\"Unexpected parameters in params\"\u001b[0m\u001b[0;34m,\u001b[0m \u001b[0mparams\u001b[0m\u001b[0;34m.\u001b[0m\u001b[0mkeys\u001b[0m\u001b[0;34m(\u001b[0m\u001b[0;34m)\u001b[0m\u001b[0;34m)\u001b[0m\u001b[0;34m\u001b[0m\u001b[0;34m\u001b[0m\u001b[0m\n\u001b[0m\u001b[1;32m    494\u001b[0m \u001b[0;34m\u001b[0m\u001b[0m\n\u001b[1;32m    495\u001b[0m     \u001b[0;31m# We expect X and y to be already Fortran ordered when bypassing\u001b[0m\u001b[0;34m\u001b[0m\u001b[0;34m\u001b[0m\u001b[0m\n",
      "\u001b[0;31mValueError\u001b[0m: ('Unexpected parameters in params', dict_keys(['fit_intercept']))"
     ]
    }
   ],
   "source": [
    "lasso_alphas, lasso_coefs, _ = linear_model.lasso_path(X, y, fit_intercept=False)"
   ]
  },
  {
   "cell_type": "code",
   "execution_count": 23,
   "id": "1fc540dd",
   "metadata": {},
   "outputs": [
    {
     "ename": "NameError",
     "evalue": "name 'lasso_alphas' is not defined",
     "output_type": "error",
     "traceback": [
      "\u001b[0;31m---------------------------------------------------------------------------\u001b[0m",
      "\u001b[0;31mNameError\u001b[0m                                 Traceback (most recent call last)",
      "\u001b[0;32m/var/folders/h8/6j9fnlsn7bq6gh649_gcjkc80000gn/T/ipykernel_64463/439646998.py\u001b[0m in \u001b[0;36m<module>\u001b[0;34m\u001b[0m\n\u001b[0;32m----> 1\u001b[0;31m \u001b[0mlog_alphas\u001b[0m \u001b[0;34m=\u001b[0m \u001b[0;34m-\u001b[0m\u001b[0mnp\u001b[0m\u001b[0;34m.\u001b[0m\u001b[0mlog10\u001b[0m\u001b[0;34m(\u001b[0m\u001b[0mlasso_alphas\u001b[0m\u001b[0;34m)\u001b[0m\u001b[0;34m\u001b[0m\u001b[0;34m\u001b[0m\u001b[0m\n\u001b[0m\u001b[1;32m      2\u001b[0m \u001b[0;34m\u001b[0m\u001b[0m\n\u001b[1;32m      3\u001b[0m \u001b[0mplt\u001b[0m\u001b[0;34m.\u001b[0m\u001b[0mplot\u001b[0m\u001b[0;34m(\u001b[0m\u001b[0mlog_alphas\u001b[0m\u001b[0;34m,\u001b[0m \u001b[0mlasso_coefs\u001b[0m\u001b[0;34m.\u001b[0m\u001b[0mT\u001b[0m\u001b[0;34m,\u001b[0m \u001b[0mcolor\u001b[0m\u001b[0;34m=\u001b[0m\u001b[0;34m'black'\u001b[0m\u001b[0;34m)\u001b[0m\u001b[0;34m\u001b[0m\u001b[0;34m\u001b[0m\u001b[0m\n\u001b[1;32m      4\u001b[0m \u001b[0;34m\u001b[0m\u001b[0m\n\u001b[1;32m      5\u001b[0m \u001b[0mplt\u001b[0m\u001b[0;34m.\u001b[0m\u001b[0mtext\u001b[0m\u001b[0;34m(\u001b[0m\u001b[0mmax\u001b[0m\u001b[0;34m(\u001b[0m\u001b[0mlog_alphas\u001b[0m\u001b[0;34m)\u001b[0m \u001b[0;34m+\u001b[0m \u001b[0;36m0.1\u001b[0m\u001b[0;34m,\u001b[0m \u001b[0mlasso_coefs\u001b[0m\u001b[0;34m[\u001b[0m\u001b[0;36m0\u001b[0m\u001b[0;34m,\u001b[0m \u001b[0;34m-\u001b[0m\u001b[0;36m1\u001b[0m\u001b[0;34m]\u001b[0m\u001b[0;34m,\u001b[0m \u001b[0;34m'X_1'\u001b[0m\u001b[0;34m)\u001b[0m\u001b[0;34m\u001b[0m\u001b[0;34m\u001b[0m\u001b[0m\n",
      "\u001b[0;31mNameError\u001b[0m: name 'lasso_alphas' is not defined"
     ]
    }
   ],
   "source": [
    "log_alphas = -np.log10(lasso_alphas)\n",
    "\n",
    "plt.plot(log_alphas, lasso_coefs.T, color='black')\n",
    "\n",
    "plt.text(max(log_alphas) + 0.1, lasso_coefs[0, -1], 'X_1')\n",
    "\n",
    "plt.xlim([min(log_alphas) - 0.1, max(log_alphas) + 0.3])\n",
    "\n",
    "plt.title('Lasso')\n",
    "plt.xlabel('- log10(alpha)')\n",
    "plt.ylabel('Coefficients')"
   ]
  },
  {
   "cell_type": "code",
   "execution_count": 24,
   "id": "ae51eada",
   "metadata": {},
   "outputs": [
    {
     "ename": "NameError",
     "evalue": "name 'lasso_alphas' is not defined",
     "output_type": "error",
     "traceback": [
      "\u001b[0;31m---------------------------------------------------------------------------\u001b[0m",
      "\u001b[0;31mNameError\u001b[0m                                 Traceback (most recent call last)",
      "\u001b[0;32m/var/folders/h8/6j9fnlsn7bq6gh649_gcjkc80000gn/T/ipykernel_64463/1777335608.py\u001b[0m in \u001b[0;36m<module>\u001b[0;34m\u001b[0m\n\u001b[0;32m----> 1\u001b[0;31m \u001b[0mlasso_best\u001b[0m \u001b[0;34m=\u001b[0m \u001b[0mlinear_model\u001b[0m\u001b[0;34m.\u001b[0m\u001b[0mLassoCV\u001b[0m\u001b[0;34m(\u001b[0m\u001b[0mcv\u001b[0m\u001b[0;34m=\u001b[0m\u001b[0;36m10\u001b[0m\u001b[0;34m,\u001b[0m \u001b[0malphas\u001b[0m\u001b[0;34m=\u001b[0m\u001b[0mlasso_alphas\u001b[0m\u001b[0;34m,\u001b[0m \u001b[0mfit_intercept\u001b[0m\u001b[0;34m=\u001b[0m\u001b[0;32mFalse\u001b[0m\u001b[0;34m)\u001b[0m\u001b[0;34m\u001b[0m\u001b[0;34m\u001b[0m\u001b[0m\n\u001b[0m\u001b[1;32m      2\u001b[0m \u001b[0mlasso_best\u001b[0m\u001b[0;34m.\u001b[0m\u001b[0mfit\u001b[0m\u001b[0;34m(\u001b[0m\u001b[0mX\u001b[0m\u001b[0;34m,\u001b[0m \u001b[0my\u001b[0m\u001b[0;34m)\u001b[0m\u001b[0;34m\u001b[0m\u001b[0;34m\u001b[0m\u001b[0m\n\u001b[1;32m      3\u001b[0m \u001b[0;34m\u001b[0m\u001b[0m\n\u001b[1;32m      4\u001b[0m \u001b[0mround\u001b[0m\u001b[0;34m(\u001b[0m\u001b[0;34m-\u001b[0m\u001b[0mnp\u001b[0m\u001b[0;34m.\u001b[0m\u001b[0mlog10\u001b[0m\u001b[0;34m(\u001b[0m\u001b[0mlasso_best\u001b[0m\u001b[0;34m.\u001b[0m\u001b[0malpha_\u001b[0m\u001b[0;34m)\u001b[0m\u001b[0;34m,\u001b[0m \u001b[0;36m3\u001b[0m\u001b[0;34m)\u001b[0m\u001b[0;34m\u001b[0m\u001b[0;34m\u001b[0m\u001b[0m\n",
      "\u001b[0;31mNameError\u001b[0m: name 'lasso_alphas' is not defined"
     ]
    }
   ],
   "source": [
    "lasso_best = linear_model.LassoCV(cv=10, alphas=lasso_alphas, fit_intercept=False)\n",
    "lasso_best.fit(X, y)\n",
    "\n",
    "round(-np.log10(lasso_best.alpha_), 3)"
   ]
  },
  {
   "cell_type": "code",
   "execution_count": 25,
   "id": "e14a65bb",
   "metadata": {},
   "outputs": [
    {
     "ename": "NameError",
     "evalue": "name 'lasso_best' is not defined",
     "output_type": "error",
     "traceback": [
      "\u001b[0;31m---------------------------------------------------------------------------\u001b[0m",
      "\u001b[0;31mNameError\u001b[0m                                 Traceback (most recent call last)",
      "\u001b[0;32m/var/folders/h8/6j9fnlsn7bq6gh649_gcjkc80000gn/T/ipykernel_64463/775574913.py\u001b[0m in \u001b[0;36m<module>\u001b[0;34m\u001b[0m\n\u001b[0;32m----> 1\u001b[0;31m \u001b[0mround\u001b[0m\u001b[0;34m(\u001b[0m\u001b[0mlasso_best\u001b[0m\u001b[0;34m.\u001b[0m\u001b[0malpha_\u001b[0m\u001b[0;34m,\u001b[0m \u001b[0;36m3\u001b[0m\u001b[0;34m)\u001b[0m\u001b[0;34m\u001b[0m\u001b[0;34m\u001b[0m\u001b[0m\n\u001b[0m",
      "\u001b[0;31mNameError\u001b[0m: name 'lasso_best' is not defined"
     ]
    }
   ],
   "source": [
    "round(lasso_best.alpha_, 3)"
   ]
  },
  {
   "cell_type": "code",
   "execution_count": 26,
   "id": "e0742fda",
   "metadata": {},
   "outputs": [
    {
     "ename": "NameError",
     "evalue": "name 'lasso_best' is not defined",
     "output_type": "error",
     "traceback": [
      "\u001b[0;31m---------------------------------------------------------------------------\u001b[0m",
      "\u001b[0;31mNameError\u001b[0m                                 Traceback (most recent call last)",
      "\u001b[0;32m/var/folders/h8/6j9fnlsn7bq6gh649_gcjkc80000gn/T/ipykernel_64463/1418767903.py\u001b[0m in \u001b[0;36m<module>\u001b[0;34m\u001b[0m\n\u001b[0;32m----> 1\u001b[0;31m \u001b[0mlasso_best\u001b[0m\u001b[0;34m.\u001b[0m\u001b[0mcoef_\u001b[0m\u001b[0;34m.\u001b[0m\u001b[0mround\u001b[0m\u001b[0;34m(\u001b[0m\u001b[0;36m2\u001b[0m\u001b[0;34m)\u001b[0m\u001b[0;34m\u001b[0m\u001b[0;34m\u001b[0m\u001b[0m\n\u001b[0m",
      "\u001b[0;31mNameError\u001b[0m: name 'lasso_best' is not defined"
     ]
    }
   ],
   "source": [
    "lasso_best.coef_.round(2)"
   ]
  },
  {
   "cell_type": "code",
   "execution_count": 27,
   "id": "c0d7dee5",
   "metadata": {},
   "outputs": [
    {
     "name": "stdout",
     "output_type": "stream",
     "text": [
      "     X_1    X_2    X_3    X_4    X_5    X_6    X_7    X_8    X_9   X_10  ...  \\\n",
      "0  9.828  8.123  7.108  6.429  5.937  5.561  5.261  5.013  4.805  4.628  ...   \n",
      "\n",
      "    X_91   X_92   X_93   X_94   X_95   X_96   X_97  X_98   X_99  X_100  \n",
      "0  2.396  2.401  2.405  2.354  2.354  2.354  2.353  2.35  2.346  2.342  \n",
      "\n",
      "[1 rows x 100 columns]\n"
     ]
    }
   ],
   "source": [
    "print(X.iloc[0:1, ])"
   ]
  },
  {
   "cell_type": "code",
   "execution_count": 28,
   "id": "3cd2875f",
   "metadata": {},
   "outputs": [
    {
     "ename": "NameError",
     "evalue": "name 'lasso_best' is not defined",
     "output_type": "error",
     "traceback": [
      "\u001b[0;31m---------------------------------------------------------------------------\u001b[0m",
      "\u001b[0;31mNameError\u001b[0m                                 Traceback (most recent call last)",
      "\u001b[0;32m/var/folders/h8/6j9fnlsn7bq6gh649_gcjkc80000gn/T/ipykernel_64463/2372503826.py\u001b[0m in \u001b[0;36m<module>\u001b[0;34m\u001b[0m\n\u001b[0;32m----> 1\u001b[0;31m \u001b[0mlasso_best\u001b[0m\u001b[0;34m.\u001b[0m\u001b[0mpredict\u001b[0m\u001b[0;34m(\u001b[0m\u001b[0mX\u001b[0m\u001b[0;34m=\u001b[0m\u001b[0mX\u001b[0m\u001b[0;34m.\u001b[0m\u001b[0miloc\u001b[0m\u001b[0;34m[\u001b[0m\u001b[0;36m0\u001b[0m\u001b[0;34m:\u001b[0m\u001b[0;36m1\u001b[0m\u001b[0;34m,\u001b[0m \u001b[0;34m]\u001b[0m\u001b[0;34m)\u001b[0m\u001b[0;34m\u001b[0m\u001b[0;34m\u001b[0m\u001b[0m\n\u001b[0m",
      "\u001b[0;31mNameError\u001b[0m: name 'lasso_best' is not defined"
     ]
    }
   ],
   "source": [
    "lasso_best.predict(X=X.iloc[0:1, ])"
   ]
  },
  {
   "cell_type": "code",
   "execution_count": 30,
   "id": "2c08819d",
   "metadata": {},
   "outputs": [],
   "source": [
    "import numpy as np\n",
    "import pandas as pd\n",
    "\n",
    "pd.set_option('display.precision', 3)\n",
    "np.set_printoptions(precision=3)\n",
    "\n",
    "import statsmodels.formula.api as smf\n",
    "import statsmodels.api as sm\n",
    "\n",
    "import matplotlib.pyplot as plt\n",
    "import seaborn as sns\n",
    "sns.set()\n",
    "\n",
    "from sklearn.neural_network import MLPRegressor, MLPClassifier\n",
    "from sklearn.linear_model import LinearRegression, LogisticRegression\n",
    "\n",
    "from sklearn.datasets import make_circles\n",
    "\n",
    "from sklearn.model_selection import train_test_split"
   ]
  },
  {
   "cell_type": "code",
   "execution_count": 31,
   "id": "0aa2dd1d",
   "metadata": {},
   "outputs": [
    {
     "data": {
      "text/html": [
       "<div>\n",
       "<style scoped>\n",
       "    .dataframe tbody tr th:only-of-type {\n",
       "        vertical-align: middle;\n",
       "    }\n",
       "\n",
       "    .dataframe tbody tr th {\n",
       "        vertical-align: top;\n",
       "    }\n",
       "\n",
       "    .dataframe thead th {\n",
       "        text-align: right;\n",
       "    }\n",
       "</style>\n",
       "<table border=\"1\" class=\"dataframe\">\n",
       "  <thead>\n",
       "    <tr style=\"text-align: right;\">\n",
       "      <th></th>\n",
       "      <th>beer</th>\n",
       "      <th>temperature</th>\n",
       "    </tr>\n",
       "  </thead>\n",
       "  <tbody>\n",
       "    <tr>\n",
       "      <th>0</th>\n",
       "      <td>45.3</td>\n",
       "      <td>20.5</td>\n",
       "    </tr>\n",
       "    <tr>\n",
       "      <th>1</th>\n",
       "      <td>59.3</td>\n",
       "      <td>25.0</td>\n",
       "    </tr>\n",
       "    <tr>\n",
       "      <th>2</th>\n",
       "      <td>40.4</td>\n",
       "      <td>10.0</td>\n",
       "    </tr>\n",
       "    <tr>\n",
       "      <th>3</th>\n",
       "      <td>38.0</td>\n",
       "      <td>26.9</td>\n",
       "    </tr>\n",
       "    <tr>\n",
       "      <th>4</th>\n",
       "      <td>37.0</td>\n",
       "      <td>15.8</td>\n",
       "    </tr>\n",
       "  </tbody>\n",
       "</table>\n",
       "</div>"
      ],
      "text/plain": [
       "   beer  temperature\n",
       "0  45.3         20.5\n",
       "1  59.3         25.0\n",
       "2  40.4         10.0\n",
       "3  38.0         26.9\n",
       "4  37.0         15.8"
      ]
     },
     "execution_count": 31,
     "metadata": {},
     "output_type": "execute_result"
    }
   ],
   "source": [
    "beer = pd.read_csv('8-1-1-beer.csv')\n",
    "beer.head()"
   ]
  },
  {
   "cell_type": "code",
   "execution_count": 32,
   "id": "a6718e49",
   "metadata": {},
   "outputs": [
    {
     "data": {
      "text/plain": [
       "Intercept      34.610\n",
       "temperature     0.765\n",
       "dtype: float64"
      ]
     },
     "execution_count": 32,
     "metadata": {},
     "output_type": "execute_result"
    }
   ],
   "source": [
    "lm_stats = smf.ols(formula='beer ~ temperature', data=beer).fit()\n",
    "lm_stats.params"
   ]
  },
  {
   "cell_type": "code",
   "execution_count": 33,
   "id": "cfb79a2d",
   "metadata": {},
   "outputs": [
    {
     "data": {
      "text/plain": [
       "0    49.919\n",
       "dtype: float64"
      ]
     },
     "execution_count": 33,
     "metadata": {},
     "output_type": "execute_result"
    }
   ],
   "source": [
    "lm_stats.predict(pd.DataFrame({'temperature': [20]}))"
   ]
  },
  {
   "cell_type": "code",
   "execution_count": 34,
   "id": "580cf065",
   "metadata": {},
   "outputs": [],
   "source": [
    "X_beer = beer['temperature'].to_numpy().reshape(-1, 1)\n",
    "y_beer = beer['beer'].to_numpy()"
   ]
  },
  {
   "cell_type": "code",
   "execution_count": 35,
   "id": "573a6648",
   "metadata": {},
   "outputs": [
    {
     "data": {
      "text/plain": [
       "array([[20.5],\n",
       "       [25. ],\n",
       "       [10. ],\n",
       "       [26.9],\n",
       "       [15.8],\n",
       "       [ 4.2],\n",
       "       [13.5],\n",
       "       [26. ],\n",
       "       [23.3],\n",
       "       [ 8.5],\n",
       "       [26.2],\n",
       "       [19.1],\n",
       "       [24.3],\n",
       "       [23.3],\n",
       "       [ 8.4],\n",
       "       [23.5],\n",
       "       [13.9],\n",
       "       [35.5],\n",
       "       [27.2],\n",
       "       [20.5],\n",
       "       [10.2],\n",
       "       [20.5],\n",
       "       [21.6],\n",
       "       [ 7.9],\n",
       "       [42.2],\n",
       "       [23.9],\n",
       "       [36.9],\n",
       "       [ 8.9],\n",
       "       [36.4],\n",
       "       [ 6.4]])"
      ]
     },
     "execution_count": 35,
     "metadata": {},
     "output_type": "execute_result"
    }
   ],
   "source": [
    "X_beer"
   ]
  },
  {
   "cell_type": "code",
   "execution_count": 36,
   "id": "b01f6c24",
   "metadata": {},
   "outputs": [
    {
     "name": "stdout",
     "output_type": "stream",
     "text": [
      "34.61\n",
      "[0.765]\n"
     ]
    }
   ],
   "source": [
    "lm_sk = LinearRegression().fit(X_beer, y_beer)\n",
    "print(np.round(lm_sk.intercept_, 3))\n",
    "print(np.round(lm_sk.coef_, 3))"
   ]
  },
  {
   "cell_type": "code",
   "execution_count": 37,
   "id": "3f35d263",
   "metadata": {},
   "outputs": [
    {
     "data": {
      "text/plain": [
       "array([49.919])"
      ]
     },
     "execution_count": 37,
     "metadata": {},
     "output_type": "execute_result"
    }
   ],
   "source": [
    "lm_sk.predict(np.array(20).reshape(-1, 1))"
   ]
  },
  {
   "cell_type": "code",
   "execution_count": 38,
   "id": "1116ac43",
   "metadata": {},
   "outputs": [
    {
     "data": {
      "text/plain": [
       "0.504"
      ]
     },
     "execution_count": 38,
     "metadata": {},
     "output_type": "execute_result"
    }
   ],
   "source": [
    "pred_lm_all = lm_sk.predict(X_beer)\n",
    "resid = pred_lm_all - y_beer\n",
    "ss_t = np.sum((y_beer - np.mean(y_beer))**2)\n",
    "r2 = 1 - np.sum(resid**2) / ss_t\n",
    "round(r2, 3)"
   ]
  },
  {
   "cell_type": "code",
   "execution_count": 39,
   "id": "8120f11c",
   "metadata": {},
   "outputs": [
    {
     "data": {
      "text/plain": [
       "0.504"
      ]
     },
     "execution_count": 39,
     "metadata": {},
     "output_type": "execute_result"
    }
   ],
   "source": [
    "round(lm_sk.score(X_beer, y_beer), 3)"
   ]
  },
  {
   "cell_type": "code",
   "execution_count": 41,
   "id": "8a8e2b2d",
   "metadata": {},
   "outputs": [
    {
     "name": "stdout",
     "output_type": "stream",
     "text": [
      "切片 [array([-42.901]), array([25.803])]\n",
      "係数 [array([[-3.728]]), array([[-0.205]])]\n"
     ]
    }
   ],
   "source": [
    "nnet_reg = MLPRegressor(random_state=1,\n",
    "                        hidden_layer_sizes=(1, ),\n",
    "                        activation='identity', alpha=0,\n",
    "                        solver='lbfgs', max_iter=500,\n",
    "                        ).fit(X_beer, y_beer)\n",
    "print('切片', nnet_reg.intercepts_)\n",
    "print('係数', nnet_reg.coefs_)"
   ]
  },
  {
   "cell_type": "code",
   "execution_count": 42,
   "id": "b4fbb934",
   "metadata": {},
   "outputs": [
    {
     "data": {
      "text/plain": [
       "array([[34.61]])"
      ]
     },
     "execution_count": 42,
     "metadata": {},
     "output_type": "execute_result"
    }
   ],
   "source": [
    "nnet_reg.intercepts_[0] * nnet_reg.coefs_[1] + nnet_reg.intercepts_[1]"
   ]
  },
  {
   "cell_type": "code",
   "execution_count": 43,
   "id": "5c25a6e1",
   "metadata": {},
   "outputs": [
    {
     "data": {
      "text/plain": [
       "array([[0.765]])"
      ]
     },
     "execution_count": 43,
     "metadata": {},
     "output_type": "execute_result"
    }
   ],
   "source": [
    "nnet_reg.coefs_[0] * nnet_reg.coefs_[1]"
   ]
  },
  {
   "cell_type": "code",
   "execution_count": 44,
   "id": "20a1c2aa",
   "metadata": {},
   "outputs": [
    {
     "data": {
      "text/plain": [
       "array([49.919])"
      ]
     },
     "execution_count": 44,
     "metadata": {},
     "output_type": "execute_result"
    }
   ],
   "source": [
    "nnet_reg.predict(np.array(20).reshape(-1, 1))"
   ]
  },
  {
   "cell_type": "code",
   "execution_count": 45,
   "id": "993661de",
   "metadata": {},
   "outputs": [
    {
     "data": {
      "text/plain": [
       "array([[49.919]])"
      ]
     },
     "execution_count": 45,
     "metadata": {},
     "output_type": "execute_result"
    }
   ],
   "source": [
    "(nnet_reg.intercepts_[0] + nnet_reg.coefs_[0] * 20) * nnet_reg.coefs_[1] + nnet_reg.intercepts_[1]"
   ]
  },
  {
   "cell_type": "code",
   "execution_count": 46,
   "id": "e0ee8cf3",
   "metadata": {},
   "outputs": [
    {
     "data": {
      "text/plain": [
       "0.504"
      ]
     },
     "execution_count": 46,
     "metadata": {},
     "output_type": "execute_result"
    }
   ],
   "source": [
    "round(nnet_reg.score(X_beer, y_beer), 3)"
   ]
  },
  {
   "cell_type": "code",
   "execution_count": 47,
   "id": "021b5fae",
   "metadata": {},
   "outputs": [
    {
     "data": {
      "text/html": [
       "<div>\n",
       "<style scoped>\n",
       "    .dataframe tbody tr th:only-of-type {\n",
       "        vertical-align: middle;\n",
       "    }\n",
       "\n",
       "    .dataframe tbody tr th {\n",
       "        vertical-align: top;\n",
       "    }\n",
       "\n",
       "    .dataframe thead th {\n",
       "        text-align: right;\n",
       "    }\n",
       "</style>\n",
       "<table border=\"1\" class=\"dataframe\">\n",
       "  <thead>\n",
       "    <tr style=\"text-align: right;\">\n",
       "      <th></th>\n",
       "      <th>hours</th>\n",
       "      <th>result</th>\n",
       "    </tr>\n",
       "  </thead>\n",
       "  <tbody>\n",
       "    <tr>\n",
       "      <th>0</th>\n",
       "      <td>0</td>\n",
       "      <td>0</td>\n",
       "    </tr>\n",
       "    <tr>\n",
       "      <th>1</th>\n",
       "      <td>0</td>\n",
       "      <td>0</td>\n",
       "    </tr>\n",
       "    <tr>\n",
       "      <th>2</th>\n",
       "      <td>0</td>\n",
       "      <td>0</td>\n",
       "    </tr>\n",
       "    <tr>\n",
       "      <th>3</th>\n",
       "      <td>0</td>\n",
       "      <td>0</td>\n",
       "    </tr>\n",
       "    <tr>\n",
       "      <th>4</th>\n",
       "      <td>0</td>\n",
       "      <td>0</td>\n",
       "    </tr>\n",
       "  </tbody>\n",
       "</table>\n",
       "</div>"
      ],
      "text/plain": [
       "   hours  result\n",
       "0      0       0\n",
       "1      0       0\n",
       "2      0       0\n",
       "3      0       0\n",
       "4      0       0"
      ]
     },
     "execution_count": 47,
     "metadata": {},
     "output_type": "execute_result"
    }
   ],
   "source": [
    "test_result = pd.read_csv('9-2-1-logistic-regression.csv')\n",
    "test_result.head()"
   ]
  },
  {
   "cell_type": "code",
   "execution_count": 48,
   "id": "16d78adc",
   "metadata": {},
   "outputs": [
    {
     "data": {
      "text/plain": [
       "Intercept   -4.559\n",
       "hours        0.929\n",
       "dtype: float64"
      ]
     },
     "execution_count": 48,
     "metadata": {},
     "output_type": "execute_result"
    }
   ],
   "source": [
    "glm_stats = smf.glm(formula = 'result ~ hours', data = test_result, family=sm.families.Binomial()).fit()\n",
    "glm_stats.params"
   ]
  },
  {
   "cell_type": "code",
   "execution_count": 49,
   "id": "e01dacdf",
   "metadata": {},
   "outputs": [
    {
     "data": {
      "text/plain": [
       "0    0.145\n",
       "dtype: float64"
      ]
     },
     "execution_count": 49,
     "metadata": {},
     "output_type": "execute_result"
    }
   ],
   "source": [
    "glm_stats.predict(pd.DataFrame({'hours': [3]}))"
   ]
  },
  {
   "cell_type": "code",
   "execution_count": 50,
   "id": "bc91a020",
   "metadata": {},
   "outputs": [],
   "source": [
    "X_bin = test_result['hours'].to_numpy().reshape(-1, 1)\n",
    "y_bin = test_result['result'].to_numpy()"
   ]
  },
  {
   "cell_type": "code",
   "execution_count": 51,
   "id": "a9a1e14d",
   "metadata": {},
   "outputs": [
    {
     "name": "stdout",
     "output_type": "stream",
     "text": [
      "[-4.559]\n",
      "[[0.929]]\n"
     ]
    },
    {
     "name": "stderr",
     "output_type": "stream",
     "text": [
      "/Users/shonakamura/opt/anaconda3/lib/python3.9/site-packages/sklearn/linear_model/_logistic.py:1173: FutureWarning: `penalty='none'`has been deprecated in 1.2 and will be removed in 1.4. To keep the past behaviour, set `penalty=None`.\n",
      "  warnings.warn(\n"
     ]
    }
   ],
   "source": [
    "glm_sk = LogisticRegression(random_state=1, penalty='none').fit(X_bin, y_bin)\n",
    "print(np.round(glm_sk.intercept_, 3))\n",
    "print(np.round(glm_sk.coef_, 3))"
   ]
  },
  {
   "cell_type": "code",
   "execution_count": 52,
   "id": "8b97060d",
   "metadata": {},
   "outputs": [
    {
     "data": {
      "text/plain": [
       "array([[0.855, 0.145]])"
      ]
     },
     "execution_count": 52,
     "metadata": {},
     "output_type": "execute_result"
    }
   ],
   "source": [
    "glm_sk.predict_proba(np.array(3).reshape(-1, 1))"
   ]
  },
  {
   "cell_type": "code",
   "execution_count": 53,
   "id": "39162c73",
   "metadata": {},
   "outputs": [
    {
     "data": {
      "text/plain": [
       "array([0])"
      ]
     },
     "execution_count": 53,
     "metadata": {},
     "output_type": "execute_result"
    }
   ],
   "source": [
    "glm_sk.predict(np.array(3).reshape(-1, 1))"
   ]
  },
  {
   "cell_type": "code",
   "execution_count": 54,
   "id": "274e3f13",
   "metadata": {},
   "outputs": [
    {
     "data": {
      "text/plain": [
       "0.84"
      ]
     },
     "execution_count": 54,
     "metadata": {},
     "output_type": "execute_result"
    }
   ],
   "source": [
    "np.sum(glm_sk.predict(X_bin) == y_bin) / len(y_bin)"
   ]
  },
  {
   "cell_type": "code",
   "execution_count": 55,
   "id": "842701ad",
   "metadata": {},
   "outputs": [
    {
     "data": {
      "text/plain": [
       "0.84"
      ]
     },
     "execution_count": 55,
     "metadata": {},
     "output_type": "execute_result"
    }
   ],
   "source": [
    "glm_sk.score(X_bin, y_bin)"
   ]
  },
  {
   "cell_type": "code",
   "execution_count": 56,
   "id": "9e87b4a0",
   "metadata": {},
   "outputs": [
    {
     "name": "stdout",
     "output_type": "stream",
     "text": [
      "切片 [array([1.595]), array([-1.195])]\n",
      "係数 [array([[-0.441]]), array([[-2.109]])]\n"
     ]
    }
   ],
   "source": [
    "nnet_clf = MLPClassifier(random_state = 1,\n",
    "                         hidden_layer_sizes = (1, ),\n",
    "                         activation='identity', alpha=0,\n",
    "                         solver='lbfgs', max_iter=500,\n",
    "                        ).fit(X_bin, y_bin)\n",
    "\n",
    "print('切片', nnet_clf.intercepts_)\n",
    "print('係数', nnet_clf.coefs_)"
   ]
  },
  {
   "cell_type": "code",
   "execution_count": 57,
   "id": "62f8e869",
   "metadata": {},
   "outputs": [
    {
     "data": {
      "text/plain": [
       "array([[-4.559]])"
      ]
     },
     "execution_count": 57,
     "metadata": {},
     "output_type": "execute_result"
    }
   ],
   "source": [
    "nnet_clf.intercepts_[0] * nnet_clf.coefs_[1] + nnet_clf.intercepts_[1]"
   ]
  },
  {
   "cell_type": "code",
   "execution_count": 58,
   "id": "42ed4124",
   "metadata": {},
   "outputs": [
    {
     "data": {
      "text/plain": [
       "array([[0.929]])"
      ]
     },
     "execution_count": 58,
     "metadata": {},
     "output_type": "execute_result"
    }
   ],
   "source": [
    "nnet_clf.coefs_[0] * nnet_clf.coefs_[1]"
   ]
  },
  {
   "cell_type": "code",
   "execution_count": 59,
   "id": "7e686f84",
   "metadata": {},
   "outputs": [
    {
     "data": {
      "text/plain": [
       "array([[0.855, 0.145]])"
      ]
     },
     "execution_count": 59,
     "metadata": {},
     "output_type": "execute_result"
    }
   ],
   "source": [
    "nnet_clf.predict_proba(np.array(3).reshape(-1, 1))"
   ]
  },
  {
   "cell_type": "code",
   "execution_count": 60,
   "id": "cc2ed3b7",
   "metadata": {},
   "outputs": [
    {
     "data": {
      "text/plain": [
       "array([0])"
      ]
     },
     "execution_count": 60,
     "metadata": {},
     "output_type": "execute_result"
    }
   ],
   "source": [
    "nnet_clf.predict(np.array(3).reshape(-1, 1))"
   ]
  },
  {
   "cell_type": "code",
   "execution_count": 61,
   "id": "a9c3ed73",
   "metadata": {},
   "outputs": [],
   "source": [
    "tmp = (nnet_clf.intercepts_[0] + nnet_clf.coefs_[0] * 3) * nnet_clf.coefs_[1] + nnet_clf.intercepts_[1]"
   ]
  },
  {
   "cell_type": "code",
   "execution_count": 62,
   "id": "7324c61e",
   "metadata": {},
   "outputs": [
    {
     "data": {
      "text/plain": [
       "array([[0.145]])"
      ]
     },
     "execution_count": 62,
     "metadata": {},
     "output_type": "execute_result"
    }
   ],
   "source": [
    "1 / (1 + np.exp(-tmp))"
   ]
  },
  {
   "cell_type": "code",
   "execution_count": 63,
   "id": "6e0ee55f",
   "metadata": {},
   "outputs": [
    {
     "data": {
      "text/plain": [
       "0.84"
      ]
     },
     "execution_count": 63,
     "metadata": {},
     "output_type": "execute_result"
    }
   ],
   "source": [
    "nnet_clf.score(X_bin, y_bin)"
   ]
  },
  {
   "cell_type": "code",
   "execution_count": 64,
   "id": "2a04f490",
   "metadata": {},
   "outputs": [],
   "source": [
    "X, y = make_circles(n_samples=100, noise=0.2, factor=0.5, random_state=1)"
   ]
  },
  {
   "cell_type": "code",
   "execution_count": 65,
   "id": "8df2e225",
   "metadata": {},
   "outputs": [
    {
     "name": "stdout",
     "output_type": "stream",
     "text": [
      "行数と列数 (100, 2)\n",
      "先頭の３行\n",
      "[[-0.383 -0.091]\n",
      " [-0.021 -0.478]\n",
      " [-0.396 -1.289]]\n"
     ]
    }
   ],
   "source": [
    "print('行数と列数', X.shape)\n",
    "print('先頭の３行')\n",
    "print(X[0:3, ::])"
   ]
  },
  {
   "cell_type": "code",
   "execution_count": 66,
   "id": "cbaa7213",
   "metadata": {},
   "outputs": [
    {
     "name": "stdout",
     "output_type": "stream",
     "text": [
      "行数と列数 (100,)\n",
      "先頭の3つのデータ\n",
      "[1 1 0]\n"
     ]
    }
   ],
   "source": [
    "print('行数と列数', y.shape)\n",
    "print('先頭の3つのデータ')\n",
    "print(y[0:3])"
   ]
  },
  {
   "cell_type": "code",
   "execution_count": 67,
   "id": "e2fcc5d8",
   "metadata": {},
   "outputs": [
    {
     "data": {
      "text/plain": [
       "<AxesSubplot:>"
      ]
     },
     "execution_count": 67,
     "metadata": {},
     "output_type": "execute_result"
    },
    {
     "data": {
      "image/png": "[encoded data removed]",
      "text/plain": [
       "<Figure size 432x288 with 1 Axes>"
      ]
     },
     "metadata": {},
     "output_type": "display_data"
    }
   ],
   "source": [
    "sns.scatterplot(x=X[:, 0], y=X[:, 1], hue=y, palette='gray', style=y)"
   ]
  },
  {
   "cell_type": "code",
   "execution_count": 68,
   "id": "310e9738",
   "metadata": {},
   "outputs": [],
   "source": [
    "X_train, X_test, y_train, y_test = train_test_split(X, y, stratify=y, random_state=1)"
   ]
  },
  {
   "cell_type": "code",
   "execution_count": 69,
   "id": "0d9de313",
   "metadata": {},
   "outputs": [
    {
     "name": "stdout",
     "output_type": "stream",
     "text": [
      "行数と列数 X_train: (75, 2)\n",
      "行数と列数 X_test: (25, 2)\n",
      "行数と列数 y_train: (75,)\n",
      "行数と列数 y_test: (25,)\n"
     ]
    }
   ],
   "source": [
    "print('行数と列数 X_train:', X_train.shape)\n",
    "print('行数と列数 X_test:', X_test.shape)\n",
    "print('行数と列数 y_train:', y_train.shape)\n",
    "print('行数と列数 y_test:', y_test.shape)"
   ]
  },
  {
   "cell_type": "code",
   "execution_count": 70,
   "id": "a365c4cc",
   "metadata": {},
   "outputs": [
    {
     "name": "stderr",
     "output_type": "stream",
     "text": [
      "/Users/shonakamura/opt/anaconda3/lib/python3.9/site-packages/sklearn/linear_model/_logistic.py:1173: FutureWarning: `penalty='none'`has been deprecated in 1.2 and will be removed in 1.4. To keep the past behaviour, set `penalty=None`.\n",
      "  warnings.warn(\n"
     ]
    }
   ],
   "source": [
    "circle_glm = LogisticRegression(random_state=0, penalty='none').fit(X_train, y_train)"
   ]
  },
  {
   "cell_type": "code",
   "execution_count": 71,
   "id": "17d4b401",
   "metadata": {},
   "outputs": [
    {
     "name": "stdout",
     "output_type": "stream",
     "text": [
      "訓練: 0.467\n",
      "テスト： 0.36\n"
     ]
    }
   ],
   "source": [
    "print('訓練:', round(circle_glm.score(X_train, y_train), 3))\n",
    "print('テスト：', round(circle_glm.score(X_test, y_test), 3))"
   ]
  },
  {
   "cell_type": "code",
   "execution_count": 72,
   "id": "785e1a23",
   "metadata": {},
   "outputs": [],
   "source": [
    "circle_nnet = MLPClassifier(random_state=1,\n",
    "                            hidden_layer_sizes=(100, ),\n",
    "                            activation='relu', alpha=0.5,\n",
    "                            solver='lbfgs', max_iter=5000\n",
    "                           ).fit(X_train, y_train)"
   ]
  },
  {
   "cell_type": "code",
   "execution_count": 73,
   "id": "81a712c1",
   "metadata": {},
   "outputs": [
    {
     "name": "stdout",
     "output_type": "stream",
     "text": [
      "訓練: 0.96\n",
      "テスト： 0.88\n"
     ]
    }
   ],
   "source": [
    "print('訓練:', round(circle_nnet.score(X_train, y_train), 3))\n",
    "print('テスト：', round(circle_nnet.score(X_test, y_test), 3))"
   ]
  },
  {
   "cell_type": "code",
   "execution_count": null,
   "id": "128cde9a",
   "metadata": {},
   "outputs": [],
   "source": []
  }
 ],
 "metadata": {
  "kernelspec": {
   "display_name": "Python 3 (ipykernel)",
   "language": "python",
   "name": "python3"
  },
  "language_info": {
   "codemirror_mode": {
    "name": "ipython",
    "version": 3
   },
   "file_extension": ".py",
   "mimetype": "text/x-python",
   "name": "python",
   "nbconvert_exporter": "python",
   "pygments_lexer": "ipython3",
   "version": "3.9.7"
  }
 },
 "nbformat": 4,
 "nbformat_minor": 5
}

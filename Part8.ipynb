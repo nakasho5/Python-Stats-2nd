{
 "cells": [
  {
   "cell_type": "code",
   "execution_count": 1,
   "id": "679ff063",
   "metadata": {},
   "outputs": [
    {
     "name": "stderr",
     "output_type": "stream",
     "text": [
      "/Users/shonakamura/opt/anaconda3/lib/python3.9/site-packages/statsmodels/tsa/base/tsa_model.py:7: FutureWarning: pandas.Int64Index is deprecated and will be removed from pandas in a future version. Use pandas.Index with the appropriate dtype instead.\n",
      "  from pandas import (to_datetime, Int64Index, DatetimeIndex, Period,\n",
      "/Users/shonakamura/opt/anaconda3/lib/python3.9/site-packages/statsmodels/tsa/base/tsa_model.py:7: FutureWarning: pandas.Float64Index is deprecated and will be removed from pandas in a future version. Use pandas.Index with the appropriate dtype instead.\n",
      "  from pandas import (to_datetime, Int64Index, DatetimeIndex, Period,\n"
     ]
    }
   ],
   "source": [
    "import numpy as np\n",
    "import pandas as pd\n",
    "from scipy import stats\n",
    "\n",
    "pd.set_option('display.precision', 3)\n",
    "np.set_printoptions(precision=3)\n",
    "\n",
    "import matplotlib.pyplot as plt\n",
    "import seaborn as sns\n",
    "sns.set()\n",
    "\n",
    "import statsmodels.formula.api as smf\n",
    "import statsmodels.api as sm"
   ]
  },
  {
   "cell_type": "code",
   "execution_count": 2,
   "id": "ef19b36a",
   "metadata": {},
   "outputs": [
    {
     "data": {
      "text/html": [
       "<div>\n",
       "<style scoped>\n",
       "    .dataframe tbody tr th:only-of-type {\n",
       "        vertical-align: middle;\n",
       "    }\n",
       "\n",
       "    .dataframe tbody tr th {\n",
       "        vertical-align: top;\n",
       "    }\n",
       "\n",
       "    .dataframe thead th {\n",
       "        text-align: right;\n",
       "    }\n",
       "</style>\n",
       "<table border=\"1\" class=\"dataframe\">\n",
       "  <thead>\n",
       "    <tr style=\"text-align: right;\">\n",
       "      <th></th>\n",
       "      <th>beer</th>\n",
       "      <th>temperature</th>\n",
       "    </tr>\n",
       "  </thead>\n",
       "  <tbody>\n",
       "    <tr>\n",
       "      <th>0</th>\n",
       "      <td>45.3</td>\n",
       "      <td>20.5</td>\n",
       "    </tr>\n",
       "    <tr>\n",
       "      <th>1</th>\n",
       "      <td>59.3</td>\n",
       "      <td>25.0</td>\n",
       "    </tr>\n",
       "    <tr>\n",
       "      <th>2</th>\n",
       "      <td>40.4</td>\n",
       "      <td>10.0</td>\n",
       "    </tr>\n",
       "    <tr>\n",
       "      <th>3</th>\n",
       "      <td>38.0</td>\n",
       "      <td>26.9</td>\n",
       "    </tr>\n",
       "    <tr>\n",
       "      <th>4</th>\n",
       "      <td>37.0</td>\n",
       "      <td>15.8</td>\n",
       "    </tr>\n",
       "  </tbody>\n",
       "</table>\n",
       "</div>"
      ],
      "text/plain": [
       "   beer  temperature\n",
       "0  45.3         20.5\n",
       "1  59.3         25.0\n",
       "2  40.4         10.0\n",
       "3  38.0         26.9\n",
       "4  37.0         15.8"
      ]
     },
     "execution_count": 2,
     "metadata": {},
     "output_type": "execute_result"
    }
   ],
   "source": [
    "beer = pd.read_csv('8-1-1-beer.csv')\n",
    "beer.head()"
   ]
  },
  {
   "cell_type": "code",
   "execution_count": 3,
   "id": "e06f5ebd",
   "metadata": {},
   "outputs": [
    {
     "data": {
      "text/plain": [
       "<AxesSubplot:xlabel='temperature', ylabel='beer'>"
      ]
     },
     "execution_count": 3,
     "metadata": {},
     "output_type": "execute_result"
    },
    {
     "data": {
      "image/png": "[encoded data removed]",
      "text/plain": [
       "<Figure size 432x288 with 1 Axes>"
      ]
     },
     "metadata": {},
     "output_type": "display_data"
    }
   ],
   "source": [
    "sns.scatterplot(x='temperature', y='beer', data=beer, color='black')"
   ]
  },
  {
   "cell_type": "code",
   "execution_count": 4,
   "id": "580f5b19",
   "metadata": {},
   "outputs": [],
   "source": [
    "x = beer['temperature']\n",
    "y = beer['beer']"
   ]
  },
  {
   "cell_type": "code",
   "execution_count": 5,
   "id": "9daea7b8",
   "metadata": {},
   "outputs": [
    {
     "data": {
      "text/plain": [
       "array([[ 93.963,  71.922],\n",
       "       [ 71.922, 109.237]])"
      ]
     },
     "execution_count": 5,
     "metadata": {},
     "output_type": "execute_result"
    }
   ],
   "source": [
    "cov_mat = np.cov(x, y, ddof=0)\n",
    "cov_mat"
   ]
  },
  {
   "cell_type": "code",
   "execution_count": 6,
   "id": "c80ffcae",
   "metadata": {},
   "outputs": [
    {
     "name": "stdout",
     "output_type": "stream",
     "text": [
      "切片: 34.61\n",
      "気温の係数: 0.765\n"
     ]
    }
   ],
   "source": [
    "x_bar = np.mean(x)\n",
    "y_bar = np.mean(y)\n",
    "\n",
    "cov_xy = cov_mat[0, 1]\n",
    "s2_x = cov_mat[0, 0]\n",
    "\n",
    "beta_1 = cov_xy / s2_x\n",
    "beta_0 = y_bar - beta_1 * x_bar\n",
    "\n",
    "print('切片:', round(beta_0, 3))\n",
    "print('気温の係数:', round(beta_1,3))"
   ]
  },
  {
   "cell_type": "code",
   "execution_count": 7,
   "id": "48056954",
   "metadata": {},
   "outputs": [],
   "source": [
    "lm_model = smf.ols(formula='beer ~ temperature', data=beer).fit()"
   ]
  },
  {
   "cell_type": "code",
   "execution_count": 8,
   "id": "b80ef4c0",
   "metadata": {},
   "outputs": [
    {
     "data": {
      "text/html": [
       "<table class=\"simpletable\">\n",
       "<caption>OLS Regression Results</caption>\n",
       "<tr>\n",
       "  <th>Dep. Variable:</th>          <td>beer</td>       <th>  R-squared:         </th> <td>   0.504</td>\n",
       "</tr>\n",
       "<tr>\n",
       "  <th>Model:</th>                   <td>OLS</td>       <th>  Adj. R-squared:    </th> <td>   0.486</td>\n",
       "</tr>\n",
       "<tr>\n",
       "  <th>Method:</th>             <td>Least Squares</td>  <th>  F-statistic:       </th> <td>   28.45</td>\n",
       "</tr>\n",
       "<tr>\n",
       "  <th>Date:</th>             <td>Mon, 22 May 2023</td> <th>  Prob (F-statistic):</th> <td>1.11e-05</td>\n",
       "</tr>\n",
       "<tr>\n",
       "  <th>Time:</th>                 <td>14:33:45</td>     <th>  Log-Likelihood:    </th> <td> -102.45</td>\n",
       "</tr>\n",
       "<tr>\n",
       "  <th>No. Observations:</th>      <td>    30</td>      <th>  AIC:               </th> <td>   208.9</td>\n",
       "</tr>\n",
       "<tr>\n",
       "  <th>Df Residuals:</th>          <td>    28</td>      <th>  BIC:               </th> <td>   211.7</td>\n",
       "</tr>\n",
       "<tr>\n",
       "  <th>Df Model:</th>              <td>     1</td>      <th>                     </th>     <td> </td>   \n",
       "</tr>\n",
       "<tr>\n",
       "  <th>Covariance Type:</th>      <td>nonrobust</td>    <th>                     </th>     <td> </td>   \n",
       "</tr>\n",
       "</table>\n",
       "<table class=\"simpletable\">\n",
       "<tr>\n",
       "       <td></td>          <th>coef</th>     <th>std err</th>      <th>t</th>      <th>P>|t|</th>  <th>[0.025</th>    <th>0.975]</th>  \n",
       "</tr>\n",
       "<tr>\n",
       "  <th>Intercept</th>   <td>   34.6102</td> <td>    3.235</td> <td>   10.699</td> <td> 0.000</td> <td>   27.984</td> <td>   41.237</td>\n",
       "</tr>\n",
       "<tr>\n",
       "  <th>temperature</th> <td>    0.7654</td> <td>    0.144</td> <td>    5.334</td> <td> 0.000</td> <td>    0.471</td> <td>    1.059</td>\n",
       "</tr>\n",
       "</table>\n",
       "<table class=\"simpletable\">\n",
       "<tr>\n",
       "  <th>Omnibus:</th>       <td> 0.587</td> <th>  Durbin-Watson:     </th> <td>   1.960</td>\n",
       "</tr>\n",
       "<tr>\n",
       "  <th>Prob(Omnibus):</th> <td> 0.746</td> <th>  Jarque-Bera (JB):  </th> <td>   0.290</td>\n",
       "</tr>\n",
       "<tr>\n",
       "  <th>Skew:</th>          <td>-0.240</td> <th>  Prob(JB):          </th> <td>   0.865</td>\n",
       "</tr>\n",
       "<tr>\n",
       "  <th>Kurtosis:</th>      <td> 2.951</td> <th>  Cond. No.          </th> <td>    52.5</td>\n",
       "</tr>\n",
       "</table><br/><br/>Notes:<br/>[1] Standard Errors assume that the covariance matrix of the errors is correctly specified."
      ],
      "text/plain": [
       "<class 'statsmodels.iolib.summary.Summary'>\n",
       "\"\"\"\n",
       "                            OLS Regression Results                            \n",
       "==============================================================================\n",
       "Dep. Variable:                   beer   R-squared:                       0.504\n",
       "Model:                            OLS   Adj. R-squared:                  0.486\n",
       "Method:                 Least Squares   F-statistic:                     28.45\n",
       "Date:                Mon, 22 May 2023   Prob (F-statistic):           1.11e-05\n",
       "Time:                        14:33:45   Log-Likelihood:                -102.45\n",
       "No. Observations:                  30   AIC:                             208.9\n",
       "Df Residuals:                      28   BIC:                             211.7\n",
       "Df Model:                           1                                         \n",
       "Covariance Type:            nonrobust                                         \n",
       "===============================================================================\n",
       "                  coef    std err          t      P>|t|      [0.025      0.975]\n",
       "-------------------------------------------------------------------------------\n",
       "Intercept      34.6102      3.235     10.699      0.000      27.984      41.237\n",
       "temperature     0.7654      0.144      5.334      0.000       0.471       1.059\n",
       "==============================================================================\n",
       "Omnibus:                        0.587   Durbin-Watson:                   1.960\n",
       "Prob(Omnibus):                  0.746   Jarque-Bera (JB):                0.290\n",
       "Skew:                          -0.240   Prob(JB):                        0.865\n",
       "Kurtosis:                       2.951   Cond. No.                         52.5\n",
       "==============================================================================\n",
       "\n",
       "Notes:\n",
       "[1] Standard Errors assume that the covariance matrix of the errors is correctly specified.\n",
       "\"\"\""
      ]
     },
     "execution_count": 8,
     "metadata": {},
     "output_type": "execute_result"
    }
   ],
   "source": [
    "lm_model.summary()"
   ]
  },
  {
   "cell_type": "code",
   "execution_count": 9,
   "id": "33386243",
   "metadata": {},
   "outputs": [],
   "source": [
    "null_model = smf.ols(formula='beer ~ 1', data=beer).fit()"
   ]
  },
  {
   "cell_type": "code",
   "execution_count": 10,
   "id": "d43993d6",
   "metadata": {},
   "outputs": [
    {
     "data": {
      "text/plain": [
       "227.942"
      ]
     },
     "execution_count": 10,
     "metadata": {},
     "output_type": "execute_result"
    }
   ],
   "source": [
    "round(null_model.aic, 3)"
   ]
  },
  {
   "cell_type": "code",
   "execution_count": 11,
   "id": "ac8bd8a9",
   "metadata": {},
   "outputs": [
    {
     "data": {
      "text/plain": [
       "208.909"
      ]
     },
     "execution_count": 11,
     "metadata": {},
     "output_type": "execute_result"
    }
   ],
   "source": [
    "round(lm_model.aic, 3)"
   ]
  },
  {
   "cell_type": "code",
   "execution_count": 12,
   "id": "6d5616aa",
   "metadata": {},
   "outputs": [
    {
     "data": {
      "text/plain": [
       "-102.455"
      ]
     },
     "execution_count": 12,
     "metadata": {},
     "output_type": "execute_result"
    }
   ],
   "source": [
    "round(lm_model.llf, 3)"
   ]
  },
  {
   "cell_type": "code",
   "execution_count": 13,
   "id": "38a71808",
   "metadata": {},
   "outputs": [
    {
     "data": {
      "text/plain": [
       "1.0"
      ]
     },
     "execution_count": 13,
     "metadata": {},
     "output_type": "execute_result"
    }
   ],
   "source": [
    "lm_model.df_model"
   ]
  },
  {
   "cell_type": "code",
   "execution_count": 14,
   "id": "c6badb53",
   "metadata": {},
   "outputs": [
    {
     "data": {
      "text/plain": [
       "208.909"
      ]
     },
     "execution_count": 14,
     "metadata": {},
     "output_type": "execute_result"
    }
   ],
   "source": [
    "round(-2 * (lm_model.llf - (lm_model.df_model + 1)), 3)"
   ]
  },
  {
   "cell_type": "code",
   "execution_count": 15,
   "id": "86b5919c",
   "metadata": {},
   "outputs": [
    {
     "data": {
      "text/plain": [
       "array([50.301, 53.746, 42.264, 55.2  , 46.704, 37.825, 44.943, 54.511,\n",
       "       52.445, 41.116, 54.664, 49.23 , 53.21 , 52.445, 41.04 , 52.598,\n",
       "       45.25 , 61.783, 55.43 , 50.301, 42.418, 50.301, 51.143, 40.657,\n",
       "       66.911, 52.904, 62.854, 41.423, 62.472, 39.509])"
      ]
     },
     "execution_count": 15,
     "metadata": {},
     "output_type": "execute_result"
    }
   ],
   "source": [
    "lm_model.predict()"
   ]
  },
  {
   "cell_type": "code",
   "execution_count": 16,
   "id": "8f6be26f",
   "metadata": {},
   "outputs": [
    {
     "data": {
      "text/plain": [
       "0    34.61\n",
       "dtype: float64"
      ]
     },
     "execution_count": 16,
     "metadata": {},
     "output_type": "execute_result"
    }
   ],
   "source": [
    "lm_model.predict(pd.DataFrame({'temperature':[0]}))"
   ]
  },
  {
   "cell_type": "code",
   "execution_count": 17,
   "id": "a47cda85",
   "metadata": {},
   "outputs": [
    {
     "data": {
      "text/plain": [
       "Intercept      34.610\n",
       "temperature     0.765\n",
       "dtype: float64"
      ]
     },
     "execution_count": 17,
     "metadata": {},
     "output_type": "execute_result"
    }
   ],
   "source": [
    "lm_model.params"
   ]
  },
  {
   "cell_type": "code",
   "execution_count": 18,
   "id": "2bafa683",
   "metadata": {},
   "outputs": [
    {
     "data": {
      "text/plain": [
       "0    49.919\n",
       "dtype: float64"
      ]
     },
     "execution_count": 18,
     "metadata": {},
     "output_type": "execute_result"
    }
   ],
   "source": [
    "lm_model.predict(pd.DataFrame({'temperature':[20]}))"
   ]
  },
  {
   "cell_type": "code",
   "execution_count": 19,
   "id": "5433db5e",
   "metadata": {},
   "outputs": [
    {
     "data": {
      "text/plain": [
       "49.919"
      ]
     },
     "execution_count": 19,
     "metadata": {},
     "output_type": "execute_result"
    }
   ],
   "source": [
    "beta0 = lm_model.params[0]\n",
    "beta1 = lm_model.params[1]\n",
    "temperature = 20\n",
    "\n",
    "round(beta0 + beta1 * temperature, 3)"
   ]
  },
  {
   "cell_type": "code",
   "execution_count": 20,
   "id": "d3197379",
   "metadata": {},
   "outputs": [
    {
     "data": {
      "text/html": [
       "<div>\n",
       "<style scoped>\n",
       "    .dataframe tbody tr th:only-of-type {\n",
       "        vertical-align: middle;\n",
       "    }\n",
       "\n",
       "    .dataframe tbody tr th {\n",
       "        vertical-align: top;\n",
       "    }\n",
       "\n",
       "    .dataframe thead th {\n",
       "        text-align: right;\n",
       "    }\n",
       "</style>\n",
       "<table border=\"1\" class=\"dataframe\">\n",
       "  <thead>\n",
       "    <tr style=\"text-align: right;\">\n",
       "      <th></th>\n",
       "      <th>mean</th>\n",
       "      <th>mean_se</th>\n",
       "      <th>mean_ci_lower</th>\n",
       "      <th>mean_ci_upper</th>\n",
       "      <th>obs_ci_lower</th>\n",
       "      <th>obs_ci_upper</th>\n",
       "    </tr>\n",
       "  </thead>\n",
       "  <tbody>\n",
       "    <tr>\n",
       "      <th>0</th>\n",
       "      <td>49.919</td>\n",
       "      <td>1.392</td>\n",
       "      <td>47.067</td>\n",
       "      <td>52.77</td>\n",
       "      <td>34.053</td>\n",
       "      <td>65.785</td>\n",
       "    </tr>\n",
       "  </tbody>\n",
       "</table>\n",
       "</div>"
      ],
      "text/plain": [
       "     mean  mean_se  mean_ci_lower  mean_ci_upper  obs_ci_lower  obs_ci_upper\n",
       "0  49.919    1.392         47.067          52.77        34.053        65.785"
      ]
     },
     "execution_count": 20,
     "metadata": {},
     "output_type": "execute_result"
    }
   ],
   "source": [
    "pred_interval = lm_model.get_prediction(\n",
    "    pd.DataFrame({'temperature':[20]}))\n",
    "\n",
    "pred_frame = pred_interval.summary_frame(alpha=0.05)\n",
    "pred_frame"
   ]
  },
  {
   "cell_type": "code",
   "execution_count": 21,
   "id": "17c59b06",
   "metadata": {},
   "outputs": [
    {
     "data": {
      "text/plain": [
       "<seaborn.axisgrid.FacetGrid at 0x7f7c0ea82c10>"
      ]
     },
     "execution_count": 21,
     "metadata": {},
     "output_type": "execute_result"
    },
    {
     "data": {
      "image/png": "[encoded data removed]",
      "text/plain": [
       "<Figure size 576x288 with 1 Axes>"
      ]
     },
     "metadata": {},
     "output_type": "display_data"
    }
   ],
   "source": [
    "sns.lmplot(x='temperature', y='beer', data=beer, scatter_kws={'color': 'black'},\n",
    "           line_kws={'color': 'black'}, ci=None, height=4, aspect=2)"
   ]
  },
  {
   "cell_type": "code",
   "execution_count": 22,
   "id": "407cfb39",
   "metadata": {},
   "outputs": [],
   "source": [
    "pred_all = lm_model.get_prediction()\n",
    "pred_frame_all = pred_all.summary_frame(alpha=0.05)"
   ]
  },
  {
   "cell_type": "code",
   "execution_count": 23,
   "id": "14c29b73",
   "metadata": {},
   "outputs": [],
   "source": [
    "pred_graph = pd.concat([beer.temperature, pred_frame_all], axis=1)\n",
    "pred_graph = pred_graph.sort_values(\"temperature\")"
   ]
  },
  {
   "cell_type": "code",
   "execution_count": 24,
   "id": "4e4c5e9c",
   "metadata": {},
   "outputs": [
    {
     "data": {
      "text/plain": [
       "<AxesSubplot:xlabel='temperature', ylabel='beer'>"
      ]
     },
     "execution_count": 24,
     "metadata": {},
     "output_type": "execute_result"
    },
    {
     "data": {
      "image/png": "[encoded data removed]",
      "text/plain": [
       "<Figure size 432x288 with 1 Axes>"
      ]
     },
     "metadata": {},
     "output_type": "display_data"
    }
   ],
   "source": [
    "sns.scatterplot(x='temperature', y='beer', data=beer, color='black')\n",
    "\n",
    "sns.lineplot(x='temperature', y='mean', data=pred_graph, color='black')\n",
    "\n",
    "sns.lineplot(x='temperature', y='mean_ci_lower', data=pred_graph, color='black', linestyle='dashed')\n",
    "\n",
    "sns.lineplot(x='temperature', y='mean_ci_upper', data=pred_graph, color='black', linestyle='dashed')\n",
    "\n",
    "sns.lineplot(x='temperature', y='obs_ci_lower', data=pred_graph, color='black', linestyle='dotted')\n",
    "\n",
    "sns.lineplot(x='temperature', y='obs_ci_upper', data=pred_graph, color='black', linestyle='dotted')"
   ]
  },
  {
   "cell_type": "code",
   "execution_count": 25,
   "id": "7139b41a",
   "metadata": {},
   "outputs": [],
   "source": [
    "import numpy as np\n",
    "import pandas as pd\n",
    "from scipy import stats\n",
    "\n",
    "pd.set_option('display.precision', 3)\n",
    "np.set_printoptions(precision=3)\n",
    "\n",
    "import matplotlib.pyplot as plt\n",
    "import seaborn as sns\n",
    "sns.set()\n",
    "\n",
    "import statsmodels.formula.api as smf\n",
    "import statsmodels.api as sm"
   ]
  },
  {
   "cell_type": "code",
   "execution_count": 26,
   "id": "745a5c3f",
   "metadata": {},
   "outputs": [],
   "source": [
    "beer = pd.read_csv('8-1-1-beer.csv')\n",
    "\n",
    "lm_model = smf.ols(formula='beer ~ temperature', data=beer).fit()"
   ]
  },
  {
   "cell_type": "code",
   "execution_count": 27,
   "id": "3084b87a",
   "metadata": {},
   "outputs": [
    {
     "data": {
      "text/plain": [
       "0    -5.001\n",
       "1     5.554\n",
       "2    -1.864\n",
       "3   -17.200\n",
       "4    -9.704\n",
       "dtype: float64"
      ]
     },
     "execution_count": 27,
     "metadata": {},
     "output_type": "execute_result"
    }
   ],
   "source": [
    "e = lm_model.resid\n",
    "e.head()"
   ]
  },
  {
   "cell_type": "code",
   "execution_count": 28,
   "id": "008aa2ab",
   "metadata": {},
   "outputs": [
    {
     "data": {
      "text/plain": [
       "0    50.301\n",
       "1    53.746\n",
       "2    42.264\n",
       "3    55.200\n",
       "4    46.704\n",
       "Name: temperature, dtype: float64"
      ]
     },
     "execution_count": 28,
     "metadata": {},
     "output_type": "execute_result"
    }
   ],
   "source": [
    "beta0 = lm_model.params[0]\n",
    "beta1 = lm_model.params[1]\n",
    "\n",
    "y_hat = beta0 + beta1 * beer.temperature\n",
    "y_hat.head()"
   ]
  },
  {
   "cell_type": "code",
   "execution_count": 29,
   "id": "01b14365",
   "metadata": {},
   "outputs": [
    {
     "data": {
      "text/plain": [
       "0    -5.001\n",
       "1     5.554\n",
       "2    -1.864\n",
       "3   -17.200\n",
       "4    -9.704\n",
       "dtype: float64"
      ]
     },
     "execution_count": 29,
     "metadata": {},
     "output_type": "execute_result"
    }
   ],
   "source": [
    "(beer.beer - y_hat).head()"
   ]
  },
  {
   "cell_type": "code",
   "execution_count": 30,
   "id": "7647e502",
   "metadata": {},
   "outputs": [
    {
     "data": {
      "text/plain": [
       "0.504"
      ]
     },
     "execution_count": 30,
     "metadata": {},
     "output_type": "execute_result"
    }
   ],
   "source": [
    "y = beer.beer\n",
    "y_bar = np.mean(y)\n",
    "y_hat = lm_model.predict()\n",
    "\n",
    "round(np.sum((y_hat - y_bar)**2) / np.sum((y - y_bar)**2), 3)"
   ]
  },
  {
   "cell_type": "code",
   "execution_count": 31,
   "id": "0fe1332a",
   "metadata": {},
   "outputs": [
    {
     "data": {
      "text/plain": [
       "3277.115"
      ]
     },
     "execution_count": 31,
     "metadata": {},
     "output_type": "execute_result"
    }
   ],
   "source": [
    "round(np.sum((y_hat - y_bar)**2) + sum(e**2), 3)"
   ]
  },
  {
   "cell_type": "code",
   "execution_count": 32,
   "id": "0cdab48b",
   "metadata": {},
   "outputs": [
    {
     "data": {
      "text/plain": [
       "3277.115"
      ]
     },
     "execution_count": 32,
     "metadata": {},
     "output_type": "execute_result"
    }
   ],
   "source": [
    "round(np.sum((y - y_bar)**2), 3)"
   ]
  },
  {
   "cell_type": "code",
   "execution_count": 33,
   "id": "7b48e3de",
   "metadata": {},
   "outputs": [
    {
     "data": {
      "text/plain": [
       "0.504"
      ]
     },
     "execution_count": 33,
     "metadata": {},
     "output_type": "execute_result"
    }
   ],
   "source": [
    "round(1 - np.sum(e**2) / np.sum((y - y_bar)**2), 3)"
   ]
  },
  {
   "cell_type": "code",
   "execution_count": 34,
   "id": "8c7e0fe4",
   "metadata": {},
   "outputs": [
    {
     "data": {
      "text/plain": [
       "0.486"
      ]
     },
     "execution_count": 34,
     "metadata": {},
     "output_type": "execute_result"
    }
   ],
   "source": [
    "n = len(beer.beer)\n",
    "d = 1\n",
    "r2_adj = 1 - ((np.sum(e**2) / (n - d - 1)) / (np.sum((y - y_bar)**2) / (n - 1)))\n",
    "round(r2_adj, 3)"
   ]
  },
  {
   "cell_type": "code",
   "execution_count": 35,
   "id": "941e577b",
   "metadata": {},
   "outputs": [
    {
     "data": {
      "text/plain": [
       "<AxesSubplot:ylabel='Count'>"
      ]
     },
     "execution_count": 35,
     "metadata": {},
     "output_type": "execute_result"
    },
    {
     "data": {
      "image/png": "[encoded data removed]",
      "text/plain": [
       "<Figure size 432x288 with 1 Axes>"
      ]
     },
     "metadata": {},
     "output_type": "display_data"
    }
   ],
   "source": [
    "sns.histplot(e, color='gray')"
   ]
  },
  {
   "cell_type": "code",
   "execution_count": 36,
   "id": "222db513",
   "metadata": {},
   "outputs": [
    {
     "data": {
      "text/plain": [
       "<AxesSubplot:>"
      ]
     },
     "execution_count": 36,
     "metadata": {},
     "output_type": "execute_result"
    },
    {
     "data": {
      "image/png": "[encoded data removed]",
      "text/plain": [
       "<Figure size 432x288 with 1 Axes>"
      ]
     },
     "metadata": {},
     "output_type": "display_data"
    }
   ],
   "source": [
    "sns.residplot(x=lm_model.fittedvalues, y=e, color='black')"
   ]
  },
  {
   "cell_type": "code",
   "execution_count": 37,
   "id": "8bc64dc1",
   "metadata": {},
   "outputs": [
    {
     "name": "stderr",
     "output_type": "stream",
     "text": [
      "/Users/shonakamura/opt/anaconda3/lib/python3.9/site-packages/statsmodels/graphics/gofplots.py:993: UserWarning: marker is redundantly defined by the 'marker' keyword argument and the fmt string \"bo\" (-> marker='o'). The keyword argument will take precedence.\n",
      "  ax.plot(x, y, fmt, **plot_style)\n"
     ]
    },
    {
     "data": {
      "image/png": "[encoded data removed]",
      "text/plain": [
       "<Figure size 432x288 with 1 Axes>"
      ]
     },
     "metadata": {},
     "output_type": "display_data"
    }
   ],
   "source": [
    "fig = sm.qqplot(e, line='s')"
   ]
  },
  {
   "cell_type": "code",
   "execution_count": 38,
   "id": "44dbf45e",
   "metadata": {},
   "outputs": [
    {
     "data": {
      "text/plain": [
       "3    -17.200\n",
       "21   -14.501\n",
       "12    -9.710\n",
       "4     -9.704\n",
       "10    -7.664\n",
       "dtype: float64"
      ]
     },
     "execution_count": 38,
     "metadata": {},
     "output_type": "execute_result"
    }
   ],
   "source": [
    "e_sort = e.sort_values()\n",
    "e_sort.head()"
   ]
  },
  {
   "cell_type": "code",
   "execution_count": 39,
   "id": "e3da7607",
   "metadata": {},
   "outputs": [
    {
     "data": {
      "text/plain": [
       "0.032"
      ]
     },
     "execution_count": 39,
     "metadata": {},
     "output_type": "execute_result"
    }
   ],
   "source": [
    "round(1 / 31, 3)"
   ]
  },
  {
   "cell_type": "code",
   "execution_count": 40,
   "id": "b0569197",
   "metadata": {},
   "outputs": [
    {
     "data": {
      "text/plain": [
       "array([0.032, 0.065, 0.097, 0.129, 0.161, 0.194, 0.226, 0.258, 0.29 ,\n",
       "       0.323, 0.355, 0.387, 0.419, 0.452, 0.484, 0.516, 0.548, 0.581,\n",
       "       0.613, 0.645, 0.677, 0.71 , 0.742, 0.774, 0.806, 0.839, 0.871,\n",
       "       0.903, 0.935, 0.968])"
      ]
     },
     "execution_count": 40,
     "metadata": {},
     "output_type": "execute_result"
    }
   ],
   "source": [
    "nobs = len(e_sort)\n",
    "cdf = np.arange(1, nobs + 1) / (nobs + 1)\n",
    "cdf"
   ]
  },
  {
   "cell_type": "code",
   "execution_count": 41,
   "id": "6ebd112b",
   "metadata": {},
   "outputs": [
    {
     "data": {
      "text/plain": [
       "array([-1.849, -1.518, -1.3  , -1.131, -0.989, -0.865, -0.753, -0.649,\n",
       "       -0.552, -0.46 , -0.372, -0.287, -0.204, -0.122, -0.04 ,  0.04 ,\n",
       "        0.122,  0.204,  0.287,  0.372,  0.46 ,  0.552,  0.649,  0.753,\n",
       "        0.865,  0.989,  1.131,  1.3  ,  1.518,  1.849])"
      ]
     },
     "execution_count": 41,
     "metadata": {},
     "output_type": "execute_result"
    }
   ],
   "source": [
    "ppf = stats.norm.ppf(cdf)\n",
    "ppf"
   ]
  },
  {
   "cell_type": "code",
   "execution_count": 42,
   "id": "5c3e5a59",
   "metadata": {},
   "outputs": [
    {
     "data": {
      "text/plain": [
       "<AxesSubplot:>"
      ]
     },
     "execution_count": 42,
     "metadata": {},
     "output_type": "execute_result"
    },
    {
     "data": {
      "image/png": "[encoded data removed]",
      "text/plain": [
       "<Figure size 432x288 with 1 Axes>"
      ]
     },
     "metadata": {},
     "output_type": "display_data"
    }
   ],
   "source": [
    "sns.scatterplot(x=ppf, y=e_sort, color='black')"
   ]
  },
  {
   "cell_type": "code",
   "execution_count": 43,
   "id": "874885fb",
   "metadata": {},
   "outputs": [],
   "source": [
    "import numpy as np\n",
    "import pandas as pd\n",
    "from scipy import stats\n",
    "\n",
    "pd.set_option('display.precision', 3)\n",
    "np.set_printoptions(precision=3)\n",
    "\n",
    "import matplotlib.pyplot as plt\n",
    "import seaborn as sns\n",
    "sns.set()\n",
    "\n",
    "import statsmodels.formula.api as smf\n",
    "import statsmodels.api as sm"
   ]
  },
  {
   "cell_type": "code",
   "execution_count": 44,
   "id": "840c8854",
   "metadata": {},
   "outputs": [
    {
     "data": {
      "text/html": [
       "<div>\n",
       "<style scoped>\n",
       "    .dataframe tbody tr th:only-of-type {\n",
       "        vertical-align: middle;\n",
       "    }\n",
       "\n",
       "    .dataframe tbody tr th {\n",
       "        vertical-align: top;\n",
       "    }\n",
       "\n",
       "    .dataframe thead th {\n",
       "        text-align: right;\n",
       "    }\n",
       "</style>\n",
       "<table border=\"1\" class=\"dataframe\">\n",
       "  <thead>\n",
       "    <tr style=\"text-align: right;\">\n",
       "      <th></th>\n",
       "      <th>beer</th>\n",
       "      <th>weather</th>\n",
       "    </tr>\n",
       "  </thead>\n",
       "  <tbody>\n",
       "    <tr>\n",
       "      <th>0</th>\n",
       "      <td>6</td>\n",
       "      <td>cloudy</td>\n",
       "    </tr>\n",
       "    <tr>\n",
       "      <th>1</th>\n",
       "      <td>8</td>\n",
       "      <td>cloudy</td>\n",
       "    </tr>\n",
       "    <tr>\n",
       "      <th>2</th>\n",
       "      <td>2</td>\n",
       "      <td>rainy</td>\n",
       "    </tr>\n",
       "    <tr>\n",
       "      <th>3</th>\n",
       "      <td>4</td>\n",
       "      <td>rainy</td>\n",
       "    </tr>\n",
       "    <tr>\n",
       "      <th>4</th>\n",
       "      <td>10</td>\n",
       "      <td>sunny</td>\n",
       "    </tr>\n",
       "    <tr>\n",
       "      <th>5</th>\n",
       "      <td>12</td>\n",
       "      <td>sunny</td>\n",
       "    </tr>\n",
       "  </tbody>\n",
       "</table>\n",
       "</div>"
      ],
      "text/plain": [
       "   beer weather\n",
       "0     6  cloudy\n",
       "1     8  cloudy\n",
       "2     2   rainy\n",
       "3     4   rainy\n",
       "4    10   sunny\n",
       "5    12   sunny"
      ]
     },
     "execution_count": 44,
     "metadata": {},
     "output_type": "execute_result"
    }
   ],
   "source": [
    "weather = [\n",
    "    'cloudy', 'cloudy',\n",
    "    'rainy', 'rainy',\n",
    "    'sunny', 'sunny'\n",
    "]\n",
    "\n",
    "beer = [6, 8, 2, 4, 10, 12]\n",
    "\n",
    "weather_beer = pd.DataFrame({\n",
    "    'beer': beer,\n",
    "    'weather': weather\n",
    "})\n",
    "\n",
    "weather_beer"
   ]
  },
  {
   "cell_type": "code",
   "execution_count": 45,
   "id": "4b1dc6cd",
   "metadata": {},
   "outputs": [
    {
     "data": {
      "text/plain": [
       "<AxesSubplot:xlabel='weather', ylabel='beer'>"
      ]
     },
     "execution_count": 45,
     "metadata": {},
     "output_type": "execute_result"
    },
    {
     "data": {
      "image/png": "[encoded data removed]",
      "text/plain": [
       "<Figure size 432x288 with 1 Axes>"
      ]
     },
     "metadata": {},
     "output_type": "display_data"
    }
   ],
   "source": [
    "sns.boxplot(x='weather', y='beer', data=weather_beer, color='gray')"
   ]
  },
  {
   "cell_type": "code",
   "execution_count": 46,
   "id": "afd0e2cd",
   "metadata": {},
   "outputs": [
    {
     "data": {
      "text/plain": [
       "array([ 6,  8,  2,  4, 10, 12])"
      ]
     },
     "execution_count": 46,
     "metadata": {},
     "output_type": "execute_result"
    }
   ],
   "source": [
    "y = weather_beer.beer.to_numpy()\n",
    "y"
   ]
  },
  {
   "cell_type": "code",
   "execution_count": 47,
   "id": "0e568656",
   "metadata": {},
   "outputs": [
    {
     "data": {
      "text/plain": [
       "7.0"
      ]
     },
     "execution_count": 47,
     "metadata": {},
     "output_type": "execute_result"
    }
   ],
   "source": [
    "y_bar = np.mean(y)\n",
    "y_bar"
   ]
  },
  {
   "cell_type": "code",
   "execution_count": 48,
   "id": "66322a4f",
   "metadata": {},
   "outputs": [
    {
     "data": {
      "text/html": [
       "<div>\n",
       "<style scoped>\n",
       "    .dataframe tbody tr th:only-of-type {\n",
       "        vertical-align: middle;\n",
       "    }\n",
       "\n",
       "    .dataframe tbody tr th {\n",
       "        vertical-align: top;\n",
       "    }\n",
       "\n",
       "    .dataframe thead th {\n",
       "        text-align: right;\n",
       "    }\n",
       "</style>\n",
       "<table border=\"1\" class=\"dataframe\">\n",
       "  <thead>\n",
       "    <tr style=\"text-align: right;\">\n",
       "      <th></th>\n",
       "      <th>beer</th>\n",
       "    </tr>\n",
       "    <tr>\n",
       "      <th>weather</th>\n",
       "      <th></th>\n",
       "    </tr>\n",
       "  </thead>\n",
       "  <tbody>\n",
       "    <tr>\n",
       "      <th>cloudy</th>\n",
       "      <td>7.0</td>\n",
       "    </tr>\n",
       "    <tr>\n",
       "      <th>rainy</th>\n",
       "      <td>3.0</td>\n",
       "    </tr>\n",
       "    <tr>\n",
       "      <th>sunny</th>\n",
       "      <td>11.0</td>\n",
       "    </tr>\n",
       "  </tbody>\n",
       "</table>\n",
       "</div>"
      ],
      "text/plain": [
       "         beer\n",
       "weather      \n",
       "cloudy    7.0\n",
       "rainy     3.0\n",
       "sunny    11.0"
      ]
     },
     "execution_count": 48,
     "metadata": {},
     "output_type": "execute_result"
    }
   ],
   "source": [
    "y_bar_j = weather_beer.groupby('weather').mean()\n",
    "y_bar_j"
   ]
  },
  {
   "cell_type": "code",
   "execution_count": 49,
   "id": "68e8faa5",
   "metadata": {},
   "outputs": [
    {
     "data": {
      "text/plain": [
       "weather\n",
       "cloudy     7.0\n",
       "cloudy     7.0\n",
       "rainy      3.0\n",
       "rainy      3.0\n",
       "sunny     11.0\n",
       "sunny     11.0\n",
       "Name: beer, dtype: float64"
      ]
     },
     "execution_count": 49,
     "metadata": {},
     "output_type": "execute_result"
    }
   ],
   "source": [
    "n_j = 2\n",
    "\n",
    "effect = np.repeat(y_bar_j.beer, n_j)\n",
    "effect"
   ]
  },
  {
   "cell_type": "code",
   "execution_count": 50,
   "id": "80994ec9",
   "metadata": {},
   "outputs": [
    {
     "data": {
      "text/plain": [
       "64.0"
      ]
     },
     "execution_count": 50,
     "metadata": {},
     "output_type": "execute_result"
    }
   ],
   "source": [
    "ss_b = np.sum((effect - y_bar) ** 2)\n",
    "ss_b"
   ]
  },
  {
   "cell_type": "code",
   "execution_count": 51,
   "id": "ec1d3d93",
   "metadata": {},
   "outputs": [
    {
     "data": {
      "text/plain": [
       "weather\n",
       "cloudy   -1.0\n",
       "cloudy    1.0\n",
       "rainy    -1.0\n",
       "rainy     1.0\n",
       "sunny    -1.0\n",
       "sunny     1.0\n",
       "Name: beer, dtype: float64"
      ]
     },
     "execution_count": 51,
     "metadata": {},
     "output_type": "execute_result"
    }
   ],
   "source": [
    "resid = y - effect\n",
    "resid"
   ]
  },
  {
   "cell_type": "code",
   "execution_count": 52,
   "id": "7df28a71",
   "metadata": {},
   "outputs": [
    {
     "data": {
      "text/plain": [
       "6.0"
      ]
     },
     "execution_count": 52,
     "metadata": {},
     "output_type": "execute_result"
    }
   ],
   "source": [
    "ss_w = np.sum(resid ** 2)\n",
    "ss_w"
   ]
  },
  {
   "cell_type": "code",
   "execution_count": 54,
   "id": "88a5b50c",
   "metadata": {},
   "outputs": [],
   "source": [
    "df_b = 2\n",
    "df_w = 3"
   ]
  },
  {
   "cell_type": "code",
   "execution_count": 55,
   "id": "ab92e851",
   "metadata": {},
   "outputs": [
    {
     "data": {
      "text/plain": [
       "32.0"
      ]
     },
     "execution_count": 55,
     "metadata": {},
     "output_type": "execute_result"
    }
   ],
   "source": [
    "sigma_b = ss_b / df_b\n",
    "sigma_b"
   ]
  },
  {
   "cell_type": "code",
   "execution_count": 56,
   "id": "bc1ebe24",
   "metadata": {},
   "outputs": [
    {
     "data": {
      "text/plain": [
       "2.0"
      ]
     },
     "execution_count": 56,
     "metadata": {},
     "output_type": "execute_result"
    }
   ],
   "source": [
    "sigma_w = ss_w / df_w\n",
    "sigma_w"
   ]
  },
  {
   "cell_type": "code",
   "execution_count": 57,
   "id": "1d27132b",
   "metadata": {},
   "outputs": [
    {
     "data": {
      "text/plain": [
       "16.0"
      ]
     },
     "execution_count": 57,
     "metadata": {},
     "output_type": "execute_result"
    }
   ],
   "source": [
    "f_ratio = sigma_b / sigma_w\n",
    "f_ratio"
   ]
  },
  {
   "cell_type": "code",
   "execution_count": 58,
   "id": "5fbebd6f",
   "metadata": {},
   "outputs": [
    {
     "data": {
      "text/plain": [
       "0.025"
      ]
     },
     "execution_count": 58,
     "metadata": {},
     "output_type": "execute_result"
    }
   ],
   "source": [
    "p_value = 1 - stats.f.cdf(x=f_ratio, dfn=df_b, dfd=df_w)\n",
    "round(p_value, 3)"
   ]
  },
  {
   "cell_type": "code",
   "execution_count": 59,
   "id": "34115a97",
   "metadata": {},
   "outputs": [],
   "source": [
    "anova_model = smf.ols(formula='beer ~ weather', data=weather_beer).fit()"
   ]
  },
  {
   "cell_type": "code",
   "execution_count": 60,
   "id": "f6682811",
   "metadata": {},
   "outputs": [
    {
     "data": {
      "text/html": [
       "<div>\n",
       "<style scoped>\n",
       "    .dataframe tbody tr th:only-of-type {\n",
       "        vertical-align: middle;\n",
       "    }\n",
       "\n",
       "    .dataframe tbody tr th {\n",
       "        vertical-align: top;\n",
       "    }\n",
       "\n",
       "    .dataframe thead th {\n",
       "        text-align: right;\n",
       "    }\n",
       "</style>\n",
       "<table border=\"1\" class=\"dataframe\">\n",
       "  <thead>\n",
       "    <tr style=\"text-align: right;\">\n",
       "      <th></th>\n",
       "      <th>sum_sq</th>\n",
       "      <th>df</th>\n",
       "      <th>F</th>\n",
       "      <th>PR(&gt;F)</th>\n",
       "    </tr>\n",
       "  </thead>\n",
       "  <tbody>\n",
       "    <tr>\n",
       "      <th>weather</th>\n",
       "      <td>64.0</td>\n",
       "      <td>2.0</td>\n",
       "      <td>16.0</td>\n",
       "      <td>0.025</td>\n",
       "    </tr>\n",
       "    <tr>\n",
       "      <th>Residual</th>\n",
       "      <td>6.0</td>\n",
       "      <td>3.0</td>\n",
       "      <td>NaN</td>\n",
       "      <td>NaN</td>\n",
       "    </tr>\n",
       "  </tbody>\n",
       "</table>\n",
       "</div>"
      ],
      "text/plain": [
       "          sum_sq   df     F  PR(>F)\n",
       "weather     64.0  2.0  16.0   0.025\n",
       "Residual     6.0  3.0   NaN     NaN"
      ]
     },
     "execution_count": 60,
     "metadata": {},
     "output_type": "execute_result"
    }
   ],
   "source": [
    "sm.stats.anova_lm(anova_model, typ=2)"
   ]
  },
  {
   "cell_type": "code",
   "execution_count": 61,
   "id": "abacbfa0",
   "metadata": {},
   "outputs": [
    {
     "data": {
      "text/plain": [
       "70.0"
      ]
     },
     "execution_count": 61,
     "metadata": {},
     "output_type": "execute_result"
    }
   ],
   "source": [
    "np.sum((y - y_bar)**2)"
   ]
  },
  {
   "cell_type": "code",
   "execution_count": 62,
   "id": "8304fe1b",
   "metadata": {},
   "outputs": [
    {
     "data": {
      "text/plain": [
       "Intercept           7.0\n",
       "weather[T.rainy]   -4.0\n",
       "weather[T.sunny]    4.0\n",
       "dtype: float64"
      ]
     },
     "execution_count": 62,
     "metadata": {},
     "output_type": "execute_result"
    }
   ],
   "source": [
    "anova_model.params"
   ]
  },
  {
   "cell_type": "code",
   "execution_count": 63,
   "id": "67a11b8d",
   "metadata": {},
   "outputs": [
    {
     "data": {
      "text/plain": [
       "0     7.0\n",
       "1     7.0\n",
       "2     3.0\n",
       "3     3.0\n",
       "4    11.0\n",
       "5    11.0\n",
       "dtype: float64"
      ]
     },
     "execution_count": 63,
     "metadata": {},
     "output_type": "execute_result"
    }
   ],
   "source": [
    "fitted = anova_model.fittedvalues\n",
    "fitted"
   ]
  },
  {
   "cell_type": "code",
   "execution_count": 64,
   "id": "5f1d210c",
   "metadata": {},
   "outputs": [
    {
     "data": {
      "text/plain": [
       "0   -1.0\n",
       "1    1.0\n",
       "2   -1.0\n",
       "3    1.0\n",
       "4   -1.0\n",
       "5    1.0\n",
       "dtype: float64"
      ]
     },
     "execution_count": 64,
     "metadata": {},
     "output_type": "execute_result"
    }
   ],
   "source": [
    "anova_model.resid"
   ]
  },
  {
   "cell_type": "code",
   "execution_count": 65,
   "id": "c7590090",
   "metadata": {},
   "outputs": [],
   "source": [
    "beer = pd.read_csv('8-1-1-beer.csv')\n",
    "\n",
    "lm_model = smf.ols(formula='beer ~ temperature', data=beer).fit()"
   ]
  },
  {
   "cell_type": "code",
   "execution_count": 66,
   "id": "5cc19fb8",
   "metadata": {},
   "outputs": [
    {
     "name": "stdout",
     "output_type": "stream",
     "text": [
      "モデルの自由度： 1.0\n",
      "残差の自由度： 28.0\n"
     ]
    }
   ],
   "source": [
    "print('モデルの自由度：', lm_model.df_model)\n",
    "print('残差の自由度：', lm_model.df_resid)"
   ]
  },
  {
   "cell_type": "code",
   "execution_count": 67,
   "id": "2c7d63e8",
   "metadata": {},
   "outputs": [
    {
     "data": {
      "text/plain": [
       "28.447"
      ]
     },
     "execution_count": 67,
     "metadata": {},
     "output_type": "execute_result"
    }
   ],
   "source": [
    "y = beer.beer\n",
    "\n",
    "effect = lm_model.fittedvalues\n",
    "\n",
    "resid = lm_model.resid\n",
    "\n",
    "y_bar = np.mean(y)\n",
    "ss_model = np.sum((effect - y_bar) ** 2)\n",
    "sigma_model = ss_model / lm_model.df_model\n",
    "\n",
    "ss_resid = np.sum((resid) ** 2)\n",
    "sigma_resid = ss_resid / lm_model.df_resid\n",
    "\n",
    "f_value_lm = sigma_model / sigma_resid\n",
    "round(f_value_lm, 3)"
   ]
  },
  {
   "cell_type": "code",
   "execution_count": 71,
   "id": "57c155c3",
   "metadata": {},
   "outputs": [
    {
     "name": "stdout",
     "output_type": "stream",
     "text": [
      "               sum_sq    df       F     PR(>F)\n",
      "temperature  1651.532   1.0  28.447  1.115e-05\n",
      "Residual     1625.582  28.0     NaN        NaN\n"
     ]
    }
   ],
   "source": [
    "print(sm.stats.anova_lm(lm_model, typ=2))"
   ]
  },
  {
   "cell_type": "code",
   "execution_count": 72,
   "id": "74b8abb0",
   "metadata": {},
   "outputs": [
    {
     "data": {
      "text/html": [
       "<table class=\"simpletable\">\n",
       "<caption>OLS Regression Results</caption>\n",
       "<tr>\n",
       "  <th>Dep. Variable:</th>          <td>beer</td>       <th>  R-squared:         </th> <td>   0.504</td>\n",
       "</tr>\n",
       "<tr>\n",
       "  <th>Model:</th>                   <td>OLS</td>       <th>  Adj. R-squared:    </th> <td>   0.486</td>\n",
       "</tr>\n",
       "<tr>\n",
       "  <th>Method:</th>             <td>Least Squares</td>  <th>  F-statistic:       </th> <td>   28.45</td>\n",
       "</tr>\n",
       "<tr>\n",
       "  <th>Date:</th>             <td>Mon, 22 May 2023</td> <th>  Prob (F-statistic):</th> <td>1.11e-05</td>\n",
       "</tr>\n",
       "<tr>\n",
       "  <th>Time:</th>                 <td>14:50:09</td>     <th>  Log-Likelihood:    </th> <td> -102.45</td>\n",
       "</tr>\n",
       "<tr>\n",
       "  <th>No. Observations:</th>      <td>    30</td>      <th>  AIC:               </th> <td>   208.9</td>\n",
       "</tr>\n",
       "<tr>\n",
       "  <th>Df Residuals:</th>          <td>    28</td>      <th>  BIC:               </th> <td>   211.7</td>\n",
       "</tr>\n",
       "<tr>\n",
       "  <th>Df Model:</th>              <td>     1</td>      <th>                     </th>     <td> </td>   \n",
       "</tr>\n",
       "<tr>\n",
       "  <th>Covariance Type:</th>      <td>nonrobust</td>    <th>                     </th>     <td> </td>   \n",
       "</tr>\n",
       "</table>\n",
       "<table class=\"simpletable\">\n",
       "<tr>\n",
       "       <td></td>          <th>coef</th>     <th>std err</th>      <th>t</th>      <th>P>|t|</th>  <th>[0.025</th>    <th>0.975]</th>  \n",
       "</tr>\n",
       "<tr>\n",
       "  <th>Intercept</th>   <td>   34.6102</td> <td>    3.235</td> <td>   10.699</td> <td> 0.000</td> <td>   27.984</td> <td>   41.237</td>\n",
       "</tr>\n",
       "<tr>\n",
       "  <th>temperature</th> <td>    0.7654</td> <td>    0.144</td> <td>    5.334</td> <td> 0.000</td> <td>    0.471</td> <td>    1.059</td>\n",
       "</tr>\n",
       "</table>\n",
       "<table class=\"simpletable\">\n",
       "<tr>\n",
       "  <th>Omnibus:</th>       <td> 0.587</td> <th>  Durbin-Watson:     </th> <td>   1.960</td>\n",
       "</tr>\n",
       "<tr>\n",
       "  <th>Prob(Omnibus):</th> <td> 0.746</td> <th>  Jarque-Bera (JB):  </th> <td>   0.290</td>\n",
       "</tr>\n",
       "<tr>\n",
       "  <th>Skew:</th>          <td>-0.240</td> <th>  Prob(JB):          </th> <td>   0.865</td>\n",
       "</tr>\n",
       "<tr>\n",
       "  <th>Kurtosis:</th>      <td> 2.951</td> <th>  Cond. No.          </th> <td>    52.5</td>\n",
       "</tr>\n",
       "</table><br/><br/>Notes:<br/>[1] Standard Errors assume that the covariance matrix of the errors is correctly specified."
      ],
      "text/plain": [
       "<class 'statsmodels.iolib.summary.Summary'>\n",
       "\"\"\"\n",
       "                            OLS Regression Results                            \n",
       "==============================================================================\n",
       "Dep. Variable:                   beer   R-squared:                       0.504\n",
       "Model:                            OLS   Adj. R-squared:                  0.486\n",
       "Method:                 Least Squares   F-statistic:                     28.45\n",
       "Date:                Mon, 22 May 2023   Prob (F-statistic):           1.11e-05\n",
       "Time:                        14:50:09   Log-Likelihood:                -102.45\n",
       "No. Observations:                  30   AIC:                             208.9\n",
       "Df Residuals:                      28   BIC:                             211.7\n",
       "Df Model:                           1                                         \n",
       "Covariance Type:            nonrobust                                         \n",
       "===============================================================================\n",
       "                  coef    std err          t      P>|t|      [0.025      0.975]\n",
       "-------------------------------------------------------------------------------\n",
       "Intercept      34.6102      3.235     10.699      0.000      27.984      41.237\n",
       "temperature     0.7654      0.144      5.334      0.000       0.471       1.059\n",
       "==============================================================================\n",
       "Omnibus:                        0.587   Durbin-Watson:                   1.960\n",
       "Prob(Omnibus):                  0.746   Jarque-Bera (JB):                0.290\n",
       "Skew:                          -0.240   Prob(JB):                        0.865\n",
       "Kurtosis:                       2.951   Cond. No.                         52.5\n",
       "==============================================================================\n",
       "\n",
       "Notes:\n",
       "[1] Standard Errors assume that the covariance matrix of the errors is correctly specified.\n",
       "\"\"\""
      ]
     },
     "execution_count": 72,
     "metadata": {},
     "output_type": "execute_result"
    }
   ],
   "source": [
    "lm_model.summary()"
   ]
  },
  {
   "cell_type": "code",
   "execution_count": 73,
   "id": "6808e82a",
   "metadata": {},
   "outputs": [
    {
     "name": "stdout",
     "output_type": "stream",
     "text": [
      "総平方和： 3277.115\n",
      "SS_B + SS_W: 3277.115\n"
     ]
    }
   ],
   "source": [
    "print('総平方和：', round(np.sum((y - y_bar)**2), 3))\n",
    "print('SS_B + SS_W:', round(ss_model + ss_resid, 3))"
   ]
  },
  {
   "cell_type": "code",
   "execution_count": 74,
   "id": "919bcabd",
   "metadata": {},
   "outputs": [
    {
     "data": {
      "text/plain": [
       "1651.532"
      ]
     },
     "execution_count": 74,
     "metadata": {},
     "output_type": "execute_result"
    }
   ],
   "source": [
    "round(np.sum((y - y_bar)**2) - np.sum((resid) ** 2), 3)"
   ]
  },
  {
   "cell_type": "code",
   "execution_count": 76,
   "id": "6868f052",
   "metadata": {},
   "outputs": [],
   "source": [
    "import numpy as np\n",
    "import pandas as pd\n",
    "from scipy import stats\n",
    "\n",
    "pd.set_option('display.precision', 3)\n",
    "np.set_printoptions(precision=3)\n",
    "\n",
    "import matplotlib.pyplot as plt\n",
    "import seaborn as sns\n",
    "sns.set()\n",
    "\n",
    "import statsmodels.formula.api as smf\n",
    "import statsmodels.api as sm"
   ]
  },
  {
   "cell_type": "code",
   "execution_count": 77,
   "id": "e5ccc406",
   "metadata": {},
   "outputs": [
    {
     "data": {
      "text/html": [
       "<div>\n",
       "<style scoped>\n",
       "    .dataframe tbody tr th:only-of-type {\n",
       "        vertical-align: middle;\n",
       "    }\n",
       "\n",
       "    .dataframe tbody tr th {\n",
       "        vertical-align: top;\n",
       "    }\n",
       "\n",
       "    .dataframe thead th {\n",
       "        text-align: right;\n",
       "    }\n",
       "</style>\n",
       "<table border=\"1\" class=\"dataframe\">\n",
       "  <thead>\n",
       "    <tr style=\"text-align: right;\">\n",
       "      <th></th>\n",
       "      <th>sales</th>\n",
       "      <th>brand</th>\n",
       "      <th>local_population</th>\n",
       "    </tr>\n",
       "  </thead>\n",
       "  <tbody>\n",
       "    <tr>\n",
       "      <th>0</th>\n",
       "      <td>348.0</td>\n",
       "      <td>A</td>\n",
       "      <td>215.1</td>\n",
       "    </tr>\n",
       "    <tr>\n",
       "      <th>1</th>\n",
       "      <td>169.7</td>\n",
       "      <td>A</td>\n",
       "      <td>152.0</td>\n",
       "    </tr>\n",
       "    <tr>\n",
       "      <th>2</th>\n",
       "      <td>143.7</td>\n",
       "      <td>A</td>\n",
       "      <td>107.7</td>\n",
       "    </tr>\n",
       "    <tr>\n",
       "      <th>3</th>\n",
       "      <td>295.7</td>\n",
       "      <td>A</td>\n",
       "      <td>371.5</td>\n",
       "    </tr>\n",
       "    <tr>\n",
       "      <th>4</th>\n",
       "      <td>281.2</td>\n",
       "      <td>A</td>\n",
       "      <td>184.7</td>\n",
       "    </tr>\n",
       "  </tbody>\n",
       "</table>\n",
       "</div>"
      ],
      "text/plain": [
       "   sales brand  local_population\n",
       "0  348.0     A             215.1\n",
       "1  169.7     A             152.0\n",
       "2  143.7     A             107.7\n",
       "3  295.7     A             371.5\n",
       "4  281.2     A             184.7"
      ]
     },
     "execution_count": 77,
     "metadata": {},
     "output_type": "execute_result"
    }
   ],
   "source": [
    "brand_1 = pd.read_csv('8-4-1-brand-1.csv')\n",
    "brand_1.head()"
   ]
  },
  {
   "cell_type": "code",
   "execution_count": 78,
   "id": "76dacdb1",
   "metadata": {},
   "outputs": [
    {
     "data": {
      "text/plain": [
       "A    15\n",
       "B    15\n",
       "Name: brand, dtype: int64"
      ]
     },
     "execution_count": 78,
     "metadata": {},
     "output_type": "execute_result"
    }
   ],
   "source": [
    "brand_1.brand.value_counts()"
   ]
  },
  {
   "cell_type": "code",
   "execution_count": 79,
   "id": "fb13ef74",
   "metadata": {},
   "outputs": [
    {
     "data": {
      "text/html": [
       "<div>\n",
       "<style scoped>\n",
       "    .dataframe tbody tr th:only-of-type {\n",
       "        vertical-align: middle;\n",
       "    }\n",
       "\n",
       "    .dataframe tbody tr th {\n",
       "        vertical-align: top;\n",
       "    }\n",
       "\n",
       "    .dataframe thead th {\n",
       "        text-align: right;\n",
       "    }\n",
       "</style>\n",
       "<table border=\"1\" class=\"dataframe\">\n",
       "  <thead>\n",
       "    <tr style=\"text-align: right;\">\n",
       "      <th></th>\n",
       "      <th>sales</th>\n",
       "      <th>local_population</th>\n",
       "    </tr>\n",
       "    <tr>\n",
       "      <th>brand</th>\n",
       "      <th></th>\n",
       "      <th></th>\n",
       "    </tr>\n",
       "  </thead>\n",
       "  <tbody>\n",
       "    <tr>\n",
       "      <th>A</th>\n",
       "      <td>283.707</td>\n",
       "      <td>268.973</td>\n",
       "    </tr>\n",
       "    <tr>\n",
       "      <th>B</th>\n",
       "      <td>403.927</td>\n",
       "      <td>437.933</td>\n",
       "    </tr>\n",
       "  </tbody>\n",
       "</table>\n",
       "</div>"
      ],
      "text/plain": [
       "         sales  local_population\n",
       "brand                           \n",
       "A      283.707           268.973\n",
       "B      403.927           437.933"
      ]
     },
     "execution_count": 79,
     "metadata": {},
     "output_type": "execute_result"
    }
   ],
   "source": [
    "brand_1.groupby('brand').mean()"
   ]
  },
  {
   "cell_type": "code",
   "execution_count": 80,
   "id": "88298d1d",
   "metadata": {},
   "outputs": [
    {
     "data": {
      "text/plain": [
       "<AxesSubplot:xlabel='brand', ylabel='sales'>"
      ]
     },
     "execution_count": 80,
     "metadata": {},
     "output_type": "execute_result"
    },
    {
     "data": {
      "image/png": "[encoded data removed]",
      "text/plain": [
       "<Figure size 432x288 with 1 Axes>"
      ]
     },
     "metadata": {},
     "output_type": "display_data"
    }
   ],
   "source": [
    "sns.boxplot(x='brand', y='sales', data=brand_1, color='gray')"
   ]
  },
  {
   "cell_type": "code",
   "execution_count": 82,
   "id": "e88d10b6",
   "metadata": {},
   "outputs": [
    {
     "data": {
      "text/html": [
       "<table class=\"simpletable\">\n",
       "<tr>\n",
       "       <td></td>         <th>coef</th>     <th>std err</th>      <th>t</th>      <th>P>|t|</th>  <th>[0.025</th>    <th>0.975]</th>  \n",
       "</tr>\n",
       "<tr>\n",
       "  <th>Intercept</th>  <td>  283.7067</td> <td>   26.602</td> <td>   10.665</td> <td> 0.000</td> <td>  229.214</td> <td>  338.199</td>\n",
       "</tr>\n",
       "<tr>\n",
       "  <th>brand[T.B]</th> <td>  120.2200</td> <td>   37.622</td> <td>    3.196</td> <td> 0.003</td> <td>   43.156</td> <td>  197.284</td>\n",
       "</tr>\n",
       "</table>"
      ],
      "text/plain": [
       "<class 'statsmodels.iolib.table.SimpleTable'>"
      ]
     },
     "execution_count": 82,
     "metadata": {},
     "output_type": "execute_result"
    }
   ],
   "source": [
    "lm_dame_1 = smf.ols('sales ~ brand', brand_1).fit()\n",
    "lm_dame_1.summary().tables[1]"
   ]
  },
  {
   "cell_type": "code",
   "execution_count": 83,
   "id": "21848c3f",
   "metadata": {},
   "outputs": [
    {
     "data": {
      "text/html": [
       "<div>\n",
       "<style scoped>\n",
       "    .dataframe tbody tr th:only-of-type {\n",
       "        vertical-align: middle;\n",
       "    }\n",
       "\n",
       "    .dataframe tbody tr th {\n",
       "        vertical-align: top;\n",
       "    }\n",
       "\n",
       "    .dataframe thead th {\n",
       "        text-align: right;\n",
       "    }\n",
       "</style>\n",
       "<table border=\"1\" class=\"dataframe\">\n",
       "  <thead>\n",
       "    <tr style=\"text-align: right;\">\n",
       "      <th></th>\n",
       "      <th>df</th>\n",
       "      <th>sum_sq</th>\n",
       "      <th>mean_sq</th>\n",
       "      <th>F</th>\n",
       "      <th>PR(&gt;F)</th>\n",
       "    </tr>\n",
       "  </thead>\n",
       "  <tbody>\n",
       "    <tr>\n",
       "      <th>brand</th>\n",
       "      <td>1.0</td>\n",
       "      <td>108396.363</td>\n",
       "      <td>108396.363</td>\n",
       "      <td>10.211</td>\n",
       "      <td>0.003</td>\n",
       "    </tr>\n",
       "    <tr>\n",
       "      <th>Residual</th>\n",
       "      <td>28.0</td>\n",
       "      <td>297230.019</td>\n",
       "      <td>10615.358</td>\n",
       "      <td>NaN</td>\n",
       "      <td>NaN</td>\n",
       "    </tr>\n",
       "  </tbody>\n",
       "</table>\n",
       "</div>"
      ],
      "text/plain": [
       "            df      sum_sq     mean_sq       F  PR(>F)\n",
       "brand      1.0  108396.363  108396.363  10.211   0.003\n",
       "Residual  28.0  297230.019   10615.358     NaN     NaN"
      ]
     },
     "execution_count": 83,
     "metadata": {},
     "output_type": "execute_result"
    }
   ],
   "source": [
    "sm.stats.anova_lm(lm_dame_1, typ=1).round(3)"
   ]
  },
  {
   "cell_type": "code",
   "execution_count": 84,
   "id": "835e30d3",
   "metadata": {},
   "outputs": [
    {
     "data": {
      "text/html": [
       "<table class=\"simpletable\">\n",
       "<tr>\n",
       "          <td></td>            <th>coef</th>     <th>std err</th>      <th>t</th>      <th>P>|t|</th>  <th>[0.025</th>    <th>0.975]</th>  \n",
       "</tr>\n",
       "<tr>\n",
       "  <th>Intercept</th>        <td>  101.0946</td> <td>   31.535</td> <td>    3.206</td> <td> 0.003</td> <td>   36.389</td> <td>  165.800</td>\n",
       "</tr>\n",
       "<tr>\n",
       "  <th>brand[T.B]</th>       <td>    5.5093</td> <td>   28.768</td> <td>    0.192</td> <td> 0.850</td> <td>  -53.518</td> <td>   64.537</td>\n",
       "</tr>\n",
       "<tr>\n",
       "  <th>local_population</th> <td>    0.6789</td> <td>    0.100</td> <td>    6.790</td> <td> 0.000</td> <td>    0.474</td> <td>    0.884</td>\n",
       "</tr>\n",
       "</table>"
      ],
      "text/plain": [
       "<class 'statsmodels.iolib.table.SimpleTable'>"
      ]
     },
     "execution_count": 84,
     "metadata": {},
     "output_type": "execute_result"
    }
   ],
   "source": [
    "lm_model_1 = smf.ols('sales ~ brand + local_population', data=brand_1).fit()\n",
    "lm_model_1.summary().tables[1]"
   ]
  },
  {
   "cell_type": "code",
   "execution_count": 85,
   "id": "9f38c5de",
   "metadata": {},
   "outputs": [
    {
     "data": {
      "text/plain": [
       "<seaborn.axisgrid.FacetGrid at 0x7f7c0fea1130>"
      ]
     },
     "execution_count": 85,
     "metadata": {},
     "output_type": "execute_result"
    },
    {
     "data": {
      "image/png": "[encoded data removed]",
      "text/plain": [
       "<Figure size 576x288 with 2 Axes>"
      ]
     },
     "metadata": {},
     "output_type": "display_data"
    }
   ],
   "source": [
    "sns.lmplot(x='local_population', y='sales', data=brand_1, col='brand', scatter_kws={'color': 'black'},\n",
    "           line_kws={'color': 'black'}, ci=None, height=4, aspect=1)"
   ]
  },
  {
   "cell_type": "code",
   "execution_count": 86,
   "id": "9f9f4814",
   "metadata": {},
   "outputs": [
    {
     "data": {
      "text/html": [
       "<div>\n",
       "<style scoped>\n",
       "    .dataframe tbody tr th:only-of-type {\n",
       "        vertical-align: middle;\n",
       "    }\n",
       "\n",
       "    .dataframe tbody tr th {\n",
       "        vertical-align: top;\n",
       "    }\n",
       "\n",
       "    .dataframe thead th {\n",
       "        text-align: right;\n",
       "    }\n",
       "</style>\n",
       "<table border=\"1\" class=\"dataframe\">\n",
       "  <thead>\n",
       "    <tr style=\"text-align: right;\">\n",
       "      <th></th>\n",
       "      <th>df</th>\n",
       "      <th>sum_sq</th>\n",
       "      <th>mean_sq</th>\n",
       "      <th>F</th>\n",
       "      <th>PR(&gt;F)</th>\n",
       "    </tr>\n",
       "  </thead>\n",
       "  <tbody>\n",
       "    <tr>\n",
       "      <th>brand</th>\n",
       "      <td>1.0</td>\n",
       "      <td>108396.363</td>\n",
       "      <td>108396.363</td>\n",
       "      <td>26.658</td>\n",
       "      <td>0.0</td>\n",
       "    </tr>\n",
       "    <tr>\n",
       "      <th>local_population</th>\n",
       "      <td>1.0</td>\n",
       "      <td>187442.822</td>\n",
       "      <td>187442.822</td>\n",
       "      <td>46.098</td>\n",
       "      <td>0.0</td>\n",
       "    </tr>\n",
       "    <tr>\n",
       "      <th>Residual</th>\n",
       "      <td>27.0</td>\n",
       "      <td>109787.197</td>\n",
       "      <td>4066.192</td>\n",
       "      <td>NaN</td>\n",
       "      <td>NaN</td>\n",
       "    </tr>\n",
       "  </tbody>\n",
       "</table>\n",
       "</div>"
      ],
      "text/plain": [
       "                    df      sum_sq     mean_sq       F  PR(>F)\n",
       "brand              1.0  108396.363  108396.363  26.658     0.0\n",
       "local_population   1.0  187442.822  187442.822  46.098     0.0\n",
       "Residual          27.0  109787.197    4066.192     NaN     NaN"
      ]
     },
     "execution_count": 86,
     "metadata": {},
     "output_type": "execute_result"
    }
   ],
   "source": [
    "sm.stats.anova_lm(lm_model_1, typ=1).round(3)"
   ]
  },
  {
   "cell_type": "code",
   "execution_count": 87,
   "id": "9eddbb95",
   "metadata": {},
   "outputs": [
    {
     "data": {
      "text/plain": [
       "405626.382"
      ]
     },
     "execution_count": 87,
     "metadata": {},
     "output_type": "execute_result"
    }
   ],
   "source": [
    "mod_null = smf.ols('sales ~ 1', brand_1).fit()\n",
    "resid_sq_null = np.sum(mod_null.resid ** 2)\n",
    "round(resid_sq_null, 3)"
   ]
  },
  {
   "cell_type": "code",
   "execution_count": 88,
   "id": "72ab41c1",
   "metadata": {},
   "outputs": [
    {
     "data": {
      "text/plain": [
       "297230.019"
      ]
     },
     "execution_count": 88,
     "metadata": {},
     "output_type": "execute_result"
    }
   ],
   "source": [
    "resid_sq_brand = np.sum(lm_dame_1.resid ** 2)\n",
    "round(resid_sq_brand, 3)"
   ]
  },
  {
   "cell_type": "code",
   "execution_count": 89,
   "id": "a33bde45",
   "metadata": {},
   "outputs": [
    {
     "data": {
      "text/plain": [
       "108396.363"
      ]
     },
     "execution_count": 89,
     "metadata": {},
     "output_type": "execute_result"
    }
   ],
   "source": [
    "round(resid_sq_null - resid_sq_brand, 3)"
   ]
  },
  {
   "cell_type": "code",
   "execution_count": 90,
   "id": "0a3ca5f4",
   "metadata": {},
   "outputs": [
    {
     "data": {
      "text/plain": [
       "109787.197"
      ]
     },
     "execution_count": 90,
     "metadata": {},
     "output_type": "execute_result"
    }
   ],
   "source": [
    "resid_sq_all = np.sum(lm_model_1.resid ** 2)\n",
    "round(resid_sq_all, 3)"
   ]
  },
  {
   "cell_type": "code",
   "execution_count": 91,
   "id": "ddb89aae",
   "metadata": {},
   "outputs": [
    {
     "data": {
      "text/plain": [
       "187442.822"
      ]
     },
     "execution_count": 91,
     "metadata": {},
     "output_type": "execute_result"
    }
   ],
   "source": [
    "round(resid_sq_brand - resid_sq_all, 3)"
   ]
  },
  {
   "cell_type": "code",
   "execution_count": 92,
   "id": "318a4b8c",
   "metadata": {},
   "outputs": [
    {
     "data": {
      "text/html": [
       "<div>\n",
       "<style scoped>\n",
       "    .dataframe tbody tr th:only-of-type {\n",
       "        vertical-align: middle;\n",
       "    }\n",
       "\n",
       "    .dataframe tbody tr th {\n",
       "        vertical-align: top;\n",
       "    }\n",
       "\n",
       "    .dataframe thead th {\n",
       "        text-align: right;\n",
       "    }\n",
       "</style>\n",
       "<table border=\"1\" class=\"dataframe\">\n",
       "  <thead>\n",
       "    <tr style=\"text-align: right;\">\n",
       "      <th></th>\n",
       "      <th>df</th>\n",
       "      <th>sum_sq</th>\n",
       "      <th>mean_sq</th>\n",
       "      <th>F</th>\n",
       "      <th>PR(&gt;F)</th>\n",
       "    </tr>\n",
       "  </thead>\n",
       "  <tbody>\n",
       "    <tr>\n",
       "      <th>brand</th>\n",
       "      <td>1.0</td>\n",
       "      <td>108396.363</td>\n",
       "      <td>108396.363</td>\n",
       "      <td>26.658</td>\n",
       "      <td>0.0</td>\n",
       "    </tr>\n",
       "    <tr>\n",
       "      <th>local_population</th>\n",
       "      <td>1.0</td>\n",
       "      <td>187442.822</td>\n",
       "      <td>187442.822</td>\n",
       "      <td>46.098</td>\n",
       "      <td>0.0</td>\n",
       "    </tr>\n",
       "    <tr>\n",
       "      <th>Residual</th>\n",
       "      <td>27.0</td>\n",
       "      <td>109787.197</td>\n",
       "      <td>4066.192</td>\n",
       "      <td>NaN</td>\n",
       "      <td>NaN</td>\n",
       "    </tr>\n",
       "  </tbody>\n",
       "</table>\n",
       "</div>"
      ],
      "text/plain": [
       "                    df      sum_sq     mean_sq       F  PR(>F)\n",
       "brand              1.0  108396.363  108396.363  26.658     0.0\n",
       "local_population   1.0  187442.822  187442.822  46.098     0.0\n",
       "Residual          27.0  109787.197    4066.192     NaN     NaN"
      ]
     },
     "execution_count": 92,
     "metadata": {},
     "output_type": "execute_result"
    }
   ],
   "source": [
    "sm.stats.anova_lm(lm_model_1, typ=1).round(3)"
   ]
  },
  {
   "cell_type": "code",
   "execution_count": 93,
   "id": "61b6832c",
   "metadata": {},
   "outputs": [
    {
     "data": {
      "text/plain": [
       "109936.322"
      ]
     },
     "execution_count": 93,
     "metadata": {},
     "output_type": "execute_result"
    }
   ],
   "source": [
    "lm_model_pop = smf.ols('sales ~ local_population', data=brand_1).fit()\n",
    "resid_sq_pop = np.sum(lm_model_pop.resid ** 2)\n",
    "round(resid_sq_pop, 3)"
   ]
  },
  {
   "cell_type": "code",
   "execution_count": 94,
   "id": "0d446b09",
   "metadata": {},
   "outputs": [
    {
     "data": {
      "text/plain": [
       "149.125"
      ]
     },
     "execution_count": 94,
     "metadata": {},
     "output_type": "execute_result"
    }
   ],
   "source": [
    "round(resid_sq_pop - resid_sq_all, 3)"
   ]
  },
  {
   "cell_type": "code",
   "execution_count": 95,
   "id": "276e9167",
   "metadata": {},
   "outputs": [
    {
     "data": {
      "text/html": [
       "<div>\n",
       "<style scoped>\n",
       "    .dataframe tbody tr th:only-of-type {\n",
       "        vertical-align: middle;\n",
       "    }\n",
       "\n",
       "    .dataframe tbody tr th {\n",
       "        vertical-align: top;\n",
       "    }\n",
       "\n",
       "    .dataframe thead th {\n",
       "        text-align: right;\n",
       "    }\n",
       "</style>\n",
       "<table border=\"1\" class=\"dataframe\">\n",
       "  <thead>\n",
       "    <tr style=\"text-align: right;\">\n",
       "      <th></th>\n",
       "      <th>sum_sq</th>\n",
       "      <th>df</th>\n",
       "      <th>F</th>\n",
       "      <th>PR(&gt;F)</th>\n",
       "    </tr>\n",
       "  </thead>\n",
       "  <tbody>\n",
       "    <tr>\n",
       "      <th>brand</th>\n",
       "      <td>149.125</td>\n",
       "      <td>1.0</td>\n",
       "      <td>0.037</td>\n",
       "      <td>0.85</td>\n",
       "    </tr>\n",
       "    <tr>\n",
       "      <th>local_population</th>\n",
       "      <td>187442.822</td>\n",
       "      <td>1.0</td>\n",
       "      <td>46.098</td>\n",
       "      <td>0.00</td>\n",
       "    </tr>\n",
       "    <tr>\n",
       "      <th>Residual</th>\n",
       "      <td>109787.197</td>\n",
       "      <td>27.0</td>\n",
       "      <td>NaN</td>\n",
       "      <td>NaN</td>\n",
       "    </tr>\n",
       "  </tbody>\n",
       "</table>\n",
       "</div>"
      ],
      "text/plain": [
       "                      sum_sq    df       F  PR(>F)\n",
       "brand                149.125   1.0   0.037    0.85\n",
       "local_population  187442.822   1.0  46.098    0.00\n",
       "Residual          109787.197  27.0     NaN     NaN"
      ]
     },
     "execution_count": 95,
     "metadata": {},
     "output_type": "execute_result"
    }
   ],
   "source": [
    "sm.stats.anova_lm(lm_model_1, typ=2).round(3)"
   ]
  },
  {
   "cell_type": "code",
   "execution_count": 96,
   "id": "56bb86ca",
   "metadata": {},
   "outputs": [
    {
     "data": {
      "text/plain": [
       "array([0.037, 0.85 , 1.   ])"
      ]
     },
     "execution_count": 96,
     "metadata": {},
     "output_type": "execute_result"
    }
   ],
   "source": [
    "np.round(lm_model_1.compare_f_test(lm_model_pop), 3)"
   ]
  },
  {
   "cell_type": "code",
   "execution_count": 97,
   "id": "abd6461a",
   "metadata": {},
   "outputs": [
    {
     "data": {
      "text/html": [
       "<div>\n",
       "<style scoped>\n",
       "    .dataframe tbody tr th:only-of-type {\n",
       "        vertical-align: middle;\n",
       "    }\n",
       "\n",
       "    .dataframe tbody tr th {\n",
       "        vertical-align: top;\n",
       "    }\n",
       "\n",
       "    .dataframe thead th {\n",
       "        text-align: right;\n",
       "    }\n",
       "</style>\n",
       "<table border=\"1\" class=\"dataframe\">\n",
       "  <thead>\n",
       "    <tr style=\"text-align: right;\">\n",
       "      <th></th>\n",
       "      <th>sales</th>\n",
       "      <th>brand</th>\n",
       "      <th>local_population</th>\n",
       "    </tr>\n",
       "  </thead>\n",
       "  <tbody>\n",
       "    <tr>\n",
       "      <th>0</th>\n",
       "      <td>385.8</td>\n",
       "      <td>A</td>\n",
       "      <td>265.6</td>\n",
       "    </tr>\n",
       "    <tr>\n",
       "      <th>1</th>\n",
       "      <td>473.0</td>\n",
       "      <td>A</td>\n",
       "      <td>386.1</td>\n",
       "    </tr>\n",
       "    <tr>\n",
       "      <th>2</th>\n",
       "      <td>451.6</td>\n",
       "      <td>A</td>\n",
       "      <td>522.7</td>\n",
       "    </tr>\n",
       "    <tr>\n",
       "      <th>3</th>\n",
       "      <td>556.9</td>\n",
       "      <td>A</td>\n",
       "      <td>530.5</td>\n",
       "    </tr>\n",
       "    <tr>\n",
       "      <th>4</th>\n",
       "      <td>423.8</td>\n",
       "      <td>A</td>\n",
       "      <td>397.8</td>\n",
       "    </tr>\n",
       "  </tbody>\n",
       "</table>\n",
       "</div>"
      ],
      "text/plain": [
       "   sales brand  local_population\n",
       "0  385.8     A             265.6\n",
       "1  473.0     A             386.1\n",
       "2  451.6     A             522.7\n",
       "3  556.9     A             530.5\n",
       "4  423.8     A             397.8"
      ]
     },
     "execution_count": 97,
     "metadata": {},
     "output_type": "execute_result"
    }
   ],
   "source": [
    "brand_2 = pd.read_csv('8-4-2-brand-2.csv')\n",
    "brand_2.head()"
   ]
  },
  {
   "cell_type": "code",
   "execution_count": 98,
   "id": "a6be720a",
   "metadata": {},
   "outputs": [
    {
     "data": {
      "text/html": [
       "<div>\n",
       "<style scoped>\n",
       "    .dataframe tbody tr th:only-of-type {\n",
       "        vertical-align: middle;\n",
       "    }\n",
       "\n",
       "    .dataframe tbody tr th {\n",
       "        vertical-align: top;\n",
       "    }\n",
       "\n",
       "    .dataframe thead th {\n",
       "        text-align: right;\n",
       "    }\n",
       "</style>\n",
       "<table border=\"1\" class=\"dataframe\">\n",
       "  <thead>\n",
       "    <tr style=\"text-align: right;\">\n",
       "      <th></th>\n",
       "      <th>sum_sq</th>\n",
       "      <th>df</th>\n",
       "      <th>F</th>\n",
       "      <th>PR(&gt;F)</th>\n",
       "    </tr>\n",
       "  </thead>\n",
       "  <tbody>\n",
       "    <tr>\n",
       "      <th>brand</th>\n",
       "      <td>34.275</td>\n",
       "      <td>1.0</td>\n",
       "      <td>0.007</td>\n",
       "      <td>0.933</td>\n",
       "    </tr>\n",
       "    <tr>\n",
       "      <th>local_population</th>\n",
       "      <td>484195.711</td>\n",
       "      <td>1.0</td>\n",
       "      <td>100.427</td>\n",
       "      <td>0.000</td>\n",
       "    </tr>\n",
       "    <tr>\n",
       "      <th>Residual</th>\n",
       "      <td>226604.693</td>\n",
       "      <td>47.0</td>\n",
       "      <td>NaN</td>\n",
       "      <td>NaN</td>\n",
       "    </tr>\n",
       "  </tbody>\n",
       "</table>\n",
       "</div>"
      ],
      "text/plain": [
       "                      sum_sq    df        F  PR(>F)\n",
       "brand                 34.275   1.0    0.007   0.933\n",
       "local_population  484195.711   1.0  100.427   0.000\n",
       "Residual          226604.693  47.0      NaN     NaN"
      ]
     },
     "execution_count": 98,
     "metadata": {},
     "output_type": "execute_result"
    }
   ],
   "source": [
    "lm_dame_2 = smf.ols('sales ~ brand + local_population', brand_2).fit()\n",
    "sm.stats.anova_lm(lm_dame_2, typ=2).round(3)"
   ]
  },
  {
   "cell_type": "code",
   "execution_count": 99,
   "id": "205e9feb",
   "metadata": {},
   "outputs": [
    {
     "data": {
      "text/plain": [
       "<seaborn.axisgrid.FacetGrid at 0x7f7c10047eb0>"
      ]
     },
     "execution_count": 99,
     "metadata": {},
     "output_type": "execute_result"
    },
    {
     "data": {
      "image/png": "[encoded data removed]",
      "text/plain": [
       "<Figure size 576x288 with 2 Axes>"
      ]
     },
     "metadata": {},
     "output_type": "display_data"
    }
   ],
   "source": [
    "sns.lmplot(x='local_population', y='sales', data=brand_2, col='brand', scatter_kws={'color': 'black'},\n",
    "          line_kws={'color': 'black'}, ci=None, height=4, aspect=1)"
   ]
  },
  {
   "cell_type": "code",
   "execution_count": 100,
   "id": "8f6309fb",
   "metadata": {},
   "outputs": [
    {
     "data": {
      "text/plain": [
       "Intercept                      254.524\n",
       "brand[T.B]                    -182.924\n",
       "local_population                 0.486\n",
       "brand[T.B]:local_population      0.508\n",
       "dtype: float64"
      ]
     },
     "execution_count": 100,
     "metadata": {},
     "output_type": "execute_result"
    }
   ],
   "source": [
    "lm_model_2 = smf.ols('sales ~ brand * local_population', data=brand_2).fit()\n",
    "lm_model_2.params"
   ]
  },
  {
   "cell_type": "code",
   "execution_count": 101,
   "id": "fad18ca0",
   "metadata": {},
   "outputs": [
    {
     "data": {
      "text/html": [
       "<div>\n",
       "<style scoped>\n",
       "    .dataframe tbody tr th:only-of-type {\n",
       "        vertical-align: middle;\n",
       "    }\n",
       "\n",
       "    .dataframe tbody tr th {\n",
       "        vertical-align: top;\n",
       "    }\n",
       "\n",
       "    .dataframe thead th {\n",
       "        text-align: right;\n",
       "    }\n",
       "</style>\n",
       "<table border=\"1\" class=\"dataframe\">\n",
       "  <thead>\n",
       "    <tr style=\"text-align: right;\">\n",
       "      <th></th>\n",
       "      <th>sum_sq</th>\n",
       "      <th>df</th>\n",
       "      <th>F</th>\n",
       "      <th>PR(&gt;F)</th>\n",
       "    </tr>\n",
       "  </thead>\n",
       "  <tbody>\n",
       "    <tr>\n",
       "      <th>brand</th>\n",
       "      <td>34.275</td>\n",
       "      <td>1.0</td>\n",
       "      <td>0.009</td>\n",
       "      <td>0.924</td>\n",
       "    </tr>\n",
       "    <tr>\n",
       "      <th>local_population</th>\n",
       "      <td>484195.711</td>\n",
       "      <td>1.0</td>\n",
       "      <td>130.689</td>\n",
       "      <td>0.000</td>\n",
       "    </tr>\n",
       "    <tr>\n",
       "      <th>brand:local_population</th>\n",
       "      <td>56176.608</td>\n",
       "      <td>1.0</td>\n",
       "      <td>15.163</td>\n",
       "      <td>0.000</td>\n",
       "    </tr>\n",
       "    <tr>\n",
       "      <th>Residual</th>\n",
       "      <td>170428.085</td>\n",
       "      <td>46.0</td>\n",
       "      <td>NaN</td>\n",
       "      <td>NaN</td>\n",
       "    </tr>\n",
       "  </tbody>\n",
       "</table>\n",
       "</div>"
      ],
      "text/plain": [
       "                            sum_sq    df        F  PR(>F)\n",
       "brand                       34.275   1.0    0.009   0.924\n",
       "local_population        484195.711   1.0  130.689   0.000\n",
       "brand:local_population   56176.608   1.0   15.163   0.000\n",
       "Residual                170428.085  46.0      NaN     NaN"
      ]
     },
     "execution_count": 101,
     "metadata": {},
     "output_type": "execute_result"
    }
   ],
   "source": [
    "sm.stats.anova_lm(lm_model_2, typ=2).round(3)"
   ]
  },
  {
   "cell_type": "code",
   "execution_count": 102,
   "id": "a6614b50",
   "metadata": {},
   "outputs": [
    {
     "data": {
      "text/plain": [
       "170428.085"
      ]
     },
     "execution_count": 102,
     "metadata": {},
     "output_type": "execute_result"
    }
   ],
   "source": [
    "resid_sq_full = np.sum(lm_model_2.resid ** 2)\n",
    "round(resid_sq_full, 3)"
   ]
  },
  {
   "cell_type": "code",
   "execution_count": 103,
   "id": "5f1e492a",
   "metadata": {},
   "outputs": [
    {
     "data": {
      "text/plain": [
       "220745.808"
      ]
     },
     "execution_count": 103,
     "metadata": {},
     "output_type": "execute_result"
    }
   ],
   "source": [
    "mod_non_brand = smf.ols('sales ~ local_population + brand:local_population', data=brand_2).fit()\n",
    "resid_sq_non_brand = np.sum(mod_non_brand.resid ** 2)\n",
    "round(resid_sq_non_brand, 3)"
   ]
  },
  {
   "cell_type": "code",
   "execution_count": 104,
   "id": "edf219d4",
   "metadata": {},
   "outputs": [
    {
     "data": {
      "text/plain": [
       "50317.723"
      ]
     },
     "execution_count": 104,
     "metadata": {},
     "output_type": "execute_result"
    }
   ],
   "source": [
    "round(resid_sq_non_brand - resid_sq_full, 3)"
   ]
  },
  {
   "cell_type": "code",
   "execution_count": 105,
   "id": "5b5f609f",
   "metadata": {},
   "outputs": [
    {
     "data": {
      "text/html": [
       "<div>\n",
       "<style scoped>\n",
       "    .dataframe tbody tr th:only-of-type {\n",
       "        vertical-align: middle;\n",
       "    }\n",
       "\n",
       "    .dataframe tbody tr th {\n",
       "        vertical-align: top;\n",
       "    }\n",
       "\n",
       "    .dataframe thead th {\n",
       "        text-align: right;\n",
       "    }\n",
       "</style>\n",
       "<table border=\"1\" class=\"dataframe\">\n",
       "  <thead>\n",
       "    <tr style=\"text-align: right;\">\n",
       "      <th></th>\n",
       "      <th>sum_sq</th>\n",
       "      <th>df</th>\n",
       "      <th>F</th>\n",
       "      <th>PR(&gt;F)</th>\n",
       "    </tr>\n",
       "  </thead>\n",
       "  <tbody>\n",
       "    <tr>\n",
       "      <th>Intercept</th>\n",
       "      <td>195523.067</td>\n",
       "      <td>1.0</td>\n",
       "      <td>52.773</td>\n",
       "      <td>0.000</td>\n",
       "    </tr>\n",
       "    <tr>\n",
       "      <th>brand</th>\n",
       "      <td>50317.723</td>\n",
       "      <td>1.0</td>\n",
       "      <td>13.581</td>\n",
       "      <td>0.001</td>\n",
       "    </tr>\n",
       "    <tr>\n",
       "      <th>local_population</th>\n",
       "      <td>100639.827</td>\n",
       "      <td>1.0</td>\n",
       "      <td>27.164</td>\n",
       "      <td>0.000</td>\n",
       "    </tr>\n",
       "    <tr>\n",
       "      <th>brand:local_population</th>\n",
       "      <td>56176.608</td>\n",
       "      <td>1.0</td>\n",
       "      <td>15.163</td>\n",
       "      <td>0.000</td>\n",
       "    </tr>\n",
       "    <tr>\n",
       "      <th>Residual</th>\n",
       "      <td>170428.085</td>\n",
       "      <td>46.0</td>\n",
       "      <td>NaN</td>\n",
       "      <td>NaN</td>\n",
       "    </tr>\n",
       "  </tbody>\n",
       "</table>\n",
       "</div>"
      ],
      "text/plain": [
       "                            sum_sq    df       F  PR(>F)\n",
       "Intercept               195523.067   1.0  52.773   0.000\n",
       "brand                    50317.723   1.0  13.581   0.001\n",
       "local_population        100639.827   1.0  27.164   0.000\n",
       "brand:local_population   56176.608   1.0  15.163   0.000\n",
       "Residual                170428.085  46.0     NaN     NaN"
      ]
     },
     "execution_count": 105,
     "metadata": {},
     "output_type": "execute_result"
    }
   ],
   "source": [
    "sm.stats.anova_lm(lm_model_2, typ=3).round(3)"
   ]
  },
  {
   "cell_type": "code",
   "execution_count": 106,
   "id": "1b0e8801",
   "metadata": {},
   "outputs": [
    {
     "name": "stdout",
     "output_type": "stream",
     "text": [
      "交互作用なしモデルのAIC 568.841\n",
      "交互作用ありモデルのAIC 556.596\n"
     ]
    }
   ],
   "source": [
    "print('交互作用なしモデルのAIC', round(lm_dame_2.aic, 3))\n",
    "print('交互作用ありモデルのAIC', round(lm_model_2.aic, 3))"
   ]
  },
  {
   "cell_type": "code",
   "execution_count": 107,
   "id": "9ac9c358",
   "metadata": {},
   "outputs": [
    {
     "data": {
      "text/plain": [
       "Intercept                      254.524\n",
       "brand[T.B]                    -182.924\n",
       "local_population                 0.486\n",
       "brand[T.B]:local_population      0.508\n",
       "dtype: float64"
      ]
     },
     "execution_count": 107,
     "metadata": {},
     "output_type": "execute_result"
    }
   ],
   "source": [
    "lm_model_2.params"
   ]
  },
  {
   "cell_type": "code",
   "execution_count": 108,
   "id": "b3127ba5",
   "metadata": {},
   "outputs": [],
   "source": [
    "Intercept = lm_model_2.params[0]\n",
    "coef_brand_B = lm_model_2.params[1]\n",
    "coef_local_population = lm_model_2.params[2]\n",
    "Interaction = lm_model_2.params[3]"
   ]
  },
  {
   "cell_type": "code",
   "execution_count": 109,
   "id": "fd381ec4",
   "metadata": {},
   "outputs": [
    {
     "data": {
      "text/plain": [
       "0    254.524\n",
       "dtype: float64"
      ]
     },
     "execution_count": 109,
     "metadata": {},
     "output_type": "execute_result"
    }
   ],
   "source": [
    "lm_model_2.predict(pd.DataFrame({'brand':['A'], 'local_population':[0]}))"
   ]
  },
  {
   "cell_type": "code",
   "execution_count": 110,
   "id": "7dd26ea5",
   "metadata": {},
   "outputs": [
    {
     "data": {
      "text/plain": [
       "254.524"
      ]
     },
     "execution_count": 110,
     "metadata": {},
     "output_type": "execute_result"
    }
   ],
   "source": [
    "pred_1 = Intercept\n",
    "round(pred_1, 3)"
   ]
  },
  {
   "cell_type": "code",
   "execution_count": 111,
   "id": "eab9dadc",
   "metadata": {},
   "outputs": [
    {
     "data": {
      "text/plain": [
       "0    327.413\n",
       "dtype: float64"
      ]
     },
     "execution_count": 111,
     "metadata": {},
     "output_type": "execute_result"
    }
   ],
   "source": [
    "lm_model_2.predict(pd.DataFrame({'brand':['A'], 'local_population':[150]}))"
   ]
  },
  {
   "cell_type": "code",
   "execution_count": 112,
   "id": "208f33f8",
   "metadata": {},
   "outputs": [
    {
     "data": {
      "text/plain": [
       "327.413"
      ]
     },
     "execution_count": 112,
     "metadata": {},
     "output_type": "execute_result"
    }
   ],
   "source": [
    "pred_3 = Intercept + coef_local_population * 150\n",
    "round(pred_3, 3)"
   ]
  },
  {
   "cell_type": "code",
   "execution_count": 113,
   "id": "a22bdd63",
   "metadata": {},
   "outputs": [
    {
     "data": {
      "text/plain": [
       "0    220.679\n",
       "dtype: float64"
      ]
     },
     "execution_count": 113,
     "metadata": {},
     "output_type": "execute_result"
    }
   ],
   "source": [
    "lm_model_2.predict(pd.DataFrame({'brand':['B'], 'local_population':[150]}))"
   ]
  },
  {
   "cell_type": "code",
   "execution_count": 114,
   "id": "946cd425",
   "metadata": {},
   "outputs": [
    {
     "data": {
      "text/plain": [
       "220.679"
      ]
     },
     "execution_count": 114,
     "metadata": {},
     "output_type": "execute_result"
    }
   ],
   "source": [
    "pred_4 = Intercept + coef_brand_B + (coef_local_population + Interaction) * 150\n",
    "round(pred_4, 3)"
   ]
  },
  {
   "cell_type": "code",
   "execution_count": 115,
   "id": "b4acbbbe",
   "metadata": {},
   "outputs": [
    {
     "data": {
      "text/html": [
       "<div>\n",
       "<style scoped>\n",
       "    .dataframe tbody tr th:only-of-type {\n",
       "        vertical-align: middle;\n",
       "    }\n",
       "\n",
       "    .dataframe tbody tr th {\n",
       "        vertical-align: top;\n",
       "    }\n",
       "\n",
       "    .dataframe thead th {\n",
       "        text-align: right;\n",
       "    }\n",
       "</style>\n",
       "<table border=\"1\" class=\"dataframe\">\n",
       "  <thead>\n",
       "    <tr style=\"text-align: right;\">\n",
       "      <th></th>\n",
       "      <th>sales</th>\n",
       "      <th>brand</th>\n",
       "      <th>local_population</th>\n",
       "    </tr>\n",
       "  </thead>\n",
       "  <tbody>\n",
       "    <tr>\n",
       "      <th>0</th>\n",
       "      <td>385.8</td>\n",
       "      <td>0.0</td>\n",
       "      <td>265.6</td>\n",
       "    </tr>\n",
       "    <tr>\n",
       "      <th>1</th>\n",
       "      <td>473.0</td>\n",
       "      <td>0.0</td>\n",
       "      <td>386.1</td>\n",
       "    </tr>\n",
       "    <tr>\n",
       "      <th>2</th>\n",
       "      <td>451.6</td>\n",
       "      <td>0.0</td>\n",
       "      <td>522.7</td>\n",
       "    </tr>\n",
       "    <tr>\n",
       "      <th>3</th>\n",
       "      <td>556.9</td>\n",
       "      <td>0.0</td>\n",
       "      <td>530.5</td>\n",
       "    </tr>\n",
       "    <tr>\n",
       "      <th>4</th>\n",
       "      <td>423.8</td>\n",
       "      <td>0.0</td>\n",
       "      <td>397.8</td>\n",
       "    </tr>\n",
       "  </tbody>\n",
       "</table>\n",
       "</div>"
      ],
      "text/plain": [
       "   sales  brand  local_population\n",
       "0  385.8    0.0             265.6\n",
       "1  473.0    0.0             386.1\n",
       "2  451.6    0.0             522.7\n",
       "3  556.9    0.0             530.5\n",
       "4  423.8    0.0             397.8"
      ]
     },
     "execution_count": 115,
     "metadata": {},
     "output_type": "execute_result"
    }
   ],
   "source": [
    "brand_3 = pd.read_csv('8-4-3-brand-3.csv')\n",
    "brand_3.head()"
   ]
  },
  {
   "cell_type": "code",
   "execution_count": 116,
   "id": "ecf76ab9",
   "metadata": {},
   "outputs": [
    {
     "data": {
      "text/plain": [
       "0.0     25\n",
       "99.0    25\n",
       "Name: brand, dtype: int64"
      ]
     },
     "execution_count": 116,
     "metadata": {},
     "output_type": "execute_result"
    }
   ],
   "source": [
    "brand_3.brand.value_counts()"
   ]
  },
  {
   "cell_type": "code",
   "execution_count": 117,
   "id": "724f6f39",
   "metadata": {},
   "outputs": [
    {
     "data": {
      "text/plain": [
       "Intercept                 254.524\n",
       "brand                      -1.848\n",
       "local_population            0.486\n",
       "brand:local_population      0.005\n",
       "dtype: float64"
      ]
     },
     "execution_count": 117,
     "metadata": {},
     "output_type": "execute_result"
    }
   ],
   "source": [
    "lm_model_3 = smf.ols('sales ~ brand * local_population', data=brand_3).fit()\n",
    "lm_model_3.params"
   ]
  },
  {
   "cell_type": "code",
   "execution_count": 118,
   "id": "b5b6f2c6",
   "metadata": {},
   "outputs": [
    {
     "data": {
      "text/plain": [
       "Intercept                            254.524\n",
       "C(brand)[T.99.0]                    -182.924\n",
       "local_population                       0.486\n",
       "C(brand)[T.99.0]:local_population      0.508\n",
       "dtype: float64"
      ]
     },
     "execution_count": 118,
     "metadata": {},
     "output_type": "execute_result"
    }
   ],
   "source": [
    "lm_model_3_2 = smf.ols('sales ~ C(brand) * local_population', data=brand_3).fit()\n",
    "lm_model_3_2.params"
   ]
  },
  {
   "cell_type": "code",
   "execution_count": 119,
   "id": "a8613a50",
   "metadata": {},
   "outputs": [
    {
     "data": {
      "text/plain": [
       "DesignMatrix with shape (50, 4)\n",
       "  Intercept  brand[T.B]  local_population  brand[T.B]:local_population\n",
       "          1           0             265.6                          0.0\n",
       "          1           0             386.1                          0.0\n",
       "          1           0             522.7                          0.0\n",
       "          1           0             530.5                          0.0\n",
       "          1           0             397.8                          0.0\n",
       "          1           0             142.3                          0.0\n",
       "          1           0             398.6                          0.0\n",
       "          1           0             222.7                          0.0\n",
       "          1           0             466.3                          0.0\n",
       "          1           0             547.3                          0.0\n",
       "          1           0             357.4                          0.0\n",
       "          1           0             401.8                          0.0\n",
       "          1           0             132.5                          0.0\n",
       "          1           0             370.0                          0.0\n",
       "          1           0             164.6                          0.0\n",
       "          1           0             407.3                          0.0\n",
       "          1           0             281.8                          0.0\n",
       "          1           0             483.9                          0.0\n",
       "          1           0             124.3                          0.0\n",
       "          1           0             154.9                          0.0\n",
       "          1           0             442.0                          0.0\n",
       "          1           0             357.3                          0.0\n",
       "          1           0             385.8                          0.0\n",
       "          1           0             521.9                          0.0\n",
       "          1           0             343.9                          0.0\n",
       "          1           1             505.1                        505.1\n",
       "          1           1             355.1                        355.1\n",
       "          1           1             563.4                        563.4\n",
       "          1           1             433.5                        433.5\n",
       "          1           1             174.4                        174.4\n",
       "  [20 rows omitted]\n",
       "  Terms:\n",
       "    'Intercept' (column 0)\n",
       "    'brand' (column 1)\n",
       "    'local_population' (column 2)\n",
       "    'brand:local_population' (column 3)\n",
       "  (to view full data, use np.asarray(this_obj))"
      ]
     },
     "execution_count": 119,
     "metadata": {},
     "output_type": "execute_result"
    }
   ],
   "source": [
    "from patsy import dmatrix\n",
    "dmatrix('brand * local_population', brand_2)"
   ]
  },
  {
   "cell_type": "code",
   "execution_count": null,
   "id": "96fb85c5",
   "metadata": {},
   "outputs": [],
   "source": []
  }
 ],
 "metadata": {
  "kernelspec": {
   "display_name": "Python 3 (ipykernel)",
   "language": "python",
   "name": "python3"
  },
  "language_info": {
   "codemirror_mode": {
    "name": "ipython",
    "version": 3
   },
   "file_extension": ".py",
   "mimetype": "text/x-python",
   "name": "python",
   "nbconvert_exporter": "python",
   "pygments_lexer": "ipython3",
   "version": "3.9.7"
  }
 },
 "nbformat": 4,
 "nbformat_minor": 5
}
